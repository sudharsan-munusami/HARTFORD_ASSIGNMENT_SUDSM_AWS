{
 "cells": [
  {
   "cell_type": "markdown",
   "metadata": {},
   "source": [
    "# Libraries and Installations"
   ]
  },
  {
   "cell_type": "code",
   "execution_count": 1,
   "metadata": {
    "scrolled": true
   },
   "outputs": [
    {
     "name": "stdout",
     "output_type": "stream",
     "text": [
      "Requirement already satisfied: sagemaker-experiments in c:\\users\\sudharsan.munusa\\anaconda3\\lib\\site-packages (0.1.30)\n",
      "Requirement already satisfied: boto3>=1.16.27 in c:\\users\\sudharsan.munusa\\anaconda3\\lib\\site-packages (from sagemaker-experiments) (1.17.57)\n",
      "Requirement already satisfied: botocore<1.21.0,>=1.20.57 in c:\\users\\sudharsan.munusa\\anaconda3\\lib\\site-packages (from boto3>=1.16.27->sagemaker-experiments) (1.20.62)\n",
      "Requirement already satisfied: jmespath<1.0.0,>=0.7.1 in c:\\users\\sudharsan.munusa\\anaconda3\\lib\\site-packages (from boto3>=1.16.27->sagemaker-experiments) (0.10.0)\n",
      "Requirement already satisfied: s3transfer<0.5.0,>=0.4.0 in c:\\users\\sudharsan.munusa\\anaconda3\\lib\\site-packages (from boto3>=1.16.27->sagemaker-experiments) (0.4.2)\n",
      "Requirement already satisfied: python-dateutil<3.0.0,>=2.1 in c:\\users\\sudharsan.munusa\\anaconda3\\lib\\site-packages (from botocore<1.21.0,>=1.20.57->boto3>=1.16.27->sagemaker-experiments) (2.8.1)\n",
      "Requirement already satisfied: urllib3<1.27,>=1.25.4 in c:\\users\\sudharsan.munusa\\anaconda3\\lib\\site-packages (from botocore<1.21.0,>=1.20.57->boto3>=1.16.27->sagemaker-experiments) (1.25.11)\n",
      "Requirement already satisfied: six>=1.5 in c:\\users\\sudharsan.munusa\\anaconda3\\lib\\site-packages (from python-dateutil<3.0.0,>=2.1->botocore<1.21.0,>=1.20.57->boto3>=1.16.27->sagemaker-experiments) (1.15.0)\n",
      "Requirement already satisfied: s3fs in c:\\users\\sudharsan.munusa\\anaconda3\\lib\\site-packages (2021.4.0)\n",
      "Requirement already satisfied: aiobotocore>=1.0.1 in c:\\users\\sudharsan.munusa\\anaconda3\\lib\\site-packages (from s3fs) (1.3.0)\n",
      "Requirement already satisfied: fsspec==2021.04.0 in c:\\users\\sudharsan.munusa\\anaconda3\\lib\\site-packages (from s3fs) (2021.4.0)\n",
      "Requirement already satisfied: aiohttp>=3.3.1 in c:\\users\\sudharsan.munusa\\anaconda3\\lib\\site-packages (from aiobotocore>=1.0.1->s3fs) (3.7.4.post0)\n",
      "Collecting botocore<1.20.50,>=1.20.49\n",
      "  Using cached botocore-1.20.49-py2.py3-none-any.whl (7.4 MB)\n",
      "Requirement already satisfied: aioitertools>=0.5.1 in c:\\users\\sudharsan.munusa\\anaconda3\\lib\\site-packages (from aiobotocore>=1.0.1->s3fs) (0.7.1)\n",
      "Requirement already satisfied: wrapt>=1.10.10 in c:\\users\\sudharsan.munusa\\anaconda3\\lib\\site-packages (from aiobotocore>=1.0.1->s3fs) (1.11.2)\n",
      "Requirement already satisfied: async-timeout<4.0,>=3.0 in c:\\users\\sudharsan.munusa\\anaconda3\\lib\\site-packages (from aiohttp>=3.3.1->aiobotocore>=1.0.1->s3fs) (3.0.1)\n",
      "Requirement already satisfied: yarl<2.0,>=1.0 in c:\\users\\sudharsan.munusa\\anaconda3\\lib\\site-packages (from aiohttp>=3.3.1->aiobotocore>=1.0.1->s3fs) (1.6.3)\n",
      "Requirement already satisfied: chardet<5.0,>=2.0 in c:\\users\\sudharsan.munusa\\anaconda3\\lib\\site-packages (from aiohttp>=3.3.1->aiobotocore>=1.0.1->s3fs) (3.0.4)\n",
      "Requirement already satisfied: attrs>=17.3.0 in c:\\users\\sudharsan.munusa\\anaconda3\\lib\\site-packages (from aiohttp>=3.3.1->aiobotocore>=1.0.1->s3fs) (20.3.0)\n",
      "Requirement already satisfied: typing-extensions>=3.6.5 in c:\\users\\sudharsan.munusa\\anaconda3\\lib\\site-packages (from aiohttp>=3.3.1->aiobotocore>=1.0.1->s3fs) (3.7.4.3)\n",
      "Requirement already satisfied: multidict<7.0,>=4.5 in c:\\users\\sudharsan.munusa\\anaconda3\\lib\\site-packages (from aiohttp>=3.3.1->aiobotocore>=1.0.1->s3fs) (5.1.0)\n",
      "Requirement already satisfied: urllib3<1.27,>=1.25.4 in c:\\users\\sudharsan.munusa\\anaconda3\\lib\\site-packages (from botocore<1.20.50,>=1.20.49->aiobotocore>=1.0.1->s3fs) (1.25.11)\n",
      "Requirement already satisfied: jmespath<1.0.0,>=0.7.1 in c:\\users\\sudharsan.munusa\\anaconda3\\lib\\site-packages (from botocore<1.20.50,>=1.20.49->aiobotocore>=1.0.1->s3fs) (0.10.0)\n",
      "Requirement already satisfied: python-dateutil<3.0.0,>=2.1 in c:\\users\\sudharsan.munusa\\anaconda3\\lib\\site-packages (from botocore<1.20.50,>=1.20.49->aiobotocore>=1.0.1->s3fs) (2.8.1)\n",
      "Requirement already satisfied: idna>=2.0 in c:\\users\\sudharsan.munusa\\anaconda3\\lib\\site-packages (from yarl<2.0,>=1.0->aiohttp>=3.3.1->aiobotocore>=1.0.1->s3fs) (2.10)\n",
      "Requirement already satisfied: six>=1.5 in c:\\users\\sudharsan.munusa\\anaconda3\\lib\\site-packages (from python-dateutil<3.0.0,>=2.1->botocore<1.20.50,>=1.20.49->aiobotocore>=1.0.1->s3fs) (1.15.0)\n",
      "Installing collected packages: botocore\n",
      "  Attempting uninstall: botocore\n",
      "    Found existing installation: botocore 1.20.62\n",
      "    Uninstalling botocore-1.20.62:\n",
      "      Successfully uninstalled botocore-1.20.62\n",
      "Successfully installed botocore-1.20.49\n"
     ]
    },
    {
     "name": "stderr",
     "output_type": "stream",
     "text": [
      "ERROR: After October 2020 you may experience errors when installing or updating packages. This is because pip will change the way that it resolves dependency conflicts.\n",
      "\n",
      "We recommend you use --use-feature=2020-resolver to test your packages with the new resolver before it becomes the default.\n",
      "\n",
      "boto3 1.17.57 requires botocore<1.21.0,>=1.20.57, but you'll have botocore 1.20.49 which is incompatible.\n",
      "awscli 1.19.60 requires botocore==1.20.60, but you'll have botocore 1.20.49 which is incompatible.\n"
     ]
    },
    {
     "name": "stdout",
     "output_type": "stream",
     "text": [
      "Requirement already satisfied: matplotlib in c:\\users\\sudharsan.munusa\\anaconda3\\lib\\site-packages (3.3.2)\n",
      "Requirement already satisfied: pillow>=6.2.0 in c:\\users\\sudharsan.munusa\\anaconda3\\lib\\site-packages (from matplotlib) (8.0.1)\n",
      "Requirement already satisfied: pyparsing!=2.0.4,!=2.1.2,!=2.1.6,>=2.0.3 in c:\\users\\sudharsan.munusa\\anaconda3\\lib\\site-packages (from matplotlib) (2.4.7)\n",
      "Requirement already satisfied: kiwisolver>=1.0.1 in c:\\users\\sudharsan.munusa\\anaconda3\\lib\\site-packages (from matplotlib) (1.3.0)\n",
      "Requirement already satisfied: certifi>=2020.06.20 in c:\\users\\sudharsan.munusa\\anaconda3\\lib\\site-packages (from matplotlib) (2020.6.20)\n",
      "Requirement already satisfied: cycler>=0.10 in c:\\users\\sudharsan.munusa\\anaconda3\\lib\\site-packages (from matplotlib) (0.10.0)\n",
      "Requirement already satisfied: python-dateutil>=2.1 in c:\\users\\sudharsan.munusa\\anaconda3\\lib\\site-packages (from matplotlib) (2.8.1)\n",
      "Requirement already satisfied: numpy>=1.15 in c:\\users\\sudharsan.munusa\\anaconda3\\lib\\site-packages (from matplotlib) (1.19.2)\n",
      "Requirement already satisfied: six in c:\\users\\sudharsan.munusa\\anaconda3\\lib\\site-packages (from cycler>=0.10->matplotlib) (1.15.0)\n",
      "Requirement already satisfied: seaborn in c:\\users\\sudharsan.munusa\\anaconda3\\lib\\site-packages (0.11.0)\n",
      "Requirement already satisfied: numpy>=1.15 in c:\\users\\sudharsan.munusa\\anaconda3\\lib\\site-packages (from seaborn) (1.19.2)\n",
      "Requirement already satisfied: scipy>=1.0 in c:\\users\\sudharsan.munusa\\anaconda3\\lib\\site-packages (from seaborn) (1.5.2)\n",
      "Requirement already satisfied: matplotlib>=2.2 in c:\\users\\sudharsan.munusa\\anaconda3\\lib\\site-packages (from seaborn) (3.3.2)\n",
      "Requirement already satisfied: pandas>=0.23 in c:\\users\\sudharsan.munusa\\anaconda3\\lib\\site-packages (from seaborn) (1.1.3)\n",
      "Requirement already satisfied: pillow>=6.2.0 in c:\\users\\sudharsan.munusa\\anaconda3\\lib\\site-packages (from matplotlib>=2.2->seaborn) (8.0.1)\n",
      "Requirement already satisfied: pyparsing!=2.0.4,!=2.1.2,!=2.1.6,>=2.0.3 in c:\\users\\sudharsan.munusa\\anaconda3\\lib\\site-packages (from matplotlib>=2.2->seaborn) (2.4.7)\n",
      "Requirement already satisfied: python-dateutil>=2.1 in c:\\users\\sudharsan.munusa\\anaconda3\\lib\\site-packages (from matplotlib>=2.2->seaborn) (2.8.1)\n",
      "Requirement already satisfied: cycler>=0.10 in c:\\users\\sudharsan.munusa\\anaconda3\\lib\\site-packages (from matplotlib>=2.2->seaborn) (0.10.0)\n",
      "Requirement already satisfied: certifi>=2020.06.20 in c:\\users\\sudharsan.munusa\\anaconda3\\lib\\site-packages (from matplotlib>=2.2->seaborn) (2020.6.20)\n",
      "Requirement already satisfied: kiwisolver>=1.0.1 in c:\\users\\sudharsan.munusa\\anaconda3\\lib\\site-packages (from matplotlib>=2.2->seaborn) (1.3.0)\n",
      "Requirement already satisfied: pytz>=2017.2 in c:\\users\\sudharsan.munusa\\anaconda3\\lib\\site-packages (from pandas>=0.23->seaborn) (2020.1)\n",
      "Requirement already satisfied: six>=1.5 in c:\\users\\sudharsan.munusa\\anaconda3\\lib\\site-packages (from python-dateutil>=2.1->matplotlib>=2.2->seaborn) (1.15.0)\n",
      "Requirement already satisfied: shap in c:\\users\\sudharsan.munusa\\anaconda3\\lib\\site-packages (0.39.0)\n",
      "Requirement already satisfied: cloudpickle in c:\\users\\sudharsan.munusa\\anaconda3\\lib\\site-packages (from shap) (1.6.0)\n",
      "Requirement already satisfied: numpy in c:\\users\\sudharsan.munusa\\anaconda3\\lib\\site-packages (from shap) (1.19.2)\n",
      "Requirement already satisfied: numba in c:\\users\\sudharsan.munusa\\anaconda3\\lib\\site-packages (from shap) (0.51.2)\n",
      "Requirement already satisfied: pandas in c:\\users\\sudharsan.munusa\\anaconda3\\lib\\site-packages (from shap) (1.1.3)\n",
      "Requirement already satisfied: slicer==0.0.7 in c:\\users\\sudharsan.munusa\\anaconda3\\lib\\site-packages (from shap) (0.0.7)\n",
      "Requirement already satisfied: scikit-learn in c:\\users\\sudharsan.munusa\\anaconda3\\lib\\site-packages (from shap) (0.23.2)\n",
      "Requirement already satisfied: tqdm>4.25.0 in c:\\users\\sudharsan.munusa\\anaconda3\\lib\\site-packages (from shap) (4.50.2)\n",
      "Requirement already satisfied: scipy in c:\\users\\sudharsan.munusa\\anaconda3\\lib\\site-packages (from shap) (1.5.2)\n",
      "Requirement already satisfied: llvmlite<0.35,>=0.34.0.dev0 in c:\\users\\sudharsan.munusa\\anaconda3\\lib\\site-packages (from numba->shap) (0.34.0)\n",
      "Requirement already satisfied: setuptools in c:\\users\\sudharsan.munusa\\anaconda3\\lib\\site-packages (from numba->shap) (50.3.1.post20201107)\n",
      "Requirement already satisfied: pytz>=2017.2 in c:\\users\\sudharsan.munusa\\anaconda3\\lib\\site-packages (from pandas->shap) (2020.1)\n",
      "Requirement already satisfied: python-dateutil>=2.7.3 in c:\\users\\sudharsan.munusa\\anaconda3\\lib\\site-packages (from pandas->shap) (2.8.1)\n",
      "Requirement already satisfied: joblib>=0.11 in c:\\users\\sudharsan.munusa\\anaconda3\\lib\\site-packages (from scikit-learn->shap) (0.17.0)\n",
      "Requirement already satisfied: threadpoolctl>=2.0.0 in c:\\users\\sudharsan.munusa\\anaconda3\\lib\\site-packages (from scikit-learn->shap) (2.1.0)\n",
      "Requirement already satisfied: six>=1.5 in c:\\users\\sudharsan.munusa\\anaconda3\\lib\\site-packages (from python-dateutil>=2.7.3->pandas->shap) (1.15.0)\n",
      "Requirement already satisfied: smdebug in c:\\users\\sudharsan.munusa\\anaconda3\\lib\\site-packages (1.0.8)\n",
      "Requirement already satisfied: protobuf>=3.6.0 in c:\\users\\sudharsan.munusa\\anaconda3\\lib\\site-packages (from smdebug) (3.15.8)\n"
     ]
    },
    {
     "name": "stderr",
     "output_type": "stream",
     "text": [
      "ERROR: After October 2020 you may experience errors when installing or updating packages. This is because pip will change the way that it resolves dependency conflicts.\n",
      "\n",
      "We recommend you use --use-feature=2020-resolver to test your packages with the new resolver before it becomes the default.\n",
      "\n",
      "awscli 1.19.60 requires botocore==1.20.60, but you'll have botocore 1.20.64 which is incompatible.\n",
      "aiobotocore 1.3.0 requires botocore<1.20.50,>=1.20.49, but you'll have botocore 1.20.64 which is incompatible.\n"
     ]
    },
    {
     "name": "stdout",
     "output_type": "stream",
     "text": [
      "Requirement already satisfied: packaging in c:\\users\\sudharsan.munusa\\anaconda3\\lib\\site-packages (from smdebug) (20.4)\n",
      "Requirement already satisfied: pyinstrument>=3.1.3 in c:\\users\\sudharsan.munusa\\anaconda3\\lib\\site-packages (from smdebug) (3.4.1)\n",
      "Requirement already satisfied: numpy>=1.16.0 in c:\\users\\sudharsan.munusa\\anaconda3\\lib\\site-packages (from smdebug) (1.19.2)\n",
      "Requirement already satisfied: boto3>=1.10.32 in c:\\users\\sudharsan.munusa\\anaconda3\\lib\\site-packages (from smdebug) (1.17.57)\n",
      "Requirement already satisfied: six>=1.9 in c:\\users\\sudharsan.munusa\\anaconda3\\lib\\site-packages (from protobuf>=3.6.0->smdebug) (1.15.0)\n",
      "Requirement already satisfied: pyparsing>=2.0.2 in c:\\users\\sudharsan.munusa\\anaconda3\\lib\\site-packages (from packaging->smdebug) (2.4.7)\n",
      "Requirement already satisfied: pyinstrument-cext>=0.2.2 in c:\\users\\sudharsan.munusa\\anaconda3\\lib\\site-packages (from pyinstrument>=3.1.3->smdebug) (0.2.4)\n",
      "Requirement already satisfied: jmespath<1.0.0,>=0.7.1 in c:\\users\\sudharsan.munusa\\anaconda3\\lib\\site-packages (from boto3>=1.10.32->smdebug) (0.10.0)\n",
      "Collecting botocore<1.21.0,>=1.20.57\n",
      "  Downloading botocore-1.20.64-py2.py3-none-any.whl (7.5 MB)\n",
      "Requirement already satisfied: s3transfer<0.5.0,>=0.4.0 in c:\\users\\sudharsan.munusa\\anaconda3\\lib\\site-packages (from boto3>=1.10.32->smdebug) (0.4.2)\n",
      "Requirement already satisfied: python-dateutil<3.0.0,>=2.1 in c:\\users\\sudharsan.munusa\\anaconda3\\lib\\site-packages (from botocore<1.21.0,>=1.20.57->boto3>=1.10.32->smdebug) (2.8.1)\n",
      "Requirement already satisfied: urllib3<1.27,>=1.25.4 in c:\\users\\sudharsan.munusa\\anaconda3\\lib\\site-packages (from botocore<1.21.0,>=1.20.57->boto3>=1.10.32->smdebug) (1.25.11)\n",
      "Installing collected packages: botocore\n",
      "  Attempting uninstall: botocore\n",
      "    Found existing installation: botocore 1.20.49\n",
      "    Uninstalling botocore-1.20.49:\n",
      "      Successfully uninstalled botocore-1.20.49\n",
      "Successfully installed botocore-1.20.64\n"
     ]
    }
   ],
   "source": [
    "'''!pip install sagemaker-experiments\n",
    "!pip install s3fs\n",
    "!pip install matplotlib\n",
    "!pip install seaborn\n",
    "!pip install shap\n",
    "!pip install smdebug\n",
    "!pip install sagemaker==2.35.0\n",
    "'''"
   ]
  },
  {
   "cell_type": "code",
   "execution_count": 3,
   "metadata": {},
   "outputs": [],
   "source": [
    "from io import StringIO\n",
    "import numpy as np\n",
    "import os\n",
    "import pandas as pd\n",
    "import boto3\n",
    "import time\n",
    "import s3fs\n",
    "from datetime import datetime\n",
    "\n",
    "import matplotlib.pyplot as plt\n",
    "import seaborn as sns\n",
    "import re\n",
    "#import shap\n",
    "from scipy import stats\n",
    "import copy"
   ]
  },
  {
   "cell_type": "code",
   "execution_count": 4,
   "metadata": {},
   "outputs": [
    {
     "name": "stdout",
     "output_type": "stream",
     "text": [
      "[2021-05-04 08:55:54.869 TIGER0920:20736 INFO utils.py:27] RULE_JOB_STOP_SIGNAL_FILENAME: None\n"
     ]
    }
   ],
   "source": [
    "import sagemaker\n",
    "from sagemaker import get_execution_role\n",
    "from sagemaker.analytics import ExperimentAnalytics\n",
    "\n",
    "from smexperiments.experiment import Experiment\n",
    "from smexperiments.trial import Trial\n",
    "from smexperiments.trial_component import TrialComponent\n",
    "from smexperiments.tracker import Tracker\n",
    "\n",
    "from sagemaker.sklearn.estimator import SKLearn\n",
    "from sagemaker.debugger import rule_configs, Rule, DebuggerHookConfig,CollectionConfig\n",
    "from sagemaker.estimator import Estimator\n",
    "from sagemaker.session import s3_input\n",
    "from sagemaker.amazon.amazon_estimator import get_image_uri\n",
    "from sagemaker.session import Session\n",
    "\n",
    "from smdebug.trials  import create_trial"
   ]
  },
  {
   "cell_type": "markdown",
   "metadata": {},
   "source": [
    "# Configs"
   ]
  },
  {
   "cell_type": "code",
   "execution_count": 5,
   "metadata": {},
   "outputs": [
    {
     "name": "stderr",
     "output_type": "stream",
     "text": [
      "WARNING:sagemaker.local.local_session:Windows Support for Local Mode is Experimental\n"
     ]
    }
   ],
   "source": [
    "from sagemaker.local import LocalSession\n",
    "\n",
    "sagemaker_session = LocalSession()\n",
    "sagemaker_session.config = {'local':{'local_code':True}}"
   ]
  },
  {
   "cell_type": "code",
   "execution_count": 6,
   "metadata": {},
   "outputs": [
    {
     "name": "stdout",
     "output_type": "stream",
     "text": [
      "current_time: 2021-05-04--08-55-55\n"
     ]
    }
   ],
   "source": [
    "now = datetime.now()\n",
    "\n",
    "current_time = now.strftime(\"%Y-%m-%d--%H-%M-%S\")\n",
    "print(\"current_time:\",current_time)\n",
    "\n",
    "#sagemaker_session = sagemaker.Session()\n",
    "\n",
    "# Change \"get_execution_role()\" to access role name for local deployment\n",
    "role = 'arn:aws:iam::752400441523:role/Sagemaker_Access'\n",
    "\n",
    "bucket = '1905-assignment2-sm'\n",
    "prefix = 'Scikit-pre-model-Inference-Pipelines'\n",
    "\n",
    "train_data = 's3://1905-assignment2-sm/housing/imput-datasets/train_data_without_header.csv'\n",
    "test_data = 's3://1905-assignment2-sm/housing/imput-datasets/test_data_without_header.csv'\n",
    "\n",
    "FRAMEWORK_VERSION = \"0.23-1\"\n",
    "script_path = 'sklearn_pipeline.py'\n",
    "dependency_path ='dependencies.py'\n",
    "\n",
    "base_job_name = f\"Builtin-XGB-algo-{current_time}\"\n",
    "\n",
    "output_data_prefix = f'housing/datasets/output/{base_job_name}'\n",
    "data_output_path = f's3://{bucket}/{output_data_prefix}'\n",
    "\n",
    "debug_prefix = f'housing/jobs/debug/{base_job_name}'\n",
    "debug_path = f's3://{bucket}/{debug_prefix}'\n",
    "\n",
    "experiment_name_prefix = \"builtin-xgboost-track13\""
   ]
  },
  {
   "cell_type": "code",
   "execution_count": 7,
   "metadata": {},
   "outputs": [
    {
     "name": "stdout",
     "output_type": "stream",
     "text": [
      "s3://1905-assignment2-sm/housing/imput-datasets/train_data_without_header.csv\n"
     ]
    }
   ],
   "source": [
    "print(train_data)"
   ]
  },
  {
   "cell_type": "code",
   "execution_count": 8,
   "metadata": {},
   "outputs": [
    {
     "data": {
      "text/plain": [
       "'arn:aws:iam::752400441523:role/Sagemaker_Access'"
      ]
     },
     "execution_count": 8,
     "metadata": {},
     "output_type": "execute_result"
    }
   ],
   "source": [
    "role"
   ]
  },
  {
   "cell_type": "markdown",
   "metadata": {},
   "source": [
    "# Batch transform"
   ]
  },
  {
   "cell_type": "markdown",
   "metadata": {},
   "source": [
    "## Fit the train data"
   ]
  },
  {
   "cell_type": "code",
   "execution_count": 9,
   "metadata": {},
   "outputs": [
    {
     "name": "stderr",
     "output_type": "stream",
     "text": [
      "WARNING:sagemaker.deprecations:train_instance_type has been renamed in sagemaker>=2.\n",
      "See: https://sagemaker.readthedocs.io/en/stable/v2.html for details.\n",
      "WARNING:sagemaker.deprecations:train_instance_type has been renamed in sagemaker>=2.\n",
      "See: https://sagemaker.readthedocs.io/en/stable/v2.html for details.\n",
      "WARNING:sagemaker.deprecations:train_max_run has been renamed in sagemaker>=2.\n",
      "See: https://sagemaker.readthedocs.io/en/stable/v2.html for details.\n",
      "WARNING:sagemaker.deprecations:train_max_wait has been renamed in sagemaker>=2.\n",
      "See: https://sagemaker.readthedocs.io/en/stable/v2.html for details.\n",
      "WARNING:sagemaker.local.local_session:Windows Support for Local Mode is Experimental\n",
      "INFO:sagemaker.image_uris:Same images used for training and inference. Defaulting to image scope: inference.\n"
     ]
    }
   ],
   "source": [
    "sklearn_preprocessor = SKLearn(\n",
    "    entry_point = script_path,\n",
    "    role = role,\n",
    "    framework_version = FRAMEWORK_VERSION,\n",
    "    train_instance_type = 'local', # \"ml.m5.xlarge\", #\"local\" ,\n",
    "    #train_use_spot_instance = True,\n",
    "    train_max_run = 600,\n",
    "    train_max_wait = 1200,\n",
    "    dependencies = [dependency_path],\n",
    "    #sagemaker_session = sagemaker_session\n",
    ")"
   ]
  },
  {
   "cell_type": "code",
   "execution_count": 10,
   "metadata": {},
   "outputs": [
    {
     "data": {
      "text/plain": [
       "'arn:aws:iam::752400441523:role/Sagemaker_Access'"
      ]
     },
     "execution_count": 10,
     "metadata": {},
     "output_type": "execute_result"
    }
   ],
   "source": [
    "role"
   ]
  },
  {
   "cell_type": "code",
   "execution_count": 11,
   "metadata": {},
   "outputs": [
    {
     "name": "stderr",
     "output_type": "stream",
     "text": [
      "INFO:botocore.credentials:Found credentials in shared credentials file: ~/.aws/credentials\n"
     ]
    },
    {
     "data": {
      "text/html": [
       "<div>\n",
       "<style scoped>\n",
       "    .dataframe tbody tr th:only-of-type {\n",
       "        vertical-align: middle;\n",
       "    }\n",
       "\n",
       "    .dataframe tbody tr th {\n",
       "        vertical-align: top;\n",
       "    }\n",
       "\n",
       "    .dataframe thead th {\n",
       "        text-align: right;\n",
       "    }\n",
       "</style>\n",
       "<table border=\"1\" class=\"dataframe\">\n",
       "  <thead>\n",
       "    <tr style=\"text-align: right;\">\n",
       "      <th></th>\n",
       "      <th>-122.22</th>\n",
       "      <th>37.86</th>\n",
       "      <th>21.0</th>\n",
       "      <th>7099.0</th>\n",
       "      <th>1106.0</th>\n",
       "      <th>2401.0</th>\n",
       "      <th>1138.0</th>\n",
       "      <th>8.3014</th>\n",
       "      <th>NEAR BAY</th>\n",
       "      <th>358500.0</th>\n",
       "    </tr>\n",
       "  </thead>\n",
       "  <tbody>\n",
       "    <tr>\n",
       "      <th>0</th>\n",
       "      <td>-122.24</td>\n",
       "      <td>37.85</td>\n",
       "      <td>52.0</td>\n",
       "      <td>1467.0</td>\n",
       "      <td>190.0</td>\n",
       "      <td>496.0</td>\n",
       "      <td>177.0</td>\n",
       "      <td>7.2574</td>\n",
       "      <td>NEAR BAY</td>\n",
       "      <td>352100.0</td>\n",
       "    </tr>\n",
       "    <tr>\n",
       "      <th>1</th>\n",
       "      <td>-122.25</td>\n",
       "      <td>37.85</td>\n",
       "      <td>52.0</td>\n",
       "      <td>1274.0</td>\n",
       "      <td>235.0</td>\n",
       "      <td>558.0</td>\n",
       "      <td>219.0</td>\n",
       "      <td>5.6431</td>\n",
       "      <td>NEAR BAY</td>\n",
       "      <td>341300.0</td>\n",
       "    </tr>\n",
       "    <tr>\n",
       "      <th>2</th>\n",
       "      <td>-122.25</td>\n",
       "      <td>37.85</td>\n",
       "      <td>52.0</td>\n",
       "      <td>1627.0</td>\n",
       "      <td>280.0</td>\n",
       "      <td>565.0</td>\n",
       "      <td>259.0</td>\n",
       "      <td>3.8462</td>\n",
       "      <td>NEAR BAY</td>\n",
       "      <td>342200.0</td>\n",
       "    </tr>\n",
       "    <tr>\n",
       "      <th>3</th>\n",
       "      <td>-122.25</td>\n",
       "      <td>37.85</td>\n",
       "      <td>52.0</td>\n",
       "      <td>919.0</td>\n",
       "      <td>213.0</td>\n",
       "      <td>413.0</td>\n",
       "      <td>193.0</td>\n",
       "      <td>4.0368</td>\n",
       "      <td>NEAR BAY</td>\n",
       "      <td>269700.0</td>\n",
       "    </tr>\n",
       "    <tr>\n",
       "      <th>4</th>\n",
       "      <td>-122.25</td>\n",
       "      <td>37.84</td>\n",
       "      <td>52.0</td>\n",
       "      <td>2535.0</td>\n",
       "      <td>489.0</td>\n",
       "      <td>1094.0</td>\n",
       "      <td>514.0</td>\n",
       "      <td>3.6591</td>\n",
       "      <td>NEAR BAY</td>\n",
       "      <td>299200.0</td>\n",
       "    </tr>\n",
       "  </tbody>\n",
       "</table>\n",
       "</div>"
      ],
      "text/plain": [
       "   -122.22  37.86  21.0  7099.0  1106.0  2401.0  1138.0  8.3014  NEAR BAY  \\\n",
       "0  -122.24  37.85  52.0  1467.0   190.0   496.0   177.0  7.2574  NEAR BAY   \n",
       "1  -122.25  37.85  52.0  1274.0   235.0   558.0   219.0  5.6431  NEAR BAY   \n",
       "2  -122.25  37.85  52.0  1627.0   280.0   565.0   259.0  3.8462  NEAR BAY   \n",
       "3  -122.25  37.85  52.0   919.0   213.0   413.0   193.0  4.0368  NEAR BAY   \n",
       "4  -122.25  37.84  52.0  2535.0   489.0  1094.0   514.0  3.6591  NEAR BAY   \n",
       "\n",
       "   358500.0  \n",
       "0  352100.0  \n",
       "1  341300.0  \n",
       "2  342200.0  \n",
       "3  269700.0  \n",
       "4  299200.0  "
      ]
     },
     "execution_count": 11,
     "metadata": {},
     "output_type": "execute_result"
    }
   ],
   "source": [
    "check = pd.read_csv(train_data)\n",
    "check.head()"
   ]
  },
  {
   "cell_type": "code",
   "execution_count": 12,
   "metadata": {},
   "outputs": [
    {
     "data": {
      "text/plain": [
       "'s3://1905-assignment2-sm/housing/imput-datasets/train_data_without_header.csv'"
      ]
     },
     "execution_count": 12,
     "metadata": {},
     "output_type": "execute_result"
    }
   ],
   "source": [
    "train_data"
   ]
  },
  {
   "cell_type": "code",
   "execution_count": 13,
   "metadata": {
    "scrolled": true
   },
   "outputs": [
    {
     "name": "stderr",
     "output_type": "stream",
     "text": [
      "INFO:botocore.credentials:Found credentials in shared credentials file: ~/.aws/credentials\n",
      "INFO:sagemaker.image_uris:Defaulting to the only supported framework/algorithm version: latest.\n",
      "INFO:sagemaker.image_uris:Ignoring unnecessary instance type: None.\n",
      "INFO:sagemaker:Creating training-job with name: Builtin-XGB-algo-2021-05-04--08-55-55\n",
      "INFO:sagemaker.local.local_session:Starting training job\n",
      "INFO:sagemaker.local.image:Using the long-lived AWS credentials found in session\n",
      "INFO:sagemaker.local.image:docker compose file: \n",
      "networks:\n",
      "  sagemaker-local:\n",
      "    name: sagemaker-local\n",
      "services:\n",
      "  algo-1-l4icc:\n",
      "    command: train\n",
      "    container_name: azg0wscghn-algo-1-l4icc\n",
      "    environment:\n",
      "    - '[Masked]'\n",
      "    - '[Masked]'\n",
      "    - '[Masked]'\n",
      "    - '[Masked]'\n",
      "    image: 683313688378.dkr.ecr.us-east-1.amazonaws.com/sagemaker-scikit-learn:0.23-1-cpu-py3\n",
      "    networks:\n",
      "      sagemaker-local:\n",
      "        aliases:\n",
      "        - algo-1-l4icc\n",
      "    stdin_open: true\n",
      "    tty: true\n",
      "    volumes:\n",
      "    - C:\\Users\\SUDHAR~1.MUN\\AppData\\Local\\Temp\\tmpvc2cb3zj\\algo-1-l4icc\\input:/opt/ml/input\n",
      "    - C:\\Users\\SUDHAR~1.MUN\\AppData\\Local\\Temp\\tmpvc2cb3zj\\algo-1-l4icc\\output:/opt/ml/output\n",
      "    - C:\\Users\\SUDHAR~1.MUN\\AppData\\Local\\Temp\\tmpvc2cb3zj\\algo-1-l4icc\\output/data:/opt/ml/output/data\n",
      "    - C:\\Users\\SUDHAR~1.MUN\\AppData\\Local\\Temp\\tmpvc2cb3zj\\model:/opt/ml/model\n",
      "    - C:\\Users\\SUDHAR~1.MUN\\AppData\\Local\\Temp\\tmpj26cy978:/opt/ml/input/data/train\n",
      "version: '2.3'\n",
      "\n",
      "INFO:sagemaker.local.image:docker command: docker-compose -f C:\\Users\\SUDHAR~1.MUN\\AppData\\Local\\Temp\\tmpvc2cb3zj\\docker-compose.yaml up --build --abort-on-container-exit\n"
     ]
    },
    {
     "name": "stdout",
     "output_type": "stream",
     "text": [
      "Creating azg0wscghn-algo-1-l4icc ... \n",
      "Creating azg0wscghn-algo-1-l4icc ... done\n",
      "Docker Compose is now in the Docker CLI, try `docker compose up`\n",
      "\n",
      "Attaching to azg0wscghn-algo-1-l4icc\n",
      "\u001b[36mazg0wscghn-algo-1-l4icc |\u001b[0m 2021-05-04 03:26:46,905 sagemaker-containers INFO     Imported framework sagemaker_sklearn_container.training\n",
      "\u001b[36mazg0wscghn-algo-1-l4icc |\u001b[0m 2021-05-04 03:26:46,919 sagemaker-training-toolkit INFO     No GPUs detected (normal if no gpus installed)\n",
      "\u001b[36mazg0wscghn-algo-1-l4icc |\u001b[0m 2021-05-04 03:26:47,024 sagemaker_sklearn_container.training INFO     Invoking user training script.\n",
      "\u001b[36mazg0wscghn-algo-1-l4icc |\u001b[0m 2021-05-04 03:26:49,330 sagemaker-training-toolkit INFO     No GPUs detected (normal if no gpus installed)\n",
      "\u001b[36mazg0wscghn-algo-1-l4icc |\u001b[0m 2021-05-04 03:26:49,455 sagemaker-training-toolkit INFO     No GPUs detected (normal if no gpus installed)\n",
      "\u001b[36mazg0wscghn-algo-1-l4icc |\u001b[0m 2021-05-04 03:26:49,600 sagemaker-training-toolkit INFO     No GPUs detected (normal if no gpus installed)\n",
      "\u001b[36mazg0wscghn-algo-1-l4icc |\u001b[0m 2021-05-04 03:26:49,642 sagemaker-training-toolkit INFO     Invoking user script\n",
      "\u001b[36mazg0wscghn-algo-1-l4icc |\u001b[0m \n",
      "\u001b[36mazg0wscghn-algo-1-l4icc |\u001b[0m Training Env:\n",
      "\u001b[36mazg0wscghn-algo-1-l4icc |\u001b[0m \n",
      "\u001b[36mazg0wscghn-algo-1-l4icc |\u001b[0m {\n",
      "\u001b[36mazg0wscghn-algo-1-l4icc |\u001b[0m     \"additional_framework_parameters\": {},\n",
      "\u001b[36mazg0wscghn-algo-1-l4icc |\u001b[0m     \"channel_input_dirs\": {\n",
      "\u001b[36mazg0wscghn-algo-1-l4icc |\u001b[0m         \"train\": \"/opt/ml/input/data/train\"\n",
      "\u001b[36mazg0wscghn-algo-1-l4icc |\u001b[0m     },\n",
      "\u001b[36mazg0wscghn-algo-1-l4icc |\u001b[0m     \"current_host\": \"algo-1-l4icc\",\n",
      "\u001b[36mazg0wscghn-algo-1-l4icc |\u001b[0m     \"framework_module\": \"sagemaker_sklearn_container.training:main\",\n",
      "\u001b[36mazg0wscghn-algo-1-l4icc |\u001b[0m     \"hosts\": [\n",
      "\u001b[36mazg0wscghn-algo-1-l4icc |\u001b[0m         \"algo-1-l4icc\"\n",
      "\u001b[36mazg0wscghn-algo-1-l4icc |\u001b[0m     ],\n",
      "\u001b[36mazg0wscghn-algo-1-l4icc |\u001b[0m     \"hyperparameters\": {},\n",
      "\u001b[36mazg0wscghn-algo-1-l4icc |\u001b[0m     \"input_config_dir\": \"/opt/ml/input/config\",\n",
      "\u001b[36mazg0wscghn-algo-1-l4icc |\u001b[0m     \"input_data_config\": {\n",
      "\u001b[36mazg0wscghn-algo-1-l4icc |\u001b[0m         \"train\": {\n",
      "\u001b[36mazg0wscghn-algo-1-l4icc |\u001b[0m             \"TrainingInputMode\": \"File\"\n",
      "\u001b[36mazg0wscghn-algo-1-l4icc |\u001b[0m         }\n",
      "\u001b[36mazg0wscghn-algo-1-l4icc |\u001b[0m     },\n",
      "\u001b[36mazg0wscghn-algo-1-l4icc |\u001b[0m     \"input_dir\": \"/opt/ml/input\",\n",
      "\u001b[36mazg0wscghn-algo-1-l4icc |\u001b[0m     \"is_master\": true,\n",
      "\u001b[36mazg0wscghn-algo-1-l4icc |\u001b[0m     \"job_name\": \"Builtin-XGB-algo-2021-05-04--08-55-55\",\n",
      "\u001b[36mazg0wscghn-algo-1-l4icc |\u001b[0m     \"log_level\": 20,\n",
      "\u001b[36mazg0wscghn-algo-1-l4icc |\u001b[0m     \"master_hostname\": \"algo-1-l4icc\",\n",
      "\u001b[36mazg0wscghn-algo-1-l4icc |\u001b[0m     \"model_dir\": \"/opt/ml/model\",\n",
      "\u001b[36mazg0wscghn-algo-1-l4icc |\u001b[0m     \"module_dir\": \"s3://sagemaker-us-east-1-752400441523/Builtin-XGB-algo-2021-05-04--08-55-55/source/sourcedir.tar.gz\",\n",
      "\u001b[36mazg0wscghn-algo-1-l4icc |\u001b[0m     \"module_name\": \"sklearn_pipeline\",\n",
      "\u001b[36mazg0wscghn-algo-1-l4icc |\u001b[0m     \"network_interface_name\": \"eth0\",\n",
      "\u001b[36mazg0wscghn-algo-1-l4icc |\u001b[0m     \"num_cpus\": 8,\n",
      "\u001b[36mazg0wscghn-algo-1-l4icc |\u001b[0m     \"num_gpus\": 0,\n",
      "\u001b[36mazg0wscghn-algo-1-l4icc |\u001b[0m     \"output_data_dir\": \"/opt/ml/output/data\",\n",
      "\u001b[36mazg0wscghn-algo-1-l4icc |\u001b[0m     \"output_dir\": \"/opt/ml/output\",\n",
      "\u001b[36mazg0wscghn-algo-1-l4icc |\u001b[0m     \"output_intermediate_dir\": \"/opt/ml/output/intermediate\",\n",
      "\u001b[36mazg0wscghn-algo-1-l4icc |\u001b[0m     \"resource_config\": {\n",
      "\u001b[36mazg0wscghn-algo-1-l4icc |\u001b[0m         \"current_host\": \"algo-1-l4icc\",\n",
      "\u001b[36mazg0wscghn-algo-1-l4icc |\u001b[0m         \"hosts\": [\n",
      "\u001b[36mazg0wscghn-algo-1-l4icc |\u001b[0m             \"algo-1-l4icc\"\n",
      "\u001b[36mazg0wscghn-algo-1-l4icc |\u001b[0m         ]\n",
      "\u001b[36mazg0wscghn-algo-1-l4icc |\u001b[0m     },\n",
      "\u001b[36mazg0wscghn-algo-1-l4icc |\u001b[0m     \"user_entry_point\": \"sklearn_pipeline.py\"\n",
      "\u001b[36mazg0wscghn-algo-1-l4icc |\u001b[0m }\n",
      "\u001b[36mazg0wscghn-algo-1-l4icc |\u001b[0m \n",
      "\u001b[36mazg0wscghn-algo-1-l4icc |\u001b[0m Environment variables:\n",
      "\u001b[36mazg0wscghn-algo-1-l4icc |\u001b[0m \n",
      "\u001b[36mazg0wscghn-algo-1-l4icc |\u001b[0m SM_HOSTS=[\"algo-1-l4icc\"]\n",
      "\u001b[36mazg0wscghn-algo-1-l4icc |\u001b[0m SM_NETWORK_INTERFACE_NAME=eth0\n",
      "\u001b[36mazg0wscghn-algo-1-l4icc |\u001b[0m SM_HPS={}\n",
      "\u001b[36mazg0wscghn-algo-1-l4icc |\u001b[0m SM_USER_ENTRY_POINT=sklearn_pipeline.py\n",
      "\u001b[36mazg0wscghn-algo-1-l4icc |\u001b[0m SM_FRAMEWORK_PARAMS={}\n",
      "\u001b[36mazg0wscghn-algo-1-l4icc |\u001b[0m SM_RESOURCE_CONFIG={\"current_host\":\"algo-1-l4icc\",\"hosts\":[\"algo-1-l4icc\"]}\n",
      "\u001b[36mazg0wscghn-algo-1-l4icc |\u001b[0m SM_INPUT_DATA_CONFIG={\"train\":{\"TrainingInputMode\":\"File\"}}\n",
      "\u001b[36mazg0wscghn-algo-1-l4icc |\u001b[0m SM_OUTPUT_DATA_DIR=/opt/ml/output/data\n",
      "\u001b[36mazg0wscghn-algo-1-l4icc |\u001b[0m SM_CHANNELS=[\"train\"]\n",
      "\u001b[36mazg0wscghn-algo-1-l4icc |\u001b[0m SM_CURRENT_HOST=algo-1-l4icc\n",
      "\u001b[36mazg0wscghn-algo-1-l4icc |\u001b[0m SM_MODULE_NAME=sklearn_pipeline\n",
      "\u001b[36mazg0wscghn-algo-1-l4icc |\u001b[0m SM_LOG_LEVEL=20\n",
      "\u001b[36mazg0wscghn-algo-1-l4icc |\u001b[0m SM_FRAMEWORK_MODULE=sagemaker_sklearn_container.training:main\n",
      "\u001b[36mazg0wscghn-algo-1-l4icc |\u001b[0m SM_INPUT_DIR=/opt/ml/input\n",
      "\u001b[36mazg0wscghn-algo-1-l4icc |\u001b[0m SM_INPUT_CONFIG_DIR=/opt/ml/input/config\n",
      "\u001b[36mazg0wscghn-algo-1-l4icc |\u001b[0m SM_OUTPUT_DIR=/opt/ml/output\n",
      "\u001b[36mazg0wscghn-algo-1-l4icc |\u001b[0m SM_NUM_CPUS=8\n",
      "\u001b[36mazg0wscghn-algo-1-l4icc |\u001b[0m SM_NUM_GPUS=0\n",
      "\u001b[36mazg0wscghn-algo-1-l4icc |\u001b[0m SM_MODEL_DIR=/opt/ml/model\n",
      "\u001b[36mazg0wscghn-algo-1-l4icc |\u001b[0m SM_MODULE_DIR=s3://sagemaker-us-east-1-752400441523/Builtin-XGB-algo-2021-05-04--08-55-55/source/sourcedir.tar.gz\n",
      "\u001b[36mazg0wscghn-algo-1-l4icc |\u001b[0m SM_TRAINING_ENV={\"additional_framework_parameters\":{},\"channel_input_dirs\":{\"train\":\"/opt/ml/input/data/train\"},\"current_host\":\"algo-1-l4icc\",\"framework_module\":\"sagemaker_sklearn_container.training:main\",\"hosts\":[\"algo-1-l4icc\"],\"hyperparameters\":{},\"input_config_dir\":\"/opt/ml/input/config\",\"input_data_config\":{\"train\":{\"TrainingInputMode\":\"File\"}},\"input_dir\":\"/opt/ml/input\",\"is_master\":true,\"job_name\":\"Builtin-XGB-algo-2021-05-04--08-55-55\",\"log_level\":20,\"master_hostname\":\"algo-1-l4icc\",\"model_dir\":\"/opt/ml/model\",\"module_dir\":\"s3://sagemaker-us-east-1-752400441523/Builtin-XGB-algo-2021-05-04--08-55-55/source/sourcedir.tar.gz\",\"module_name\":\"sklearn_pipeline\",\"network_interface_name\":\"eth0\",\"num_cpus\":8,\"num_gpus\":0,\"output_data_dir\":\"/opt/ml/output/data\",\"output_dir\":\"/opt/ml/output\",\"output_intermediate_dir\":\"/opt/ml/output/intermediate\",\"resource_config\":{\"current_host\":\"algo-1-l4icc\",\"hosts\":[\"algo-1-l4icc\"]},\"user_entry_point\":\"sklearn_pipeline.py\"}\n",
      "\u001b[36mazg0wscghn-algo-1-l4icc |\u001b[0m SM_USER_ARGS=[]\n",
      "\u001b[36mazg0wscghn-algo-1-l4icc |\u001b[0m SM_OUTPUT_INTERMEDIATE_DIR=/opt/ml/output/intermediate\n",
      "\u001b[36mazg0wscghn-algo-1-l4icc |\u001b[0m SM_CHANNEL_TRAIN=/opt/ml/input/data/train\n",
      "\u001b[36mazg0wscghn-algo-1-l4icc |\u001b[0m PYTHONPATH=/opt/ml/code:/miniconda3/bin:/miniconda3/lib/python37.zip:/miniconda3/lib/python3.7:/miniconda3/lib/python3.7/lib-dynload:/miniconda3/lib/python3.7/site-packages\n",
      "\u001b[36mazg0wscghn-algo-1-l4icc |\u001b[0m \n",
      "\u001b[36mazg0wscghn-algo-1-l4icc |\u001b[0m Invoking script with the following command:\n",
      "\u001b[36mazg0wscghn-algo-1-l4icc |\u001b[0m \n",
      "\u001b[36mazg0wscghn-algo-1-l4icc |\u001b[0m /miniconda3/bin/python sklearn_pipeline.py\n",
      "\u001b[36mazg0wscghn-algo-1-l4icc |\u001b[0m \n",
      "\u001b[36mazg0wscghn-algo-1-l4icc |\u001b[0m \n",
      "\u001b[36mazg0wscghn-algo-1-l4icc |\u001b[0m *********************\n",
      "\u001b[36mazg0wscghn-algo-1-l4icc |\u001b[0m *****Executing numeric transformer******\n",
      "\u001b[36mazg0wscghn-algo-1-l4icc |\u001b[0m *****Executing categorical transformer*****\n",
      "\u001b[36mazg0wscghn-algo-1-l4icc |\u001b[0m *****Executing Column Transformer*****\n",
      "\u001b[36mazg0wscghn-algo-1-l4icc |\u001b[0m preprocessor\n",
      "\u001b[36mazg0wscghn-algo-1-l4icc |\u001b[0m ColumnTransformer(transformers=[('num',\n",
      "\u001b[36mazg0wscghn-algo-1-l4icc |\u001b[0m                                  Pipeline(steps=[('simpleimputer',\n",
      "\u001b[36mazg0wscghn-algo-1-l4icc |\u001b[0m                                                   SimpleImputer(strategy='median')),\n",
      "\u001b[36mazg0wscghn-algo-1-l4icc |\u001b[0m                                                  ('combinedattributesadder',\n",
      "\u001b[36mazg0wscghn-algo-1-l4icc |\u001b[0m                                                   CombinedAttributesAdder()),\n",
      "\u001b[36mazg0wscghn-algo-1-l4icc |\u001b[0m                                                  ('standardscaler',\n",
      "\u001b[36mazg0wscghn-algo-1-l4icc |\u001b[0m                                                   StandardScaler())]),\n",
      "\u001b[36mazg0wscghn-algo-1-l4icc |\u001b[0m                                  <sklearn.compose._column_transformer.make_column_selector object at 0x7fdf5facec50>),\n",
      "\u001b[36mazg0wscghn-algo-1-l4icc |\u001b[0m                                 ('cat',\n",
      "\u001b[36mazg0wscghn-algo-1-l4icc |\u001b[0m                                  Pipeline(steps=[('simpleimputer',\n",
      "\u001b[36mazg0wscghn-algo-1-l4icc |\u001b[0m                                                   SimpleImputer(fill_value='missing',\n",
      "\u001b[36mazg0wscghn-algo-1-l4icc |\u001b[0m                                                                 strategy='constant')),\n",
      "\u001b[36mazg0wscghn-algo-1-l4icc |\u001b[0m                                                  ('onehotencoder',\n",
      "\u001b[36mazg0wscghn-algo-1-l4icc |\u001b[0m                                                   OneHotEncoder(handle_unknown='ignore'))]),\n",
      "\u001b[36mazg0wscghn-algo-1-l4icc |\u001b[0m                                  <sklearn.compose._column_transformer.make_column_selector object at 0x7fdf5faced10>)])\n",
      "\u001b[36mazg0wscghn-algo-1-l4icc |\u001b[0m *****Executing FIT*****\n",
      "\u001b[36mazg0wscghn-algo-1-l4icc |\u001b[0m Index(['longitude', 'latitude', 'housing_median_age', 'total_rooms',\n",
      "\u001b[36mazg0wscghn-algo-1-l4icc |\u001b[0m        'total_bedrooms', 'population', 'households', 'median_income',\n",
      "\u001b[36mazg0wscghn-algo-1-l4icc |\u001b[0m        'ocean_proximity'],\n",
      "\u001b[36mazg0wscghn-algo-1-l4icc |\u001b[0m       dtype='object')\n"
     ]
    },
    {
     "name": "stdout",
     "output_type": "stream",
     "text": [
      "\u001b[36mazg0wscghn-algo-1-l4icc |\u001b[0m saved model!\n",
      "\u001b[36mazg0wscghn-algo-1-l4icc |\u001b[0m 2021-05-04 03:26:53,515 sagemaker-containers INFO     Reporting training SUCCESS\n",
      "\u001b[36mazg0wscghn-algo-1-l4icc exited with code 0\n",
      "\u001b[0mAborting on container exit...\n",
      "===== Job Complete =====\n"
     ]
    }
   ],
   "source": [
    "sklearn_preprocessor.fit(\n",
    "    inputs={'train':train_data},\n",
    "    job_name=base_job_name\n",
    ")"
   ]
  },
  {
   "cell_type": "markdown",
   "metadata": {},
   "source": [
    "## Transform the training data"
   ]
  },
  {
   "cell_type": "code",
   "execution_count": 14,
   "metadata": {},
   "outputs": [
    {
     "name": "stderr",
     "output_type": "stream",
     "text": [
      "INFO:sagemaker:Creating model with name: sagemaker-scikit-learn-2021-05-04-03-26-57-251\n"
     ]
    }
   ],
   "source": [
    "transformer = sklearn_preprocessor.transformer(\n",
    "    instance_count=1,\n",
    "    instance_type='local',#'ml.m5.xlarge',\n",
    "    assemble_with = 'Line',\n",
    "    accept = 'text/csv',\n",
    "    #output_path=data_output_path\n",
    ")"
   ]
  },
  {
   "cell_type": "code",
   "execution_count": null,
   "metadata": {
    "scrolled": true
   },
   "outputs": [
    {
     "name": "stderr",
     "output_type": "stream",
     "text": [
      "INFO:sagemaker:Creating transform job with name: sagemaker-scikit-learn-2021-05-04-03-27-15-875\n",
      "INFO:sagemaker.local.image:serving\n",
      "INFO:sagemaker.local.image:creating hosting dir in C:\\Users\\SUDHAR~1.MUN\\AppData\\Local\\Temp\\tmpnw0atrix\n",
      "INFO:sagemaker.local.image:Using the long-lived AWS credentials found in session\n",
      "INFO:sagemaker.local.image:docker compose file: \n",
      "networks:\n",
      "  sagemaker-local:\n",
      "    name: sagemaker-local\n",
      "services:\n",
      "  algo-1-jcw7p:\n",
      "    command: serve\n",
      "    container_name: fus014alpz-algo-1-jcw7p\n",
      "    environment:\n",
      "    - '[Masked]'\n",
      "    - '[Masked]'\n",
      "    - '[Masked]'\n",
      "    - '[Masked]'\n",
      "    - '[Masked]'\n",
      "    - '[Masked]'\n",
      "    - '[Masked]'\n",
      "    - '[Masked]'\n",
      "    image: 683313688378.dkr.ecr.us-east-1.amazonaws.com/sagemaker-scikit-learn:0.23-1-cpu-py3\n",
      "    networks:\n",
      "      sagemaker-local:\n",
      "        aliases:\n",
      "        - algo-1-jcw7p\n",
      "    ports:\n",
      "    - 8080:8080\n",
      "    stdin_open: true\n",
      "    tty: true\n",
      "    volumes:\n",
      "    - C:\\Users\\SUDHAR~1.MUN\\AppData\\Local\\Temp\\tmpf6z_tvly:/opt/ml/model\n",
      "version: '2.3'\n",
      "\n",
      "INFO:sagemaker.local.image:docker command: docker-compose -f C:\\Users\\SUDHAR~1.MUN\\AppData\\Local\\Temp\\tmpnw0atrix\\docker-compose.yaml up --build --abort-on-container-exit\n",
      "INFO:sagemaker.local.entities:Checking if serving container is up, attempt: 5\n",
      "INFO:sagemaker.local.entities:Container still not up, got: 500\n",
      "Exception in thread Thread-20:\n",
      "Traceback (most recent call last):\n",
      "  File \"C:\\Users\\sudharsan.munusa\\Anaconda3\\lib\\site-packages\\sagemaker\\local\\image.py\", line 834, in run\n",
      "    _stream_output(self.process)\n",
      "  File \"C:\\Users\\sudharsan.munusa\\Anaconda3\\lib\\site-packages\\sagemaker\\local\\image.py\", line 894, in _stream_output\n",
      "    raise RuntimeError(\"Process exited with code: %s\" % exit_code)\n",
      "RuntimeError: Process exited with code: 1\n",
      "\n",
      "During handling of the above exception, another exception occurred:\n",
      "\n",
      "Traceback (most recent call last):\n",
      "  File \"C:\\Users\\sudharsan.munusa\\Anaconda3\\lib\\threading.py\", line 932, in _bootstrap_inner\n",
      "    self.run()\n",
      "  File \"C:\\Users\\sudharsan.munusa\\Anaconda3\\lib\\site-packages\\sagemaker\\local\\image.py\", line 839, in run\n",
      "    raise RuntimeError(msg)\n",
      "RuntimeError: Failed to run: ['docker-compose', '-f', 'C:\\\\Users\\\\SUDHAR~1.MUN\\\\AppData\\\\Local\\\\Temp\\\\tmpnw0atrix\\\\docker-compose.yaml', 'up', '--build', '--abort-on-container-exit'], Process exited with code: 1\n"
     ]
    },
    {
     "name": "stdout",
     "output_type": "stream",
     "text": [
      "Docker Compose is now in the Docker CLI, try `docker compose up`\r\n",
      "\r\n"
     ]
    },
    {
     "name": "stderr",
     "output_type": "stream",
     "text": [
      "INFO:sagemaker.local.entities:Checking if serving container is up, attempt: 10\n",
      "INFO:sagemaker.local.entities:Container still not up, got: 500\n",
      "INFO:sagemaker.local.entities:Checking if serving container is up, attempt: 15\n",
      "INFO:sagemaker.local.entities:Container still not up, got: 500\n",
      "INFO:sagemaker.local.entities:Checking if serving container is up, attempt: 20\n",
      "INFO:sagemaker.local.entities:Container still not up, got: 500\n",
      "INFO:sagemaker.local.entities:Checking if serving container is up, attempt: 25\n",
      "INFO:sagemaker.local.entities:Container still not up, got: 500\n",
      "INFO:sagemaker.local.entities:Checking if serving container is up, attempt: 30\n",
      "INFO:sagemaker.local.entities:Container still not up, got: 500\n",
      "INFO:sagemaker.local.entities:Checking if serving container is up, attempt: 35\n",
      "INFO:sagemaker.local.entities:Container still not up, got: 500\n",
      "INFO:sagemaker.local.entities:Checking if serving container is up, attempt: 40\n",
      "INFO:sagemaker.local.entities:Container still not up, got: 500\n",
      "INFO:sagemaker.local.entities:Checking if serving container is up, attempt: 45\n",
      "INFO:sagemaker.local.entities:Container still not up, got: 500\n",
      "INFO:sagemaker.local.entities:Checking if serving container is up, attempt: 50\n",
      "INFO:sagemaker.local.entities:Container still not up, got: 500\n",
      "INFO:sagemaker.local.entities:Checking if serving container is up, attempt: 55\n",
      "INFO:sagemaker.local.entities:Container still not up, got: 500\n",
      "INFO:sagemaker.local.entities:Checking if serving container is up, attempt: 60\n",
      "INFO:sagemaker.local.entities:Container still not up, got: 500\n",
      "INFO:sagemaker.local.entities:Checking if serving container is up, attempt: 65\n",
      "INFO:sagemaker.local.entities:Container still not up, got: 500\n",
      "INFO:sagemaker.local.entities:Checking if serving container is up, attempt: 70\n",
      "INFO:sagemaker.local.entities:Container still not up, got: 500\n",
      "INFO:sagemaker.local.entities:Checking if serving container is up, attempt: 75\n",
      "INFO:sagemaker.local.entities:Container still not up, got: 500\n",
      "INFO:sagemaker.local.entities:Checking if serving container is up, attempt: 80\n",
      "INFO:sagemaker.local.entities:Container still not up, got: 500\n",
      "INFO:sagemaker.local.entities:Checking if serving container is up, attempt: 85\n",
      "INFO:sagemaker.local.entities:Container still not up, got: 500\n",
      "INFO:sagemaker.local.entities:Checking if serving container is up, attempt: 90\n",
      "INFO:sagemaker.local.entities:Container still not up, got: 500\n",
      "INFO:sagemaker.local.entities:Checking if serving container is up, attempt: 95\n",
      "INFO:sagemaker.local.entities:Container still not up, got: 500\n",
      "INFO:sagemaker.local.entities:Checking if serving container is up, attempt: 100\n",
      "INFO:sagemaker.local.entities:Container still not up, got: 500\n"
     ]
    }
   ],
   "source": [
    "transformer.transform(\n",
    "    data=train_data,\n",
    "    content_type=\"text/csv\",\n",
    "    #job_name='sagemaker-scikit-learn-2021-05-03-13-50-09-847'+'-train'\n",
    ")"
   ]
  },
  {
   "cell_type": "code",
   "execution_count": null,
   "metadata": {},
   "outputs": [],
   "source": [
    "print(\"Waiting for transform job:\" + transformer.latest_transform_job.job_name)\n",
    "transformer.wait()"
   ]
  },
  {
   "cell_type": "code",
   "execution_count": null,
   "metadata": {},
   "outputs": [],
   "source": [
    "preprocessed_train_data = transformer.output_path"
   ]
  },
  {
   "cell_type": "code",
   "execution_count": null,
   "metadata": {},
   "outputs": [],
   "source": [
    "preprocessed_train_data"
   ]
  },
  {
   "cell_type": "markdown",
   "metadata": {},
   "source": [
    "## Transform the test data"
   ]
  },
  {
   "cell_type": "code",
   "execution_count": null,
   "metadata": {},
   "outputs": [],
   "source": [
    "transformer.transform(\n",
    "    data=test_data,\n",
    "    content_type=\"text/csv\",\n",
    "    job_name=base_job_name+\"-test\")\n",
    "\n",
    "print(\"Waiting for transform job:\" + transformer.latest_transform_job.job_name)\n",
    "transformer.wait()"
   ]
  },
  {
   "cell_type": "code",
   "execution_count": null,
   "metadata": {},
   "outputs": [],
   "source": [
    "preprocessed_test_data = transformer.output_path"
   ]
  },
  {
   "cell_type": "code",
   "execution_count": null,
   "metadata": {},
   "outputs": [],
   "source": [
    "f'{output_data_prefix}'"
   ]
  },
  {
   "cell_type": "markdown",
   "metadata": {},
   "source": [
    "## Real time Prediction using endpoint"
   ]
  },
  {
   "cell_type": "code",
   "execution_count": null,
   "metadata": {},
   "outputs": [],
   "source": [
    "from sagemaker.model import Model\n",
    "from sagemaker.pipeline import PipelineModel\n",
    "import boto3\n",
    "from time import gmtime, strftime\n",
    "from sagemaker.estimator import Estimator\n",
    "from sagemaker import PipelineModel\n",
    "\n",
    "timestamp_prefix = current_time\n",
    "\n",
    "scikit_learn_inferencee_model = sklearn_preprocessor.create_model()\n",
    "scikit_learn_inferencee_model.env = {\"SAGEMAKER_DEFAULT_INVOCATIONS_ACCEPT\":\"text/csv\"}\n",
    "model_containers = [scikit_learn_inferencee_model]\n",
    "\n",
    "model_name = 'inference-pipeline-' + current_time\n",
    "endpoint_name = 'inference-pipeline-ep-' + current_time\n",
    "\n",
    "#sm_model = PipelineModel(\n",
    "#            name=model_name,\n",
    "#            role=role,\n",
    "#            models=model_containers)\n",
    "\n",
    "predictor = scikit_learn_inferencee_model.deploy(initial_instance_count=1,\n",
    "                           instance_type='local',#'ml.m5.xlarge',\n",
    "                           endpoint_name=endpoint_name,\n",
    "                           #data_capture_config=data_capture_config\n",
    "                           )\n",
    "\n",
    "from sagemaker.predictor import Predictor\n",
    "from sagemaker.serializers import CSVSerializer\n",
    "from sagemaker.deserializers import JSONDeserializer\n",
    "\n",
    "payload = \"-122.23,37.88,41.0,880.0,129.0,322.0,126.0,8.3252,NEAR BAY\"\n",
    "\n",
    "predictor = Predictor(\n",
    "        endpoint_name = endpoint_name,\n",
    "        sagemaker_session = sagemaker_session,\n",
    "        serializer = CSVSerializer(),\n",
    "        deserializer = JSONDeserializer(),\n",
    "    )\n"
   ]
  },
  {
   "cell_type": "code",
   "execution_count": null,
   "metadata": {},
   "outputs": [],
   "source": [
    "print(predictor.predict(data=payload))"
   ]
  },
  {
   "cell_type": "code",
   "execution_count": null,
   "metadata": {},
   "outputs": [],
   "source": [
    "#Delete the endpoint\n",
    "#sm_client = sagemaker_session.boto_session.client('sagemaker')\n",
    "#sm_client.delete_endpoint(EndpointName=endpoint_name)"
   ]
  }
 ],
 "metadata": {
  "kernelspec": {
   "display_name": "Python 3",
   "language": "python",
   "name": "python3"
  },
  "language_info": {
   "codemirror_mode": {
    "name": "ipython",
    "version": 3
   },
   "file_extension": ".py",
   "mimetype": "text/x-python",
   "name": "python",
   "nbconvert_exporter": "python",
   "pygments_lexer": "ipython3",
   "version": "3.8.5"
  }
 },
 "nbformat": 4,
 "nbformat_minor": 4
}
