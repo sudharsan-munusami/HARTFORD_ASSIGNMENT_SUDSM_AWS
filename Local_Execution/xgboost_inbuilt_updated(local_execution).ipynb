{
 "cells": [
  {
   "cell_type": "markdown",
   "metadata": {},
   "source": [
    "# Libraries and Installations"
   ]
  },
  {
   "cell_type": "code",
   "execution_count": 1,
   "metadata": {},
   "outputs": [
    {
     "name": "stdout",
     "output_type": "stream",
     "text": [
      "Collecting sagemaker-experiments\n",
      "  Using cached sagemaker_experiments-0.1.30-py3-none-any.whl (42 kB)\n",
      "Requirement already satisfied: boto3>=1.16.27 in /home/ec2-user/anaconda3/envs/tensorflow_p36/lib/python3.6/site-packages (from sagemaker-experiments) (1.17.55)\n",
      "Requirement already satisfied: s3transfer<0.5.0,>=0.4.0 in /home/ec2-user/anaconda3/envs/tensorflow_p36/lib/python3.6/site-packages (from boto3>=1.16.27->sagemaker-experiments) (0.4.1)\n",
      "Requirement already satisfied: jmespath<1.0.0,>=0.7.1 in /home/ec2-user/anaconda3/envs/tensorflow_p36/lib/python3.6/site-packages (from boto3>=1.16.27->sagemaker-experiments) (0.10.0)\n",
      "Requirement already satisfied: botocore<1.21.0,>=1.20.55 in /home/ec2-user/anaconda3/envs/tensorflow_p36/lib/python3.6/site-packages (from boto3>=1.16.27->sagemaker-experiments) (1.20.55)\n",
      "Requirement already satisfied: python-dateutil<3.0.0,>=2.1 in /home/ec2-user/anaconda3/envs/tensorflow_p36/lib/python3.6/site-packages (from botocore<1.21.0,>=1.20.55->boto3>=1.16.27->sagemaker-experiments) (2.8.1)\n",
      "Requirement already satisfied: urllib3<1.27,>=1.25.4 in /home/ec2-user/anaconda3/envs/tensorflow_p36/lib/python3.6/site-packages (from botocore<1.21.0,>=1.20.55->boto3>=1.16.27->sagemaker-experiments) (1.26.4)\n",
      "Requirement already satisfied: six>=1.5 in /home/ec2-user/anaconda3/envs/tensorflow_p36/lib/python3.6/site-packages (from python-dateutil<3.0.0,>=2.1->botocore<1.21.0,>=1.20.55->boto3>=1.16.27->sagemaker-experiments) (1.15.0)\n",
      "Installing collected packages: sagemaker-experiments\n",
      "Successfully installed sagemaker-experiments-0.1.30\n",
      "Requirement already satisfied: s3fs in /home/ec2-user/anaconda3/envs/tensorflow_p36/lib/python3.6/site-packages (0.4.2)\n",
      "Requirement already satisfied: fsspec>=0.6.0 in /home/ec2-user/anaconda3/envs/tensorflow_p36/lib/python3.6/site-packages (from s3fs) (0.8.7)\n",
      "Requirement already satisfied: botocore>=1.12.91 in /home/ec2-user/anaconda3/envs/tensorflow_p36/lib/python3.6/site-packages (from s3fs) (1.20.55)\n",
      "Requirement already satisfied: urllib3<1.27,>=1.25.4 in /home/ec2-user/anaconda3/envs/tensorflow_p36/lib/python3.6/site-packages (from botocore>=1.12.91->s3fs) (1.26.4)\n",
      "Requirement already satisfied: jmespath<1.0.0,>=0.7.1 in /home/ec2-user/anaconda3/envs/tensorflow_p36/lib/python3.6/site-packages (from botocore>=1.12.91->s3fs) (0.10.0)\n",
      "Requirement already satisfied: python-dateutil<3.0.0,>=2.1 in /home/ec2-user/anaconda3/envs/tensorflow_p36/lib/python3.6/site-packages (from botocore>=1.12.91->s3fs) (2.8.1)\n",
      "Requirement already satisfied: importlib-metadata in /home/ec2-user/anaconda3/envs/tensorflow_p36/lib/python3.6/site-packages (from fsspec>=0.6.0->s3fs) (3.7.0)\n",
      "Requirement already satisfied: six>=1.5 in /home/ec2-user/anaconda3/envs/tensorflow_p36/lib/python3.6/site-packages (from python-dateutil<3.0.0,>=2.1->botocore>=1.12.91->s3fs) (1.15.0)\n",
      "Requirement already satisfied: zipp>=0.5 in /home/ec2-user/anaconda3/envs/tensorflow_p36/lib/python3.6/site-packages (from importlib-metadata->fsspec>=0.6.0->s3fs) (3.4.0)\n",
      "Requirement already satisfied: typing-extensions>=3.6.4 in /home/ec2-user/anaconda3/envs/tensorflow_p36/lib/python3.6/site-packages (from importlib-metadata->fsspec>=0.6.0->s3fs) (3.7.4.3)\n",
      "Requirement already satisfied: matplotlib in /home/ec2-user/anaconda3/envs/tensorflow_p36/lib/python3.6/site-packages (3.2.1)\n",
      "Requirement already satisfied: python-dateutil>=2.1 in /home/ec2-user/anaconda3/envs/tensorflow_p36/lib/python3.6/site-packages (from matplotlib) (2.8.1)\n",
      "Requirement already satisfied: pyparsing!=2.0.4,!=2.1.2,!=2.1.6,>=2.0.1 in /home/ec2-user/anaconda3/envs/tensorflow_p36/lib/python3.6/site-packages (from matplotlib) (2.4.7)\n",
      "Requirement already satisfied: cycler>=0.10 in /home/ec2-user/anaconda3/envs/tensorflow_p36/lib/python3.6/site-packages (from matplotlib) (0.10.0)\n",
      "Requirement already satisfied: kiwisolver>=1.0.1 in /home/ec2-user/anaconda3/envs/tensorflow_p36/lib/python3.6/site-packages (from matplotlib) (1.3.1)\n",
      "Requirement already satisfied: numpy>=1.11 in /home/ec2-user/anaconda3/envs/tensorflow_p36/lib/python3.6/site-packages (from matplotlib) (1.18.5)\n",
      "Requirement already satisfied: six in /home/ec2-user/anaconda3/envs/tensorflow_p36/lib/python3.6/site-packages (from cycler>=0.10->matplotlib) (1.15.0)\n",
      "Requirement already satisfied: seaborn in /home/ec2-user/anaconda3/envs/tensorflow_p36/lib/python3.6/site-packages (0.11.1)\n",
      "Requirement already satisfied: scipy>=1.0 in /home/ec2-user/anaconda3/envs/tensorflow_p36/lib/python3.6/site-packages (from seaborn) (1.5.3)\n",
      "Requirement already satisfied: matplotlib>=2.2 in /home/ec2-user/anaconda3/envs/tensorflow_p36/lib/python3.6/site-packages (from seaborn) (3.2.1)\n",
      "Requirement already satisfied: numpy>=1.15 in /home/ec2-user/anaconda3/envs/tensorflow_p36/lib/python3.6/site-packages (from seaborn) (1.18.5)\n",
      "Requirement already satisfied: pandas>=0.23 in /home/ec2-user/anaconda3/envs/tensorflow_p36/lib/python3.6/site-packages (from seaborn) (1.1.5)\n",
      "Requirement already satisfied: pyparsing!=2.0.4,!=2.1.2,!=2.1.6,>=2.0.1 in /home/ec2-user/anaconda3/envs/tensorflow_p36/lib/python3.6/site-packages (from matplotlib>=2.2->seaborn) (2.4.7)\n",
      "Requirement already satisfied: cycler>=0.10 in /home/ec2-user/anaconda3/envs/tensorflow_p36/lib/python3.6/site-packages (from matplotlib>=2.2->seaborn) (0.10.0)\n",
      "Requirement already satisfied: python-dateutil>=2.1 in /home/ec2-user/anaconda3/envs/tensorflow_p36/lib/python3.6/site-packages (from matplotlib>=2.2->seaborn) (2.8.1)\n",
      "Requirement already satisfied: kiwisolver>=1.0.1 in /home/ec2-user/anaconda3/envs/tensorflow_p36/lib/python3.6/site-packages (from matplotlib>=2.2->seaborn) (1.3.1)\n",
      "Requirement already satisfied: six in /home/ec2-user/anaconda3/envs/tensorflow_p36/lib/python3.6/site-packages (from cycler>=0.10->matplotlib>=2.2->seaborn) (1.15.0)\n",
      "Requirement already satisfied: pytz>=2017.2 in /home/ec2-user/anaconda3/envs/tensorflow_p36/lib/python3.6/site-packages (from pandas>=0.23->seaborn) (2021.1)\n",
      "Collecting shap\n",
      "  Downloading shap-0.39.0.tar.gz (356 kB)\n",
      "\u001b[K     |████████████████████████████████| 356 kB 20.4 MB/s eta 0:00:01\n",
      "\u001b[?25hRequirement already satisfied: numpy in /home/ec2-user/anaconda3/envs/tensorflow_p36/lib/python3.6/site-packages (from shap) (1.18.5)\n",
      "Requirement already satisfied: scipy in /home/ec2-user/anaconda3/envs/tensorflow_p36/lib/python3.6/site-packages (from shap) (1.5.3)\n",
      "Requirement already satisfied: scikit-learn in /home/ec2-user/anaconda3/envs/tensorflow_p36/lib/python3.6/site-packages (from shap) (0.24.1)\n",
      "Requirement already satisfied: pandas in /home/ec2-user/anaconda3/envs/tensorflow_p36/lib/python3.6/site-packages (from shap) (1.1.5)\n",
      "Collecting tqdm>4.25.0\n",
      "  Downloading tqdm-4.60.0-py2.py3-none-any.whl (75 kB)\n",
      "\u001b[K     |████████████████████████████████| 75 kB 1.1 MB/s  eta 0:00:01\n",
      "\u001b[?25hCollecting slicer==0.0.7\n",
      "  Downloading slicer-0.0.7-py3-none-any.whl (14 kB)\n",
      "Requirement already satisfied: numba in /home/ec2-user/anaconda3/envs/tensorflow_p36/lib/python3.6/site-packages (from shap) (0.52.0)\n",
      "Requirement already satisfied: cloudpickle in /home/ec2-user/anaconda3/envs/tensorflow_p36/lib/python3.6/site-packages (from shap) (1.6.0)\n",
      "Requirement already satisfied: llvmlite<0.36,>=0.35.0 in /home/ec2-user/anaconda3/envs/tensorflow_p36/lib/python3.6/site-packages (from numba->shap) (0.35.0)\n",
      "Requirement already satisfied: setuptools in /home/ec2-user/anaconda3/envs/tensorflow_p36/lib/python3.6/site-packages (from numba->shap) (49.6.0.post20210108)\n",
      "Requirement already satisfied: python-dateutil>=2.7.3 in /home/ec2-user/anaconda3/envs/tensorflow_p36/lib/python3.6/site-packages (from pandas->shap) (2.8.1)\n",
      "Requirement already satisfied: pytz>=2017.2 in /home/ec2-user/anaconda3/envs/tensorflow_p36/lib/python3.6/site-packages (from pandas->shap) (2021.1)\n",
      "Requirement already satisfied: six>=1.5 in /home/ec2-user/anaconda3/envs/tensorflow_p36/lib/python3.6/site-packages (from python-dateutil>=2.7.3->pandas->shap) (1.15.0)\n",
      "Requirement already satisfied: joblib>=0.11 in /home/ec2-user/anaconda3/envs/tensorflow_p36/lib/python3.6/site-packages (from scikit-learn->shap) (1.0.1)\n",
      "Requirement already satisfied: threadpoolctl>=2.0.0 in /home/ec2-user/anaconda3/envs/tensorflow_p36/lib/python3.6/site-packages (from scikit-learn->shap) (2.1.0)\n",
      "Building wheels for collected packages: shap\n",
      "  Building wheel for shap (setup.py) ... \u001b[?25ldone\n",
      "\u001b[?25h  Created wheel for shap: filename=shap-0.39.0-cp36-cp36m-linux_x86_64.whl size=419939 sha256=f4a15a973b6c926f71c53e1fcfdc198fec40a206734e635a235ace658a4d20df\n",
      "  Stored in directory: /home/ec2-user/.cache/pip/wheels/6f/08/25/2992725334291786ea084e06cac493d93049b80e3470318a1b\n",
      "Successfully built shap\n",
      "Installing collected packages: tqdm, slicer, shap\n",
      "Successfully installed shap-0.39.0 slicer-0.0.7 tqdm-4.60.0\n",
      "Collecting smdebug\n",
      "  Downloading smdebug-1.0.8-py2.py3-none-any.whl (263 kB)\n",
      "\u001b[K     |████████████████████████████████| 263 kB 17.4 MB/s eta 0:00:01\n",
      "\u001b[?25hRequirement already satisfied: protobuf>=3.6.0 in /home/ec2-user/anaconda3/envs/tensorflow_p36/lib/python3.6/site-packages (from smdebug) (3.15.2)\n",
      "Requirement already satisfied: boto3>=1.10.32 in /home/ec2-user/anaconda3/envs/tensorflow_p36/lib/python3.6/site-packages (from smdebug) (1.17.55)\n",
      "Collecting pyinstrument>=3.1.3\n",
      "  Downloading pyinstrument-3.4.1-py2.py3-none-any.whl (81 kB)\n",
      "\u001b[K     |████████████████████████████████| 81 kB 16.5 MB/s eta 0:00:01\n",
      "\u001b[?25hRequirement already satisfied: numpy>=1.16.0 in /home/ec2-user/anaconda3/envs/tensorflow_p36/lib/python3.6/site-packages (from smdebug) (1.18.5)\n",
      "Requirement already satisfied: packaging in /home/ec2-user/anaconda3/envs/tensorflow_p36/lib/python3.6/site-packages (from smdebug) (20.9)\n",
      "Requirement already satisfied: s3transfer<0.5.0,>=0.4.0 in /home/ec2-user/anaconda3/envs/tensorflow_p36/lib/python3.6/site-packages (from boto3>=1.10.32->smdebug) (0.4.1)\n",
      "Requirement already satisfied: botocore<1.21.0,>=1.20.55 in /home/ec2-user/anaconda3/envs/tensorflow_p36/lib/python3.6/site-packages (from boto3>=1.10.32->smdebug) (1.20.55)\n",
      "Requirement already satisfied: jmespath<1.0.0,>=0.7.1 in /home/ec2-user/anaconda3/envs/tensorflow_p36/lib/python3.6/site-packages (from boto3>=1.10.32->smdebug) (0.10.0)\n",
      "Requirement already satisfied: urllib3<1.27,>=1.25.4 in /home/ec2-user/anaconda3/envs/tensorflow_p36/lib/python3.6/site-packages (from botocore<1.21.0,>=1.20.55->boto3>=1.10.32->smdebug) (1.26.4)\n",
      "Requirement already satisfied: python-dateutil<3.0.0,>=2.1 in /home/ec2-user/anaconda3/envs/tensorflow_p36/lib/python3.6/site-packages (from botocore<1.21.0,>=1.20.55->boto3>=1.10.32->smdebug) (2.8.1)\n",
      "Requirement already satisfied: six>=1.9 in /home/ec2-user/anaconda3/envs/tensorflow_p36/lib/python3.6/site-packages (from protobuf>=3.6.0->smdebug) (1.15.0)\n",
      "Collecting pyinstrument-cext>=0.2.2\n",
      "  Downloading pyinstrument_cext-0.2.4-cp36-cp36m-manylinux2010_x86_64.whl (20 kB)\n",
      "Requirement already satisfied: pyparsing>=2.0.2 in /home/ec2-user/anaconda3/envs/tensorflow_p36/lib/python3.6/site-packages (from packaging->smdebug) (2.4.7)\n",
      "Installing collected packages: pyinstrument-cext, pyinstrument, smdebug\n",
      "Successfully installed pyinstrument-3.4.1 pyinstrument-cext-0.2.4 smdebug-1.0.8\n"
     ]
    }
   ],
   "source": [
    "!pip install sagemaker-experiments\n",
    "!pip install s3fs\n",
    "!pip install matplotlib\n",
    "!pip install seaborn\n",
    "!pip install shap\n",
    "!pip install smdebug\n"
   ]
  },
  {
   "cell_type": "code",
   "execution_count": 2,
   "metadata": {},
   "outputs": [
    {
     "name": "stdout",
     "output_type": "stream",
     "text": [
      "WARNING:tensorflow:From /home/ec2-user/anaconda3/envs/tensorflow_p36/cpu/lib/python3.6/site-packages/tensorflow_core/__init__.py:1473: The name tf.estimator.inputs is deprecated. Please use tf.compat.v1.estimator.inputs instead.\n",
      "\n"
     ]
    }
   ],
   "source": [
    "from io import StringIO\n",
    "import numpy as np\n",
    "import os\n",
    "import pandas as pd\n",
    "import boto3\n",
    "import time\n",
    "import s3fs\n",
    "from datetime import datetime\n",
    "\n",
    "import matplotlib.pyplot as plt\n",
    "import seaborn as sns\n",
    "import re\n",
    "import shap\n",
    "from scipy import stats\n",
    "import copy"
   ]
  },
  {
   "cell_type": "code",
   "execution_count": 3,
   "metadata": {},
   "outputs": [
    {
     "name": "stdout",
     "output_type": "stream",
     "text": [
      "WARNING:tensorflow:From /home/ec2-user/anaconda3/envs/tensorflow_p36/lib/python3.6/site-packages/horovod/tensorflow/__init__.py:163: The name tf.global_variables is deprecated. Please use tf.compat.v1.global_variables instead.\n",
      "\n"
     ]
    },
    {
     "name": "stderr",
     "output_type": "stream",
     "text": [
      "WARNING:tensorflow:From /home/ec2-user/anaconda3/envs/tensorflow_p36/lib/python3.6/site-packages/horovod/tensorflow/__init__.py:163: The name tf.global_variables is deprecated. Please use tf.compat.v1.global_variables instead.\n",
      "\n"
     ]
    },
    {
     "name": "stdout",
     "output_type": "stream",
     "text": [
      "WARNING:tensorflow:From /home/ec2-user/anaconda3/envs/tensorflow_p36/lib/python3.6/site-packages/horovod/tensorflow/__init__.py:189: The name tf.get_default_graph is deprecated. Please use tf.compat.v1.get_default_graph instead.\n",
      "\n"
     ]
    },
    {
     "name": "stderr",
     "output_type": "stream",
     "text": [
      "WARNING:tensorflow:From /home/ec2-user/anaconda3/envs/tensorflow_p36/lib/python3.6/site-packages/horovod/tensorflow/__init__.py:189: The name tf.get_default_graph is deprecated. Please use tf.compat.v1.get_default_graph instead.\n",
      "\n"
     ]
    },
    {
     "name": "stdout",
     "output_type": "stream",
     "text": [
      "[2021-04-29 13:00:19.999 ip-172-16-22-47:5486 INFO utils.py:27] RULE_JOB_STOP_SIGNAL_FILENAME: None\n"
     ]
    }
   ],
   "source": [
    "import sagemaker\n",
    "from sagemaker import get_execution_role\n",
    "from sagemaker.analytics import ExperimentAnalytics\n",
    "\n",
    "from smexperiments.experiment import Experiment\n",
    "from smexperiments.trial import Trial\n",
    "from smexperiments.trial_component import TrialComponent\n",
    "from smexperiments.tracker import Tracker\n",
    "\n",
    "from sagemaker.sklearn.estimator import SKLearn\n",
    "from sagemaker.debugger import rule_configs, Rule, DebuggerHookConfig,CollectionConfig\n",
    "from sagemaker.estimator import Estimator\n",
    "from sagemaker.session import s3_input\n",
    "from sagemaker.amazon.amazon_estimator import get_image_uri\n",
    "from sagemaker.session import Session\n",
    "\n",
    "from smdebug.trials  import create_trial"
   ]
  },
  {
   "cell_type": "markdown",
   "metadata": {},
   "source": [
    "# Configs"
   ]
  },
  {
   "cell_type": "code",
   "execution_count": 4,
   "metadata": {},
   "outputs": [
    {
     "name": "stdout",
     "output_type": "stream",
     "text": [
      "current_time: 2021-04-29--13-00-54\n"
     ]
    }
   ],
   "source": [
    "now = datetime.now()\n",
    "\n",
    "current_time = now.strftime(\"%Y-%m-%d--%H-%M-%S\")\n",
    "print(\"current_time:\",current_time)\n",
    "\n",
    "sagemaker_session = sagemaker.Session()\n",
    "\n",
    "role = 'arn:aws:iam::752400441523:role/Sagemaker_Access'\n",
    "\n",
    "bucket = '1905-assignment2-sm'\n",
    "prefix = 'Scikit-pre-model-Inference-Pipelines'\n",
    "\n",
    "train_data = 's3://1905-assignment2-sm/housing/imput-datasets/train_data_without_header.csv'\n",
    "test_data = 's3://1905-assignment2-sm/housing/imput-datasets/test_data_without_header.csv'\n",
    "\n",
    "FRAMEWORK_VERSION = \"0.23-1\"\n",
    "script_path = 'sklearn_pipeline.py'\n",
    "dependency_path ='dependencies.py'\n",
    "\n",
    "base_job_name = f\"Builtin-XGB-algo-{current_time}\"\n",
    "\n",
    "output_data_prefix = f'housing/datasets/output/{base_job_name}'\n",
    "data_output_path = f's3://{bucket}/{output_data_prefix}'\n",
    "\n",
    "debug_prefix = f'housing/jobs/debug/{base_job_name}'\n",
    "debug_path = f's3://{bucket}/{debug_prefix}'\n",
    "\n",
    "experiment_name_prefix = \"builtin-xgboost-track13\""
   ]
  },
  {
   "cell_type": "code",
   "execution_count": 5,
   "metadata": {},
   "outputs": [
    {
     "data": {
      "text/plain": [
       "'s3://1905-assignment2-sm/housing/imput-datasets/train_data_without_header.csv'"
      ]
     },
     "execution_count": 5,
     "metadata": {},
     "output_type": "execute_result"
    }
   ],
   "source": [
    "train_data"
   ]
  },
  {
   "cell_type": "code",
   "execution_count": 6,
   "metadata": {},
   "outputs": [
    {
     "data": {
      "text/plain": [
       "'arn:aws:iam::752400441523:role/Sagemaker_Access'"
      ]
     },
     "execution_count": 6,
     "metadata": {},
     "output_type": "execute_result"
    }
   ],
   "source": [
    "role"
   ]
  },
  {
   "cell_type": "markdown",
   "metadata": {},
   "source": [
    "# Batch transform"
   ]
  },
  {
   "cell_type": "markdown",
   "metadata": {},
   "source": [
    "## Fit the train data"
   ]
  },
  {
   "cell_type": "code",
   "execution_count": 7,
   "metadata": {},
   "outputs": [
    {
     "name": "stderr",
     "output_type": "stream",
     "text": [
      "WARNING:sagemaker.deprecations:train_instance_type has been renamed in sagemaker>=2.\n",
      "See: https://sagemaker.readthedocs.io/en/stable/v2.html for details.\n",
      "WARNING:sagemaker.deprecations:train_instance_type has been renamed in sagemaker>=2.\n",
      "See: https://sagemaker.readthedocs.io/en/stable/v2.html for details.\n",
      "WARNING:sagemaker.deprecations:train_max_run has been renamed in sagemaker>=2.\n",
      "See: https://sagemaker.readthedocs.io/en/stable/v2.html for details.\n",
      "INFO:sagemaker.image_uris:Same images used for training and inference. Defaulting to image scope: inference.\n"
     ]
    }
   ],
   "source": [
    "sklearn_preprocessor = SKLearn(\n",
    "    entry_point = script_path,\n",
    "    role = role,\n",
    "    framework_version = FRAMEWORK_VERSION,\n",
    "    train_instance_type =   \"local\" , #\"ml.m5.xlarge\",\n",
    "    train_use_spot_instance = True,\n",
    "    train_max_run = 600,\n",
    "   # train_max_wait = 1200,\n",
    "    dependencies = [dependency_path],\n",
    "#    sagemaker_session = sagemaker_session\n",
    ")"
   ]
  },
  {
   "cell_type": "code",
   "execution_count": 8,
   "metadata": {},
   "outputs": [
    {
     "data": {
      "text/plain": [
       "'arn:aws:iam::752400441523:role/Sagemaker_Access'"
      ]
     },
     "execution_count": 8,
     "metadata": {},
     "output_type": "execute_result"
    }
   ],
   "source": [
    "role"
   ]
  },
  {
   "cell_type": "code",
   "execution_count": 9,
   "metadata": {},
   "outputs": [
    {
     "name": "stderr",
     "output_type": "stream",
     "text": [
      "INFO:sagemaker.image_uris:Defaulting to the only supported framework/algorithm version: latest.\n",
      "INFO:sagemaker.image_uris:Ignoring unnecessary instance type: None.\n",
      "INFO:sagemaker:Creating training-job with name: Builtin-XGB-algo-2021-04-29--13-00-54\n",
      "INFO:sagemaker.local.local_session:Starting training job\n",
      "INFO:sagemaker.local.image:No AWS credentials found in session but credentials from EC2 Metadata Service are available.\n",
      "INFO:sagemaker.local.image:docker compose file: \n",
      "networks:\n",
      "  sagemaker-local:\n",
      "    name: sagemaker-local\n",
      "services:\n",
      "  algo-1-cz8zr:\n",
      "    command: train\n",
      "    container_name: lfbblfgj6z-algo-1-cz8zr\n",
      "    environment:\n",
      "    - '[Masked]'\n",
      "    - '[Masked]'\n",
      "    image: 683313688378.dkr.ecr.us-east-1.amazonaws.com/sagemaker-scikit-learn:0.23-1-cpu-py3\n",
      "    networks:\n",
      "      sagemaker-local:\n",
      "        aliases:\n",
      "        - algo-1-cz8zr\n",
      "    stdin_open: true\n",
      "    tty: true\n",
      "    volumes:\n",
      "    - /tmp/tmp_shdyfpa/algo-1-cz8zr/input:/opt/ml/input\n",
      "    - /tmp/tmp_shdyfpa/algo-1-cz8zr/output/data:/opt/ml/output/data\n",
      "    - /tmp/tmp_shdyfpa/algo-1-cz8zr/output:/opt/ml/output\n",
      "    - /tmp/tmp_shdyfpa/model:/opt/ml/model\n",
      "    - /opt/ml/metadata:/opt/ml/metadata\n",
      "    - /tmp/tmpu71oo4ft:/opt/ml/input/data/train\n",
      "version: '2.3'\n",
      "\n",
      "INFO:sagemaker.local.image:docker command: docker-compose -f /tmp/tmp_shdyfpa/docker-compose.yaml up --build --abort-on-container-exit\n",
      "INFO:sagemaker.local.image:docker command: docker pull 683313688378.dkr.ecr.us-east-1.amazonaws.com/sagemaker-scikit-learn:0.23-1-cpu-py3\n",
      "INFO:sagemaker.local.image:image pulled: 683313688378.dkr.ecr.us-east-1.amazonaws.com/sagemaker-scikit-learn:0.23-1-cpu-py3\n"
     ]
    },
    {
     "name": "stdout",
     "output_type": "stream",
     "text": [
      "Creating lfbblfgj6z-algo-1-cz8zr ... \n",
      "Creating lfbblfgj6z-algo-1-cz8zr ... done\n",
      "Attaching to lfbblfgj6z-algo-1-cz8zr\n",
      "\u001b[36mlfbblfgj6z-algo-1-cz8zr |\u001b[0m 2021-04-29 13:02:17,515 sagemaker-containers INFO     Imported framework sagemaker_sklearn_container.training\n",
      "\u001b[36mlfbblfgj6z-algo-1-cz8zr |\u001b[0m 2021-04-29 13:02:17,519 sagemaker-training-toolkit INFO     No GPUs detected (normal if no gpus installed)\n",
      "\u001b[36mlfbblfgj6z-algo-1-cz8zr |\u001b[0m 2021-04-29 13:02:17,532 sagemaker_sklearn_container.training INFO     Invoking user training script.\n",
      "\u001b[36mlfbblfgj6z-algo-1-cz8zr |\u001b[0m 2021-04-29 13:02:18,004 sagemaker-training-toolkit INFO     No GPUs detected (normal if no gpus installed)\n",
      "\u001b[36mlfbblfgj6z-algo-1-cz8zr |\u001b[0m 2021-04-29 13:02:18,020 sagemaker-training-toolkit INFO     No GPUs detected (normal if no gpus installed)\n",
      "\u001b[36mlfbblfgj6z-algo-1-cz8zr |\u001b[0m 2021-04-29 13:02:18,036 sagemaker-training-toolkit INFO     No GPUs detected (normal if no gpus installed)\n",
      "\u001b[36mlfbblfgj6z-algo-1-cz8zr |\u001b[0m 2021-04-29 13:02:18,048 sagemaker-training-toolkit INFO     Invoking user script\n",
      "\u001b[36mlfbblfgj6z-algo-1-cz8zr |\u001b[0m \n",
      "\u001b[36mlfbblfgj6z-algo-1-cz8zr |\u001b[0m Training Env:\n",
      "\u001b[36mlfbblfgj6z-algo-1-cz8zr |\u001b[0m \n",
      "\u001b[36mlfbblfgj6z-algo-1-cz8zr |\u001b[0m {\n",
      "\u001b[36mlfbblfgj6z-algo-1-cz8zr |\u001b[0m     \"additional_framework_parameters\": {},\n",
      "\u001b[36mlfbblfgj6z-algo-1-cz8zr |\u001b[0m     \"channel_input_dirs\": {\n",
      "\u001b[36mlfbblfgj6z-algo-1-cz8zr |\u001b[0m         \"train\": \"/opt/ml/input/data/train\"\n",
      "\u001b[36mlfbblfgj6z-algo-1-cz8zr |\u001b[0m     },\n",
      "\u001b[36mlfbblfgj6z-algo-1-cz8zr |\u001b[0m     \"current_host\": \"algo-1-cz8zr\",\n",
      "\u001b[36mlfbblfgj6z-algo-1-cz8zr |\u001b[0m     \"framework_module\": \"sagemaker_sklearn_container.training:main\",\n",
      "\u001b[36mlfbblfgj6z-algo-1-cz8zr |\u001b[0m     \"hosts\": [\n",
      "\u001b[36mlfbblfgj6z-algo-1-cz8zr |\u001b[0m         \"algo-1-cz8zr\"\n",
      "\u001b[36mlfbblfgj6z-algo-1-cz8zr |\u001b[0m     ],\n",
      "\u001b[36mlfbblfgj6z-algo-1-cz8zr |\u001b[0m     \"hyperparameters\": {},\n",
      "\u001b[36mlfbblfgj6z-algo-1-cz8zr |\u001b[0m     \"input_config_dir\": \"/opt/ml/input/config\",\n",
      "\u001b[36mlfbblfgj6z-algo-1-cz8zr |\u001b[0m     \"input_data_config\": {\n",
      "\u001b[36mlfbblfgj6z-algo-1-cz8zr |\u001b[0m         \"train\": {\n",
      "\u001b[36mlfbblfgj6z-algo-1-cz8zr |\u001b[0m             \"TrainingInputMode\": \"File\"\n",
      "\u001b[36mlfbblfgj6z-algo-1-cz8zr |\u001b[0m         }\n",
      "\u001b[36mlfbblfgj6z-algo-1-cz8zr |\u001b[0m     },\n",
      "\u001b[36mlfbblfgj6z-algo-1-cz8zr |\u001b[0m     \"input_dir\": \"/opt/ml/input\",\n",
      "\u001b[36mlfbblfgj6z-algo-1-cz8zr |\u001b[0m     \"is_master\": true,\n",
      "\u001b[36mlfbblfgj6z-algo-1-cz8zr |\u001b[0m     \"job_name\": \"Builtin-XGB-algo-2021-04-29--13-00-54\",\n",
      "\u001b[36mlfbblfgj6z-algo-1-cz8zr |\u001b[0m     \"log_level\": 20,\n",
      "\u001b[36mlfbblfgj6z-algo-1-cz8zr |\u001b[0m     \"master_hostname\": \"algo-1-cz8zr\",\n",
      "\u001b[36mlfbblfgj6z-algo-1-cz8zr |\u001b[0m     \"model_dir\": \"/opt/ml/model\",\n",
      "\u001b[36mlfbblfgj6z-algo-1-cz8zr |\u001b[0m     \"module_dir\": \"s3://sagemaker-us-east-1-752400441523/Builtin-XGB-algo-2021-04-29--13-00-54/source/sourcedir.tar.gz\",\n",
      "\u001b[36mlfbblfgj6z-algo-1-cz8zr |\u001b[0m     \"module_name\": \"sklearn_pipeline\",\n",
      "\u001b[36mlfbblfgj6z-algo-1-cz8zr |\u001b[0m     \"network_interface_name\": \"eth0\",\n",
      "\u001b[36mlfbblfgj6z-algo-1-cz8zr |\u001b[0m     \"num_cpus\": 2,\n",
      "\u001b[36mlfbblfgj6z-algo-1-cz8zr |\u001b[0m     \"num_gpus\": 0,\n",
      "\u001b[36mlfbblfgj6z-algo-1-cz8zr |\u001b[0m     \"output_data_dir\": \"/opt/ml/output/data\",\n",
      "\u001b[36mlfbblfgj6z-algo-1-cz8zr |\u001b[0m     \"output_dir\": \"/opt/ml/output\",\n",
      "\u001b[36mlfbblfgj6z-algo-1-cz8zr |\u001b[0m     \"output_intermediate_dir\": \"/opt/ml/output/intermediate\",\n",
      "\u001b[36mlfbblfgj6z-algo-1-cz8zr |\u001b[0m     \"resource_config\": {\n",
      "\u001b[36mlfbblfgj6z-algo-1-cz8zr |\u001b[0m         \"current_host\": \"algo-1-cz8zr\",\n",
      "\u001b[36mlfbblfgj6z-algo-1-cz8zr |\u001b[0m         \"hosts\": [\n",
      "\u001b[36mlfbblfgj6z-algo-1-cz8zr |\u001b[0m             \"algo-1-cz8zr\"\n",
      "\u001b[36mlfbblfgj6z-algo-1-cz8zr |\u001b[0m         ]\n",
      "\u001b[36mlfbblfgj6z-algo-1-cz8zr |\u001b[0m     },\n",
      "\u001b[36mlfbblfgj6z-algo-1-cz8zr |\u001b[0m     \"user_entry_point\": \"sklearn_pipeline.py\"\n",
      "\u001b[36mlfbblfgj6z-algo-1-cz8zr |\u001b[0m }\n",
      "\u001b[36mlfbblfgj6z-algo-1-cz8zr |\u001b[0m \n",
      "\u001b[36mlfbblfgj6z-algo-1-cz8zr |\u001b[0m Environment variables:\n",
      "\u001b[36mlfbblfgj6z-algo-1-cz8zr |\u001b[0m \n",
      "\u001b[36mlfbblfgj6z-algo-1-cz8zr |\u001b[0m SM_HOSTS=[\"algo-1-cz8zr\"]\n",
      "\u001b[36mlfbblfgj6z-algo-1-cz8zr |\u001b[0m SM_NETWORK_INTERFACE_NAME=eth0\n",
      "\u001b[36mlfbblfgj6z-algo-1-cz8zr |\u001b[0m SM_HPS={}\n",
      "\u001b[36mlfbblfgj6z-algo-1-cz8zr |\u001b[0m SM_USER_ENTRY_POINT=sklearn_pipeline.py\n",
      "\u001b[36mlfbblfgj6z-algo-1-cz8zr |\u001b[0m SM_FRAMEWORK_PARAMS={}\n",
      "\u001b[36mlfbblfgj6z-algo-1-cz8zr |\u001b[0m SM_RESOURCE_CONFIG={\"current_host\":\"algo-1-cz8zr\",\"hosts\":[\"algo-1-cz8zr\"]}\n",
      "\u001b[36mlfbblfgj6z-algo-1-cz8zr |\u001b[0m SM_INPUT_DATA_CONFIG={\"train\":{\"TrainingInputMode\":\"File\"}}\n",
      "\u001b[36mlfbblfgj6z-algo-1-cz8zr |\u001b[0m SM_OUTPUT_DATA_DIR=/opt/ml/output/data\n",
      "\u001b[36mlfbblfgj6z-algo-1-cz8zr |\u001b[0m SM_CHANNELS=[\"train\"]\n",
      "\u001b[36mlfbblfgj6z-algo-1-cz8zr |\u001b[0m SM_CURRENT_HOST=algo-1-cz8zr\n",
      "\u001b[36mlfbblfgj6z-algo-1-cz8zr |\u001b[0m SM_MODULE_NAME=sklearn_pipeline\n",
      "\u001b[36mlfbblfgj6z-algo-1-cz8zr |\u001b[0m SM_LOG_LEVEL=20\n",
      "\u001b[36mlfbblfgj6z-algo-1-cz8zr |\u001b[0m SM_FRAMEWORK_MODULE=sagemaker_sklearn_container.training:main\n",
      "\u001b[36mlfbblfgj6z-algo-1-cz8zr |\u001b[0m SM_INPUT_DIR=/opt/ml/input\n",
      "\u001b[36mlfbblfgj6z-algo-1-cz8zr |\u001b[0m SM_INPUT_CONFIG_DIR=/opt/ml/input/config\n",
      "\u001b[36mlfbblfgj6z-algo-1-cz8zr |\u001b[0m SM_OUTPUT_DIR=/opt/ml/output\n",
      "\u001b[36mlfbblfgj6z-algo-1-cz8zr |\u001b[0m SM_NUM_CPUS=2\n",
      "\u001b[36mlfbblfgj6z-algo-1-cz8zr |\u001b[0m SM_NUM_GPUS=0\n",
      "\u001b[36mlfbblfgj6z-algo-1-cz8zr |\u001b[0m SM_MODEL_DIR=/opt/ml/model\n",
      "\u001b[36mlfbblfgj6z-algo-1-cz8zr |\u001b[0m SM_MODULE_DIR=s3://sagemaker-us-east-1-752400441523/Builtin-XGB-algo-2021-04-29--13-00-54/source/sourcedir.tar.gz\n",
      "\u001b[36mlfbblfgj6z-algo-1-cz8zr |\u001b[0m SM_TRAINING_ENV={\"additional_framework_parameters\":{},\"channel_input_dirs\":{\"train\":\"/opt/ml/input/data/train\"},\"current_host\":\"algo-1-cz8zr\",\"framework_module\":\"sagemaker_sklearn_container.training:main\",\"hosts\":[\"algo-1-cz8zr\"],\"hyperparameters\":{},\"input_config_dir\":\"/opt/ml/input/config\",\"input_data_config\":{\"train\":{\"TrainingInputMode\":\"File\"}},\"input_dir\":\"/opt/ml/input\",\"is_master\":true,\"job_name\":\"Builtin-XGB-algo-2021-04-29--13-00-54\",\"log_level\":20,\"master_hostname\":\"algo-1-cz8zr\",\"model_dir\":\"/opt/ml/model\",\"module_dir\":\"s3://sagemaker-us-east-1-752400441523/Builtin-XGB-algo-2021-04-29--13-00-54/source/sourcedir.tar.gz\",\"module_name\":\"sklearn_pipeline\",\"network_interface_name\":\"eth0\",\"num_cpus\":2,\"num_gpus\":0,\"output_data_dir\":\"/opt/ml/output/data\",\"output_dir\":\"/opt/ml/output\",\"output_intermediate_dir\":\"/opt/ml/output/intermediate\",\"resource_config\":{\"current_host\":\"algo-1-cz8zr\",\"hosts\":[\"algo-1-cz8zr\"]},\"user_entry_point\":\"sklearn_pipeline.py\"}\n",
      "\u001b[36mlfbblfgj6z-algo-1-cz8zr |\u001b[0m SM_USER_ARGS=[]\n",
      "\u001b[36mlfbblfgj6z-algo-1-cz8zr |\u001b[0m SM_OUTPUT_INTERMEDIATE_DIR=/opt/ml/output/intermediate\n",
      "\u001b[36mlfbblfgj6z-algo-1-cz8zr |\u001b[0m SM_CHANNEL_TRAIN=/opt/ml/input/data/train\n",
      "\u001b[36mlfbblfgj6z-algo-1-cz8zr |\u001b[0m PYTHONPATH=/opt/ml/code:/miniconda3/bin:/miniconda3/lib/python37.zip:/miniconda3/lib/python3.7:/miniconda3/lib/python3.7/lib-dynload:/miniconda3/lib/python3.7/site-packages\n",
      "\u001b[36mlfbblfgj6z-algo-1-cz8zr |\u001b[0m \n",
      "\u001b[36mlfbblfgj6z-algo-1-cz8zr |\u001b[0m Invoking script with the following command:\n",
      "\u001b[36mlfbblfgj6z-algo-1-cz8zr |\u001b[0m \n",
      "\u001b[36mlfbblfgj6z-algo-1-cz8zr |\u001b[0m /miniconda3/bin/python sklearn_pipeline.py\n",
      "\u001b[36mlfbblfgj6z-algo-1-cz8zr |\u001b[0m \n",
      "\u001b[36mlfbblfgj6z-algo-1-cz8zr |\u001b[0m \n",
      "\u001b[36mlfbblfgj6z-algo-1-cz8zr |\u001b[0m *********************\n",
      "\u001b[36mlfbblfgj6z-algo-1-cz8zr |\u001b[0m *****Executing numeric transformer******\n",
      "\u001b[36mlfbblfgj6z-algo-1-cz8zr |\u001b[0m *****Executing categorical transformer*****\n",
      "\u001b[36mlfbblfgj6z-algo-1-cz8zr |\u001b[0m *****Executing Column Transformer*****\n",
      "\u001b[36mlfbblfgj6z-algo-1-cz8zr |\u001b[0m preprocessor\n",
      "\u001b[36mlfbblfgj6z-algo-1-cz8zr |\u001b[0m ColumnTransformer(transformers=[('num',\n",
      "\u001b[36mlfbblfgj6z-algo-1-cz8zr |\u001b[0m                                  Pipeline(steps=[('simpleimputer',\n",
      "\u001b[36mlfbblfgj6z-algo-1-cz8zr |\u001b[0m                                                   SimpleImputer(strategy='median')),\n",
      "\u001b[36mlfbblfgj6z-algo-1-cz8zr |\u001b[0m                                                  ('combinedattributesadder',\n",
      "\u001b[36mlfbblfgj6z-algo-1-cz8zr |\u001b[0m                                                   CombinedAttributesAdder()),\n",
      "\u001b[36mlfbblfgj6z-algo-1-cz8zr |\u001b[0m                                                  ('standardscaler',\n",
      "\u001b[36mlfbblfgj6z-algo-1-cz8zr |\u001b[0m                                                   StandardScaler())]),\n",
      "\u001b[36mlfbblfgj6z-algo-1-cz8zr |\u001b[0m                                  <sklearn.compose._column_transformer.make_column_selector object at 0x7fcbd07fcc10>),\n",
      "\u001b[36mlfbblfgj6z-algo-1-cz8zr |\u001b[0m                                 ('cat',\n",
      "\u001b[36mlfbblfgj6z-algo-1-cz8zr |\u001b[0m                                  Pipeline(steps=[('simpleimputer',\n",
      "\u001b[36mlfbblfgj6z-algo-1-cz8zr |\u001b[0m                                                   SimpleImputer(fill_value='missing',\n",
      "\u001b[36mlfbblfgj6z-algo-1-cz8zr |\u001b[0m                                                                 strategy='constant')),\n",
      "\u001b[36mlfbblfgj6z-algo-1-cz8zr |\u001b[0m                                                  ('onehotencoder',\n",
      "\u001b[36mlfbblfgj6z-algo-1-cz8zr |\u001b[0m                                                   OneHotEncoder(handle_unknown='ignore'))]),\n",
      "\u001b[36mlfbblfgj6z-algo-1-cz8zr |\u001b[0m                                  <sklearn.compose._column_transformer.make_column_selector object at 0x7fcbd07fce10>)])\n",
      "\u001b[36mlfbblfgj6z-algo-1-cz8zr |\u001b[0m *****Executing FIT*****\n",
      "\u001b[36mlfbblfgj6z-algo-1-cz8zr |\u001b[0m Index(['longitude', 'latitude', 'housing_median_age', 'total_rooms',\n",
      "\u001b[36mlfbblfgj6z-algo-1-cz8zr |\u001b[0m        'total_bedrooms', 'population', 'households', 'median_income',\n",
      "\u001b[36mlfbblfgj6z-algo-1-cz8zr |\u001b[0m        'ocean_proximity'],\n",
      "\u001b[36mlfbblfgj6z-algo-1-cz8zr |\u001b[0m       dtype='object')\n",
      "\u001b[36mlfbblfgj6z-algo-1-cz8zr |\u001b[0m saved model!\n",
      "\u001b[36mlfbblfgj6z-algo-1-cz8zr |\u001b[0m 2021-04-29 13:02:19,506 sagemaker-containers INFO     Reporting training SUCCESS\n",
      "\u001b[36mlfbblfgj6z-algo-1-cz8zr exited with code 0\n",
      "\u001b[0mAborting on container exit...\n",
      "===== Job Complete =====\n"
     ]
    }
   ],
   "source": [
    "sklearn_preprocessor.fit(\n",
    "    inputs={'train':train_data},\n",
    "    job_name=base_job_name)"
   ]
  },
  {
   "cell_type": "markdown",
   "metadata": {},
   "source": [
    "## Transform the training data"
   ]
  },
  {
   "cell_type": "code",
   "execution_count": 10,
   "metadata": {},
   "outputs": [
    {
     "name": "stderr",
     "output_type": "stream",
     "text": [
      "INFO:sagemaker:Creating model with name: sagemaker-scikit-learn-2021-04-29-13-02-56-967\n"
     ]
    }
   ],
   "source": [
    "transformer = sklearn_preprocessor.transformer(\n",
    "    instance_count=1,\n",
    "    instance_type=\"local\" , #'ml.m5.xlarge',\n",
    "    assemble_with = 'Line',\n",
    "    accept = 'text/csv',\n",
    "    output_path=data_output_path)"
   ]
  },
  {
   "cell_type": "code",
   "execution_count": 11,
   "metadata": {},
   "outputs": [
    {
     "name": "stderr",
     "output_type": "stream",
     "text": [
      "INFO:sagemaker:Creating transform job with name: Builtin-XGB-algo-2021-04-29--13-00-54-train\n",
      "INFO:sagemaker.local.image:serving\n",
      "INFO:sagemaker.local.image:creating hosting dir in /tmp/tmpwlm5rxgr\n",
      "INFO:sagemaker.local.image:No AWS credentials found in session but credentials from EC2 Metadata Service are available.\n",
      "INFO:sagemaker.local.image:docker compose file: \n",
      "networks:\n",
      "  sagemaker-local:\n",
      "    name: sagemaker-local\n",
      "services:\n",
      "  algo-1-l2gni:\n",
      "    command: serve\n",
      "    container_name: a4cz7eypx6-algo-1-l2gni\n",
      "    environment:\n",
      "    - '[Masked]'\n",
      "    - '[Masked]'\n",
      "    - '[Masked]'\n",
      "    - '[Masked]'\n",
      "    - '[Masked]'\n",
      "    - '[Masked]'\n",
      "    image: 683313688378.dkr.ecr.us-east-1.amazonaws.com/sagemaker-scikit-learn:0.23-1-cpu-py3\n",
      "    networks:\n",
      "      sagemaker-local:\n",
      "        aliases:\n",
      "        - algo-1-l2gni\n",
      "    ports:\n",
      "    - 8080:8080\n",
      "    stdin_open: true\n",
      "    tty: true\n",
      "    volumes:\n",
      "    - /tmp/tmpifbpfaxk:/opt/ml/model\n",
      "version: '2.3'\n",
      "\n",
      "INFO:sagemaker.local.image:docker command: docker-compose -f /tmp/tmpwlm5rxgr/docker-compose.yaml up --build --abort-on-container-exit\n",
      "INFO:sagemaker.local.entities:Checking if serving container is up, attempt: 5\n",
      "WARNING:urllib3.connectionpool:Retrying (Retry(total=2, connect=None, read=None, redirect=None, status=None)) after connection broken by 'NewConnectionError('<urllib3.connection.HTTPConnection object at 0x7f9806aa7748>: Failed to establish a new connection: [Errno 111] Connection refused',)': /ping\n",
      "WARNING:urllib3.connectionpool:Retrying (Retry(total=1, connect=None, read=None, redirect=None, status=None)) after connection broken by 'NewConnectionError('<urllib3.connection.HTTPConnection object at 0x7f9806aa7320>: Failed to establish a new connection: [Errno 111] Connection refused',)': /ping\n",
      "WARNING:urllib3.connectionpool:Retrying (Retry(total=0, connect=None, read=None, redirect=None, status=None)) after connection broken by 'NewConnectionError('<urllib3.connection.HTTPConnection object at 0x7f9806aa77b8>: Failed to establish a new connection: [Errno 111] Connection refused',)': /ping\n",
      "INFO:sagemaker.local.entities:Container still not up, got: -1\n"
     ]
    },
    {
     "name": "stdout",
     "output_type": "stream",
     "text": [
      "Attaching to a4cz7eypx6-algo-1-l2gni\n",
      "\u001b[36ma4cz7eypx6-algo-1-l2gni |\u001b[0m 2021-04-29 13:03:05,052 INFO - sagemaker-containers - No GPUs detected (normal if no gpus installed)\n",
      "\u001b[36ma4cz7eypx6-algo-1-l2gni |\u001b[0m 2021-04-29 13:03:05,056 INFO - sagemaker-containers - No GPUs detected (normal if no gpus installed)\n",
      "\u001b[36ma4cz7eypx6-algo-1-l2gni |\u001b[0m 2021-04-29 13:03:05,057 INFO - sagemaker-containers - nginx config: \n",
      "\u001b[36ma4cz7eypx6-algo-1-l2gni |\u001b[0m worker_processes auto;\n",
      "\u001b[36ma4cz7eypx6-algo-1-l2gni |\u001b[0m daemon off;\n",
      "\u001b[36ma4cz7eypx6-algo-1-l2gni |\u001b[0m pid /tmp/nginx.pid;\n",
      "\u001b[36ma4cz7eypx6-algo-1-l2gni |\u001b[0m error_log  /dev/stderr;\n",
      "\u001b[36ma4cz7eypx6-algo-1-l2gni |\u001b[0m \n",
      "\u001b[36ma4cz7eypx6-algo-1-l2gni |\u001b[0m worker_rlimit_nofile 4096;\n",
      "\u001b[36ma4cz7eypx6-algo-1-l2gni |\u001b[0m \n",
      "\u001b[36ma4cz7eypx6-algo-1-l2gni |\u001b[0m events {\n",
      "\u001b[36ma4cz7eypx6-algo-1-l2gni |\u001b[0m   worker_connections 2048;\n",
      "\u001b[36ma4cz7eypx6-algo-1-l2gni |\u001b[0m }\n",
      "\u001b[36ma4cz7eypx6-algo-1-l2gni |\u001b[0m \n",
      "\u001b[36ma4cz7eypx6-algo-1-l2gni |\u001b[0m http {\n",
      "\u001b[36ma4cz7eypx6-algo-1-l2gni |\u001b[0m   include /etc/nginx/mime.types;\n",
      "\u001b[36ma4cz7eypx6-algo-1-l2gni |\u001b[0m   default_type application/octet-stream;\n",
      "\u001b[36ma4cz7eypx6-algo-1-l2gni |\u001b[0m   access_log /dev/stdout combined;\n",
      "\u001b[36ma4cz7eypx6-algo-1-l2gni |\u001b[0m \n",
      "\u001b[36ma4cz7eypx6-algo-1-l2gni |\u001b[0m   upstream gunicorn {\n",
      "\u001b[36ma4cz7eypx6-algo-1-l2gni |\u001b[0m     server unix:/tmp/gunicorn.sock;\n",
      "\u001b[36ma4cz7eypx6-algo-1-l2gni |\u001b[0m   }\n",
      "\u001b[36ma4cz7eypx6-algo-1-l2gni |\u001b[0m \n",
      "\u001b[36ma4cz7eypx6-algo-1-l2gni |\u001b[0m   server {\n",
      "\u001b[36ma4cz7eypx6-algo-1-l2gni |\u001b[0m     listen 8080 deferred;\n",
      "\u001b[36ma4cz7eypx6-algo-1-l2gni |\u001b[0m     client_max_body_size 0;\n",
      "\u001b[36ma4cz7eypx6-algo-1-l2gni |\u001b[0m \n",
      "\u001b[36ma4cz7eypx6-algo-1-l2gni |\u001b[0m     keepalive_timeout 3;\n",
      "\u001b[36ma4cz7eypx6-algo-1-l2gni |\u001b[0m \n",
      "\u001b[36ma4cz7eypx6-algo-1-l2gni |\u001b[0m     location ~ ^/(ping|invocations|execution-parameters) {\n",
      "\u001b[36ma4cz7eypx6-algo-1-l2gni |\u001b[0m       proxy_set_header X-Forwarded-For $proxy_add_x_forwarded_for;\n",
      "\u001b[36ma4cz7eypx6-algo-1-l2gni |\u001b[0m       proxy_set_header Host $http_host;\n",
      "\u001b[36ma4cz7eypx6-algo-1-l2gni |\u001b[0m       proxy_redirect off;\n",
      "\u001b[36ma4cz7eypx6-algo-1-l2gni |\u001b[0m       proxy_read_timeout 60s;\n",
      "\u001b[36ma4cz7eypx6-algo-1-l2gni |\u001b[0m       proxy_pass http://gunicorn;\n",
      "\u001b[36ma4cz7eypx6-algo-1-l2gni |\u001b[0m     }\n",
      "\u001b[36ma4cz7eypx6-algo-1-l2gni |\u001b[0m \n",
      "\u001b[36ma4cz7eypx6-algo-1-l2gni |\u001b[0m     location / {\n",
      "\u001b[36ma4cz7eypx6-algo-1-l2gni |\u001b[0m       return 404 \"{}\";\n",
      "\u001b[36ma4cz7eypx6-algo-1-l2gni |\u001b[0m     }\n",
      "\u001b[36ma4cz7eypx6-algo-1-l2gni |\u001b[0m \n",
      "\u001b[36ma4cz7eypx6-algo-1-l2gni |\u001b[0m   }\n",
      "\u001b[36ma4cz7eypx6-algo-1-l2gni |\u001b[0m }\n",
      "\u001b[36ma4cz7eypx6-algo-1-l2gni |\u001b[0m \n",
      "\u001b[36ma4cz7eypx6-algo-1-l2gni |\u001b[0m \n",
      "\u001b[36ma4cz7eypx6-algo-1-l2gni |\u001b[0m 2021-04-29 13:03:05,256 INFO - sagemaker-containers - Module sklearn_pipeline does not provide a setup.py. \n",
      "\u001b[36ma4cz7eypx6-algo-1-l2gni |\u001b[0m Generating setup.py\n",
      "\u001b[36ma4cz7eypx6-algo-1-l2gni |\u001b[0m 2021-04-29 13:03:05,257 INFO - sagemaker-containers - Generating setup.cfg\n",
      "\u001b[36ma4cz7eypx6-algo-1-l2gni |\u001b[0m 2021-04-29 13:03:05,257 INFO - sagemaker-containers - Generating MANIFEST.in\n",
      "\u001b[36ma4cz7eypx6-algo-1-l2gni |\u001b[0m 2021-04-29 13:03:05,257 INFO - sagemaker-containers - Installing module with the following command:\n",
      "\u001b[36ma4cz7eypx6-algo-1-l2gni |\u001b[0m /miniconda3/bin/python -m pip install . \n",
      "\u001b[36ma4cz7eypx6-algo-1-l2gni |\u001b[0m Processing /opt/ml/code\n",
      "\u001b[36ma4cz7eypx6-algo-1-l2gni |\u001b[0m Building wheels for collected packages: sklearn-pipeline\n",
      "\u001b[36ma4cz7eypx6-algo-1-l2gni |\u001b[0m   Building wheel for sklearn-pipeline (setup.py) ... \u001b[?25ldone\n",
      "\u001b[36ma4cz7eypx6-algo-1-l2gni |\u001b[0m \u001b[?25h  Created wheel for sklearn-pipeline: filename=sklearn_pipeline-1.0.0-py2.py3-none-any.whl size=7409 sha256=372c0234117ae28d9cf62f9cc8e4b4c415f072faf74fae8efaae740ff8bba013\n",
      "\u001b[36ma4cz7eypx6-algo-1-l2gni |\u001b[0m   Stored in directory: /home/model-server/tmp/pip-ephem-wheel-cache-dbma68nr/wheels/3e/0f/51/2f1df833dd0412c1bc2f5ee56baac195b5be563353d111dca6\n",
      "\u001b[36ma4cz7eypx6-algo-1-l2gni |\u001b[0m Successfully built sklearn-pipeline\n",
      "\u001b[36ma4cz7eypx6-algo-1-l2gni |\u001b[0m Installing collected packages: sklearn-pipeline\n",
      "\u001b[36ma4cz7eypx6-algo-1-l2gni |\u001b[0m Successfully installed sklearn-pipeline-1.0.0\n"
     ]
    },
    {
     "name": "stderr",
     "output_type": "stream",
     "text": [
      "INFO:sagemaker.local.entities:Checking if serving container is up, attempt: 10\n",
      "INFO:sagemaker.local.entities:Container still not up, got: 502\n"
     ]
    },
    {
     "name": "stdout",
     "output_type": "stream",
     "text": [
      "\u001b[36ma4cz7eypx6-algo-1-l2gni |\u001b[0m 2021/04/29 13:03:07 [crit] 13#13: *1 connect() to unix:/tmp/gunicorn.sock failed (2: No such file or directory) while connecting to upstream, client: 172.18.0.1, server: , request: \"GET /ping HTTP/1.1\", upstream: \"http://unix:/tmp/gunicorn.sock:/ping\", host: \"localhost:8080\"\n",
      "\u001b[36ma4cz7eypx6-algo-1-l2gni |\u001b[0m 172.18.0.1 - - [29/Apr/2021:13:03:07 +0000] \"GET /ping HTTP/1.1\" 502 182 \"-\" \"python-urllib3/1.26.4\"\n",
      "\u001b[36ma4cz7eypx6-algo-1-l2gni |\u001b[0m [2021-04-29 13:03:07 +0000] [30] [INFO] Starting gunicorn 20.0.4\n",
      "\u001b[36ma4cz7eypx6-algo-1-l2gni |\u001b[0m [2021-04-29 13:03:07 +0000] [30] [INFO] Listening at: unix:/tmp/gunicorn.sock (30)\n",
      "\u001b[36ma4cz7eypx6-algo-1-l2gni |\u001b[0m [2021-04-29 13:03:07 +0000] [30] [INFO] Using worker: gevent\n",
      "\u001b[36ma4cz7eypx6-algo-1-l2gni |\u001b[0m [2021-04-29 13:03:07 +0000] [33] [INFO] Booting worker with pid: 33\n",
      "\u001b[36ma4cz7eypx6-algo-1-l2gni |\u001b[0m [2021-04-29 13:03:07 +0000] [34] [INFO] Booting worker with pid: 34\n"
     ]
    },
    {
     "name": "stderr",
     "output_type": "stream",
     "text": [
      "INFO:sagemaker.local.entities:Checking if serving container is up, attempt: 15\n"
     ]
    },
    {
     "name": "stdout",
     "output_type": "stream",
     "text": [
      "\u001b[36ma4cz7eypx6-algo-1-l2gni |\u001b[0m 2021-04-29 13:03:12,570 INFO - sagemaker-containers - No GPUs detected (normal if no gpus installed)\n",
      "\u001b[36ma4cz7eypx6-algo-1-l2gni |\u001b[0m *****model function*****\n",
      "\u001b[36ma4cz7eypx6-algo-1-l2gni |\u001b[0m /opt/ml/model\n",
      "\u001b[36ma4cz7eypx6-algo-1-l2gni |\u001b[0m 172.18.0.1 - - [29/Apr/2021:13:03:13 +0000] \"GET /ping HTTP/1.1\" 200 0 \"-\" \"python-urllib3/1.26.4\"\n",
      "\u001b[36ma4cz7eypx6-algo-1-l2gni |\u001b[0m 2021-04-29 13:03:13,240 INFO - sagemaker-containers - No GPUs detected (normal if no gpus installed)\n",
      "\u001b[36ma4cz7eypx6-algo-1-l2gni |\u001b[0m *****model function*****\n",
      "\u001b[36ma4cz7eypx6-algo-1-l2gni |\u001b[0m /opt/ml/model\n",
      "\u001b[36ma4cz7eypx6-algo-1-l2gni |\u001b[0m 172.18.0.1 - - [29/Apr/2021:13:03:13 +0000] \"GET /execution-parameters HTTP/1.1\" 404 232 \"-\" \"python-urllib3/1.26.4\"\n",
      "\u001b[36ma4cz7eypx6-algo-1-l2gni |\u001b[0m *****predict function*****\n",
      "\u001b[36ma4cz7eypx6-algo-1-l2gni |\u001b[0m /miniconda3/lib/python3.7/site-packages/sklearn/compose/_column_transformer.py:440: FutureWarning: Given feature/column names or counts do not match the ones for the data given during fit. This will fail from v0.24.\n",
      "\u001b[36ma4cz7eypx6-algo-1-l2gni |\u001b[0m   FutureWarning)\n",
      "\u001b[36ma4cz7eypx6-algo-1-l2gni |\u001b[0m *****output function*****\n",
      "\u001b[36ma4cz7eypx6-algo-1-l2gni |\u001b[0m 172.18.0.1 - - [29/Apr/2021:13:03:14 +0000] \"POST /invocations HTTP/1.1\" 200 4052803 \"-\" \"python-urllib3/1.26.4\"\n",
      "Gracefully stopping... (press Ctrl+C again to force)\n",
      ".Waiting for transform job:Builtin-XGB-algo-2021-04-29--13-00-54-train\n",
      "."
     ]
    }
   ],
   "source": [
    "transformer.transform(\n",
    "    data=train_data,\n",
    "    content_type=\"text/csv\",\n",
    "    job_name=base_job_name+'-train')\n",
    "\n",
    "print(\"Waiting for transform job:\" + transformer.latest_transform_job.job_name)\n",
    "transformer.wait()"
   ]
  },
  {
   "cell_type": "code",
   "execution_count": 12,
   "metadata": {},
   "outputs": [],
   "source": [
    "preprocessed_train_data = transformer.output_path"
   ]
  },
  {
   "cell_type": "code",
   "execution_count": 13,
   "metadata": {},
   "outputs": [
    {
     "data": {
      "text/plain": [
       "'s3://1905-assignment2-sm/housing/datasets/output/Builtin-XGB-algo-2021-04-29--13-00-54'"
      ]
     },
     "execution_count": 13,
     "metadata": {},
     "output_type": "execute_result"
    }
   ],
   "source": [
    "preprocessed_train_data"
   ]
  },
  {
   "cell_type": "markdown",
   "metadata": {},
   "source": [
    "## Transform the test data"
   ]
  },
  {
   "cell_type": "code",
   "execution_count": 14,
   "metadata": {},
   "outputs": [
    {
     "name": "stderr",
     "output_type": "stream",
     "text": [
      "INFO:sagemaker:Creating transform job with name: Builtin-XGB-algo-2021-04-29--13-00-54-test\n",
      "INFO:sagemaker.local.image:serving\n",
      "INFO:sagemaker.local.image:creating hosting dir in /tmp/tmpead3ctgb\n",
      "INFO:sagemaker.local.image:No AWS credentials found in session but credentials from EC2 Metadata Service are available.\n",
      "INFO:sagemaker.local.image:docker compose file: \n",
      "networks:\n",
      "  sagemaker-local:\n",
      "    name: sagemaker-local\n",
      "services:\n",
      "  algo-1-x2wfe:\n",
      "    command: serve\n",
      "    container_name: tt3pb5kzs3-algo-1-x2wfe\n",
      "    environment:\n",
      "    - '[Masked]'\n",
      "    - '[Masked]'\n",
      "    - '[Masked]'\n",
      "    - '[Masked]'\n",
      "    - '[Masked]'\n",
      "    - '[Masked]'\n",
      "    image: 683313688378.dkr.ecr.us-east-1.amazonaws.com/sagemaker-scikit-learn:0.23-1-cpu-py3\n",
      "    networks:\n",
      "      sagemaker-local:\n",
      "        aliases:\n",
      "        - algo-1-x2wfe\n",
      "    ports:\n",
      "    - 8080:8080\n",
      "    stdin_open: true\n",
      "    tty: true\n",
      "    volumes:\n",
      "    - /tmp/tmpgnnpgrr3:/opt/ml/model\n",
      "version: '2.3'\n",
      "\n",
      "INFO:sagemaker.local.image:docker command: docker-compose -f /tmp/tmpead3ctgb/docker-compose.yaml up --build --abort-on-container-exit\n",
      "INFO:sagemaker.local.entities:Checking if serving container is up, attempt: 5\n",
      "WARNING:urllib3.connectionpool:Retrying (Retry(total=2, connect=None, read=None, redirect=None, status=None)) after connection broken by 'NewConnectionError('<urllib3.connection.HTTPConnection object at 0x7f9806b0f9e8>: Failed to establish a new connection: [Errno 111] Connection refused',)': /ping\n",
      "WARNING:urllib3.connectionpool:Retrying (Retry(total=1, connect=None, read=None, redirect=None, status=None)) after connection broken by 'NewConnectionError('<urllib3.connection.HTTPConnection object at 0x7f9806b0f898>: Failed to establish a new connection: [Errno 111] Connection refused',)': /ping\n",
      "WARNING:urllib3.connectionpool:Retrying (Retry(total=0, connect=None, read=None, redirect=None, status=None)) after connection broken by 'NewConnectionError('<urllib3.connection.HTTPConnection object at 0x7f9806a1c208>: Failed to establish a new connection: [Errno 111] Connection refused',)': /ping\n",
      "INFO:sagemaker.local.entities:Container still not up, got: -1\n"
     ]
    },
    {
     "name": "stdout",
     "output_type": "stream",
     "text": [
      "Attaching to tt3pb5kzs3-algo-1-x2wfe\n",
      "\u001b[36mtt3pb5kzs3-algo-1-x2wfe |\u001b[0m 2021-04-29 13:03:58,828 INFO - sagemaker-containers - No GPUs detected (normal if no gpus installed)\n",
      "\u001b[36mtt3pb5kzs3-algo-1-x2wfe |\u001b[0m 2021-04-29 13:03:58,831 INFO - sagemaker-containers - No GPUs detected (normal if no gpus installed)\n",
      "\u001b[36mtt3pb5kzs3-algo-1-x2wfe |\u001b[0m 2021-04-29 13:03:58,832 INFO - sagemaker-containers - nginx config: \n",
      "\u001b[36mtt3pb5kzs3-algo-1-x2wfe |\u001b[0m worker_processes auto;\n",
      "\u001b[36mtt3pb5kzs3-algo-1-x2wfe |\u001b[0m daemon off;\n",
      "\u001b[36mtt3pb5kzs3-algo-1-x2wfe |\u001b[0m pid /tmp/nginx.pid;\n",
      "\u001b[36mtt3pb5kzs3-algo-1-x2wfe |\u001b[0m error_log  /dev/stderr;\n",
      "\u001b[36mtt3pb5kzs3-algo-1-x2wfe |\u001b[0m \n",
      "\u001b[36mtt3pb5kzs3-algo-1-x2wfe |\u001b[0m worker_rlimit_nofile 4096;\n",
      "\u001b[36mtt3pb5kzs3-algo-1-x2wfe |\u001b[0m \n",
      "\u001b[36mtt3pb5kzs3-algo-1-x2wfe |\u001b[0m events {\n",
      "\u001b[36mtt3pb5kzs3-algo-1-x2wfe |\u001b[0m   worker_connections 2048;\n",
      "\u001b[36mtt3pb5kzs3-algo-1-x2wfe |\u001b[0m }\n",
      "\u001b[36mtt3pb5kzs3-algo-1-x2wfe |\u001b[0m \n",
      "\u001b[36mtt3pb5kzs3-algo-1-x2wfe |\u001b[0m http {\n",
      "\u001b[36mtt3pb5kzs3-algo-1-x2wfe |\u001b[0m   include /etc/nginx/mime.types;\n",
      "\u001b[36mtt3pb5kzs3-algo-1-x2wfe |\u001b[0m   default_type application/octet-stream;\n",
      "\u001b[36mtt3pb5kzs3-algo-1-x2wfe |\u001b[0m   access_log /dev/stdout combined;\n",
      "\u001b[36mtt3pb5kzs3-algo-1-x2wfe |\u001b[0m \n",
      "\u001b[36mtt3pb5kzs3-algo-1-x2wfe |\u001b[0m   upstream gunicorn {\n",
      "\u001b[36mtt3pb5kzs3-algo-1-x2wfe |\u001b[0m     server unix:/tmp/gunicorn.sock;\n",
      "\u001b[36mtt3pb5kzs3-algo-1-x2wfe |\u001b[0m   }\n",
      "\u001b[36mtt3pb5kzs3-algo-1-x2wfe |\u001b[0m \n",
      "\u001b[36mtt3pb5kzs3-algo-1-x2wfe |\u001b[0m   server {\n",
      "\u001b[36mtt3pb5kzs3-algo-1-x2wfe |\u001b[0m     listen 8080 deferred;\n",
      "\u001b[36mtt3pb5kzs3-algo-1-x2wfe |\u001b[0m     client_max_body_size 0;\n",
      "\u001b[36mtt3pb5kzs3-algo-1-x2wfe |\u001b[0m \n",
      "\u001b[36mtt3pb5kzs3-algo-1-x2wfe |\u001b[0m     keepalive_timeout 3;\n",
      "\u001b[36mtt3pb5kzs3-algo-1-x2wfe |\u001b[0m \n",
      "\u001b[36mtt3pb5kzs3-algo-1-x2wfe |\u001b[0m     location ~ ^/(ping|invocations|execution-parameters) {\n",
      "\u001b[36mtt3pb5kzs3-algo-1-x2wfe |\u001b[0m       proxy_set_header X-Forwarded-For $proxy_add_x_forwarded_for;\n",
      "\u001b[36mtt3pb5kzs3-algo-1-x2wfe |\u001b[0m       proxy_set_header Host $http_host;\n",
      "\u001b[36mtt3pb5kzs3-algo-1-x2wfe |\u001b[0m       proxy_redirect off;\n",
      "\u001b[36mtt3pb5kzs3-algo-1-x2wfe |\u001b[0m       proxy_read_timeout 60s;\n",
      "\u001b[36mtt3pb5kzs3-algo-1-x2wfe |\u001b[0m       proxy_pass http://gunicorn;\n",
      "\u001b[36mtt3pb5kzs3-algo-1-x2wfe |\u001b[0m     }\n",
      "\u001b[36mtt3pb5kzs3-algo-1-x2wfe |\u001b[0m \n",
      "\u001b[36mtt3pb5kzs3-algo-1-x2wfe |\u001b[0m     location / {\n",
      "\u001b[36mtt3pb5kzs3-algo-1-x2wfe |\u001b[0m       return 404 \"{}\";\n",
      "\u001b[36mtt3pb5kzs3-algo-1-x2wfe |\u001b[0m     }\n",
      "\u001b[36mtt3pb5kzs3-algo-1-x2wfe |\u001b[0m \n",
      "\u001b[36mtt3pb5kzs3-algo-1-x2wfe |\u001b[0m   }\n",
      "\u001b[36mtt3pb5kzs3-algo-1-x2wfe |\u001b[0m }\n",
      "\u001b[36mtt3pb5kzs3-algo-1-x2wfe |\u001b[0m \n",
      "\u001b[36mtt3pb5kzs3-algo-1-x2wfe |\u001b[0m \n",
      "\u001b[36mtt3pb5kzs3-algo-1-x2wfe |\u001b[0m 2021-04-29 13:03:59,022 INFO - sagemaker-containers - Module sklearn_pipeline does not provide a setup.py. \n",
      "\u001b[36mtt3pb5kzs3-algo-1-x2wfe |\u001b[0m Generating setup.py\n",
      "\u001b[36mtt3pb5kzs3-algo-1-x2wfe |\u001b[0m 2021-04-29 13:03:59,022 INFO - sagemaker-containers - Generating setup.cfg\n",
      "\u001b[36mtt3pb5kzs3-algo-1-x2wfe |\u001b[0m 2021-04-29 13:03:59,022 INFO - sagemaker-containers - Generating MANIFEST.in\n",
      "\u001b[36mtt3pb5kzs3-algo-1-x2wfe |\u001b[0m 2021-04-29 13:03:59,023 INFO - sagemaker-containers - Installing module with the following command:\n",
      "\u001b[36mtt3pb5kzs3-algo-1-x2wfe |\u001b[0m /miniconda3/bin/python -m pip install . \n",
      "\u001b[36mtt3pb5kzs3-algo-1-x2wfe |\u001b[0m Processing /opt/ml/code\n",
      "\u001b[36mtt3pb5kzs3-algo-1-x2wfe |\u001b[0m Building wheels for collected packages: sklearn-pipeline\n",
      "\u001b[36mtt3pb5kzs3-algo-1-x2wfe |\u001b[0m   Building wheel for sklearn-pipeline (setup.py) ... \u001b[?25ldone\n",
      "\u001b[36mtt3pb5kzs3-algo-1-x2wfe |\u001b[0m \u001b[?25h  Created wheel for sklearn-pipeline: filename=sklearn_pipeline-1.0.0-py2.py3-none-any.whl size=7409 sha256=5bbd829b785175b10c47585b965d6706f6964fccfc3f1c79e0b327f5935b82d7\n",
      "\u001b[36mtt3pb5kzs3-algo-1-x2wfe |\u001b[0m   Stored in directory: /home/model-server/tmp/pip-ephem-wheel-cache-14sh5it1/wheels/3e/0f/51/2f1df833dd0412c1bc2f5ee56baac195b5be563353d111dca6\n",
      "\u001b[36mtt3pb5kzs3-algo-1-x2wfe |\u001b[0m Successfully built sklearn-pipeline\n",
      "\u001b[36mtt3pb5kzs3-algo-1-x2wfe |\u001b[0m Installing collected packages: sklearn-pipeline\n",
      "\u001b[36mtt3pb5kzs3-algo-1-x2wfe |\u001b[0m Successfully installed sklearn-pipeline-1.0.0\n",
      "\u001b[36mtt3pb5kzs3-algo-1-x2wfe |\u001b[0m [2021-04-29 13:04:01 +0000] [31] [INFO] Starting gunicorn 20.0.4\n",
      "\u001b[36mtt3pb5kzs3-algo-1-x2wfe |\u001b[0m [2021-04-29 13:04:01 +0000] [31] [INFO] Listening at: unix:/tmp/gunicorn.sock (31)\n",
      "\u001b[36mtt3pb5kzs3-algo-1-x2wfe |\u001b[0m [2021-04-29 13:04:01 +0000] [31] [INFO] Using worker: gevent\n",
      "\u001b[36mtt3pb5kzs3-algo-1-x2wfe |\u001b[0m [2021-04-29 13:04:01 +0000] [34] [INFO] Booting worker with pid: 34\n",
      "\u001b[36mtt3pb5kzs3-algo-1-x2wfe |\u001b[0m [2021-04-29 13:04:01 +0000] [35] [INFO] Booting worker with pid: 35\n"
     ]
    },
    {
     "name": "stderr",
     "output_type": "stream",
     "text": [
      "INFO:sagemaker.local.entities:Checking if serving container is up, attempt: 10\n"
     ]
    },
    {
     "name": "stdout",
     "output_type": "stream",
     "text": [
      "\u001b[36mtt3pb5kzs3-algo-1-x2wfe |\u001b[0m 2021-04-29 13:04:02,101 INFO - sagemaker-containers - No GPUs detected (normal if no gpus installed)\n",
      "\u001b[36mtt3pb5kzs3-algo-1-x2wfe |\u001b[0m *****model function*****\n",
      "\u001b[36mtt3pb5kzs3-algo-1-x2wfe |\u001b[0m /opt/ml/model\n",
      "\u001b[36mtt3pb5kzs3-algo-1-x2wfe |\u001b[0m 172.18.0.1 - - [29/Apr/2021:13:04:02 +0000] \"GET /ping HTTP/1.1\" 200 0 \"-\" \"python-urllib3/1.26.4\"\n",
      "\u001b[36mtt3pb5kzs3-algo-1-x2wfe |\u001b[0m 172.18.0.1 - - [29/Apr/2021:13:04:02 +0000] \"GET /execution-parameters HTTP/1.1\" 404 232 \"-\" \"python-urllib3/1.26.4\"\n",
      "\u001b[36mtt3pb5kzs3-algo-1-x2wfe |\u001b[0m 2021-04-29 13:04:02,867 INFO - sagemaker-containers - No GPUs detected (normal if no gpus installed)\n",
      "\u001b[36mtt3pb5kzs3-algo-1-x2wfe |\u001b[0m *****model function*****\n",
      "\u001b[36mtt3pb5kzs3-algo-1-x2wfe |\u001b[0m /opt/ml/model\n",
      "\u001b[36mtt3pb5kzs3-algo-1-x2wfe |\u001b[0m *****predict function*****\n",
      "\u001b[36mtt3pb5kzs3-algo-1-x2wfe |\u001b[0m /miniconda3/lib/python3.7/site-packages/sklearn/compose/_column_transformer.py:440: FutureWarning: Given feature/column names or counts do not match the ones for the data given during fit. This will fail from v0.24.\n",
      "\u001b[36mtt3pb5kzs3-algo-1-x2wfe |\u001b[0m   FutureWarning)\n",
      "\u001b[36mtt3pb5kzs3-algo-1-x2wfe |\u001b[0m *****output function*****\n",
      "\u001b[36mtt3pb5kzs3-algo-1-x2wfe |\u001b[0m 172.18.0.1 - - [29/Apr/2021:13:04:03 +0000] \"POST /invocations HTTP/1.1\" 200 1040203 \"-\" \"python-urllib3/1.26.4\"\n",
      "Gracefully stopping... (press Ctrl+C again to force)\n",
      ".Waiting for transform job:Builtin-XGB-algo-2021-04-29--13-00-54-test\n",
      "."
     ]
    }
   ],
   "source": [
    "transformer.transform(\n",
    "    data=test_data,\n",
    "    content_type=\"text/csv\",\n",
    "    job_name=base_job_name+\"-test\")\n",
    "\n",
    "print(\"Waiting for transform job:\" + transformer.latest_transform_job.job_name)\n",
    "transformer.wait()"
   ]
  },
  {
   "cell_type": "code",
   "execution_count": 15,
   "metadata": {},
   "outputs": [],
   "source": [
    "preprocessed_test_data = transformer.output_path"
   ]
  },
  {
   "cell_type": "code",
   "execution_count": 16,
   "metadata": {},
   "outputs": [
    {
     "data": {
      "text/plain": [
       "'housing/datasets/output/Builtin-XGB-algo-2021-04-29--13-00-54'"
      ]
     },
     "execution_count": 16,
     "metadata": {},
     "output_type": "execute_result"
    }
   ],
   "source": [
    "f'{output_data_prefix}'"
   ]
  },
  {
   "cell_type": "markdown",
   "metadata": {},
   "source": [
    "## Real time Prediction using endpoint"
   ]
  },
  {
   "cell_type": "code",
   "execution_count": 24,
   "metadata": {},
   "outputs": [],
   "source": [
    "from sagemaker.model import Model\n",
    "from sagemaker.pipeline import PipelineModel\n",
    "import boto3\n",
    "from time import gmtime, strftime\n",
    "from sagemaker.estimator import Estimator\n",
    "from sagemaker import PipelineModel\n",
    "\n",
    "timestamp_prefix = current_time\n",
    "\n",
    "scikit_learn_inferencee_model = sklearn_preprocessor.create_model()\n",
    "scikit_learn_inferencee_model.env = {\"SAGEMAKER_DEFAULT_INVOCATIONS_ACCEPT\":\"text/csv\"}\n",
    "model_containers = [scikit_learn_inferencee_model]\n",
    "\n",
    "model_name = 'inference-pipeline-' + current_time\n",
    "endpoint_name = 'inference-pipeline-ep-' + current_time\n"
   ]
  },
  {
   "cell_type": "code",
   "execution_count": 25,
   "metadata": {},
   "outputs": [
    {
     "data": {
      "text/plain": [
       "'inference-pipeline-ep-2021-04-29--13-00-54'"
      ]
     },
     "execution_count": 25,
     "metadata": {},
     "output_type": "execute_result"
    }
   ],
   "source": [
    "endpoint_name"
   ]
  },
  {
   "cell_type": "code",
   "execution_count": 36,
   "metadata": {},
   "outputs": [
    {
     "name": "stderr",
     "output_type": "stream",
     "text": [
      "INFO:sagemaker:Creating model with name: inference-pipeline-2021-04-29--13-00-54\n",
      "WARNING:sagemaker:Using already existing model: inference-pipeline-2021-04-29--13-00-54\n"
     ]
    },
    {
     "ename": "ClientError",
     "evalue": "An error occurred (ValidationException) when calling the CreateEndpointConfig operation: 1 validation error detected: Value 'local_gpu' at 'productionVariants.1.member.instanceType' failed to satisfy constraint: Member must satisfy enum value set: [ml.r5d.12xlarge, ml.r5.12xlarge, ml.p2.xlarge, ml.m5.4xlarge, ml.m4.16xlarge, ml.r5d.24xlarge, ml.r5.24xlarge, ml.p3.16xlarge, ml.m5d.xlarge, ml.m5.large, ml.t2.xlarge, ml.p2.16xlarge, ml.m5d.12xlarge, ml.inf1.2xlarge, ml.m5d.24xlarge, ml.c4.2xlarge, ml.c5.2xlarge, ml.c4.4xlarge, ml.inf1.6xlarge, ml.c5d.2xlarge, ml.c5.4xlarge, ml.g4dn.xlarge, ml.g4dn.12xlarge, ml.c5d.4xlarge, ml.g4dn.2xlarge, ml.c4.8xlarge, ml.c4.large, ml.c5d.xlarge, ml.c5.large, ml.g4dn.4xlarge, ml.c5.9xlarge, ml.g4dn.16xlarge, ml.c5d.large, ml.c5.xlarge, ml.c5d.9xlarge, ml.c4.xlarge, ml.inf1.xlarge, ml.g4dn.8xlarge, ml.inf1.24xlarge, ml.m5d.2xlarge, ml.t2.2xlarge, ml.c5d.18xlarge, ml.m5d.4xlarge, ml.t2.medium, ml.c5.18xlarge, ml.r5d.2xlarge, ml.r5.2xlarge, ml.p3.2xlarge, ml.m5d.large, ml.m5.xlarge, ml.m4.10xlarge, ml.t2.large, ml.r5d.4xlarge, ml.r5.4xlarge, ml.m5.12xlarge, ml.m4.xlarge, ml.m5.24xlarge, ml.m4.2xlarge, ml.p2.8xlarge, ml.m5.2xlarge, ml.r5d.xlarge, ml.r5d.large, ml.r5.xlarge, ml.r5.large, ml.p3.8xlarge, ml.m4.4xlarge]",
     "output_type": "error",
     "traceback": [
      "\u001b[0;31m---------------------------------------------------------------------------\u001b[0m",
      "\u001b[0;31mClientError\u001b[0m                               Traceback (most recent call last)",
      "\u001b[0;32m<ipython-input-36-e1bfc18f1fb5>\u001b[0m in \u001b[0;36m<module>\u001b[0;34m\u001b[0m\n\u001b[1;32m      2\u001b[0m     \u001b[0minitial_instance_count\u001b[0m\u001b[0;34m=\u001b[0m\u001b[0;36m1\u001b[0m\u001b[0;34m,\u001b[0m\u001b[0;34m\u001b[0m\u001b[0;34m\u001b[0m\u001b[0m\n\u001b[1;32m      3\u001b[0m                            \u001b[0minstance_type\u001b[0m\u001b[0;34m=\u001b[0m\u001b[0;34m\"local_gpu\"\u001b[0m \u001b[0;34m,\u001b[0m \u001b[0;31m#'ml.m5.xlarge',\u001b[0m\u001b[0;34m\u001b[0m\u001b[0;34m\u001b[0m\u001b[0m\n\u001b[0;32m----> 4\u001b[0;31m                            \u001b[0mendpoint_name\u001b[0m\u001b[0;34m=\u001b[0m\u001b[0mendpoint_name\u001b[0m\u001b[0;34m,\u001b[0m\u001b[0;34m\u001b[0m\u001b[0;34m\u001b[0m\u001b[0m\n\u001b[0m\u001b[1;32m      5\u001b[0m                            \u001b[0;31m#data_capture_config=data_capture_config\u001b[0m\u001b[0;34m\u001b[0m\u001b[0;34m\u001b[0m\u001b[0;34m\u001b[0m\u001b[0m\n\u001b[1;32m      6\u001b[0m                            )\n",
      "\u001b[0;32m~/anaconda3/envs/tensorflow_p36/lib/python3.6/site-packages/sagemaker/pipeline.py\u001b[0m in \u001b[0;36mdeploy\u001b[0;34m(self, initial_instance_count, instance_type, serializer, deserializer, endpoint_name, tags, wait, update_endpoint, data_capture_config, kms_key)\u001b[0m\n\u001b[1;32m    210\u001b[0m                 \u001b[0mkms_key\u001b[0m\u001b[0;34m=\u001b[0m\u001b[0mkms_key\u001b[0m\u001b[0;34m,\u001b[0m\u001b[0;34m\u001b[0m\u001b[0;34m\u001b[0m\u001b[0m\n\u001b[1;32m    211\u001b[0m                 \u001b[0mwait\u001b[0m\u001b[0;34m=\u001b[0m\u001b[0mwait\u001b[0m\u001b[0;34m,\u001b[0m\u001b[0;34m\u001b[0m\u001b[0;34m\u001b[0m\u001b[0m\n\u001b[0;32m--> 212\u001b[0;31m                 \u001b[0mdata_capture_config_dict\u001b[0m\u001b[0;34m=\u001b[0m\u001b[0mdata_capture_config_dict\u001b[0m\u001b[0;34m,\u001b[0m\u001b[0;34m\u001b[0m\u001b[0;34m\u001b[0m\u001b[0m\n\u001b[0m\u001b[1;32m    213\u001b[0m             )\n\u001b[1;32m    214\u001b[0m \u001b[0;34m\u001b[0m\u001b[0m\n",
      "\u001b[0;32m~/anaconda3/envs/tensorflow_p36/lib/python3.6/site-packages/sagemaker/session.py\u001b[0m in \u001b[0;36mendpoint_from_production_variants\u001b[0;34m(self, name, production_variants, tags, kms_key, wait, data_capture_config_dict)\u001b[0m\n\u001b[1;32m   3464\u001b[0m                 \u001b[0mconfig_options\u001b[0m\u001b[0;34m[\u001b[0m\u001b[0;34m\"DataCaptureConfig\"\u001b[0m\u001b[0;34m]\u001b[0m \u001b[0;34m=\u001b[0m \u001b[0mdata_capture_config_dict\u001b[0m\u001b[0;34m\u001b[0m\u001b[0;34m\u001b[0m\u001b[0m\n\u001b[1;32m   3465\u001b[0m \u001b[0;34m\u001b[0m\u001b[0m\n\u001b[0;32m-> 3466\u001b[0;31m             \u001b[0mself\u001b[0m\u001b[0;34m.\u001b[0m\u001b[0msagemaker_client\u001b[0m\u001b[0;34m.\u001b[0m\u001b[0mcreate_endpoint_config\u001b[0m\u001b[0;34m(\u001b[0m\u001b[0;34m**\u001b[0m\u001b[0mconfig_options\u001b[0m\u001b[0;34m)\u001b[0m\u001b[0;34m\u001b[0m\u001b[0;34m\u001b[0m\u001b[0m\n\u001b[0m\u001b[1;32m   3467\u001b[0m         \u001b[0;32mreturn\u001b[0m \u001b[0mself\u001b[0m\u001b[0;34m.\u001b[0m\u001b[0mcreate_endpoint\u001b[0m\u001b[0;34m(\u001b[0m\u001b[0mendpoint_name\u001b[0m\u001b[0;34m=\u001b[0m\u001b[0mname\u001b[0m\u001b[0;34m,\u001b[0m \u001b[0mconfig_name\u001b[0m\u001b[0;34m=\u001b[0m\u001b[0mname\u001b[0m\u001b[0;34m,\u001b[0m \u001b[0mtags\u001b[0m\u001b[0;34m=\u001b[0m\u001b[0mtags\u001b[0m\u001b[0;34m,\u001b[0m \u001b[0mwait\u001b[0m\u001b[0;34m=\u001b[0m\u001b[0mwait\u001b[0m\u001b[0;34m)\u001b[0m\u001b[0;34m\u001b[0m\u001b[0;34m\u001b[0m\u001b[0m\n\u001b[1;32m   3468\u001b[0m \u001b[0;34m\u001b[0m\u001b[0m\n",
      "\u001b[0;32m~/anaconda3/envs/tensorflow_p36/lib/python3.6/site-packages/botocore/client.py\u001b[0m in \u001b[0;36m_api_call\u001b[0;34m(self, *args, **kwargs)\u001b[0m\n\u001b[1;32m    355\u001b[0m                     \"%s() only accepts keyword arguments.\" % py_operation_name)\n\u001b[1;32m    356\u001b[0m             \u001b[0;31m# The \"self\" in this scope is referring to the BaseClient.\u001b[0m\u001b[0;34m\u001b[0m\u001b[0;34m\u001b[0m\u001b[0;34m\u001b[0m\u001b[0m\n\u001b[0;32m--> 357\u001b[0;31m             \u001b[0;32mreturn\u001b[0m \u001b[0mself\u001b[0m\u001b[0;34m.\u001b[0m\u001b[0m_make_api_call\u001b[0m\u001b[0;34m(\u001b[0m\u001b[0moperation_name\u001b[0m\u001b[0;34m,\u001b[0m \u001b[0mkwargs\u001b[0m\u001b[0;34m)\u001b[0m\u001b[0;34m\u001b[0m\u001b[0;34m\u001b[0m\u001b[0m\n\u001b[0m\u001b[1;32m    358\u001b[0m \u001b[0;34m\u001b[0m\u001b[0m\n\u001b[1;32m    359\u001b[0m         \u001b[0m_api_call\u001b[0m\u001b[0;34m.\u001b[0m\u001b[0m__name__\u001b[0m \u001b[0;34m=\u001b[0m \u001b[0mstr\u001b[0m\u001b[0;34m(\u001b[0m\u001b[0mpy_operation_name\u001b[0m\u001b[0;34m)\u001b[0m\u001b[0;34m\u001b[0m\u001b[0;34m\u001b[0m\u001b[0m\n",
      "\u001b[0;32m~/anaconda3/envs/tensorflow_p36/lib/python3.6/site-packages/botocore/client.py\u001b[0m in \u001b[0;36m_make_api_call\u001b[0;34m(self, operation_name, api_params)\u001b[0m\n\u001b[1;32m    674\u001b[0m             \u001b[0merror_code\u001b[0m \u001b[0;34m=\u001b[0m \u001b[0mparsed_response\u001b[0m\u001b[0;34m.\u001b[0m\u001b[0mget\u001b[0m\u001b[0;34m(\u001b[0m\u001b[0;34m\"Error\"\u001b[0m\u001b[0;34m,\u001b[0m \u001b[0;34m{\u001b[0m\u001b[0;34m}\u001b[0m\u001b[0;34m)\u001b[0m\u001b[0;34m.\u001b[0m\u001b[0mget\u001b[0m\u001b[0;34m(\u001b[0m\u001b[0;34m\"Code\"\u001b[0m\u001b[0;34m)\u001b[0m\u001b[0;34m\u001b[0m\u001b[0;34m\u001b[0m\u001b[0m\n\u001b[1;32m    675\u001b[0m             \u001b[0merror_class\u001b[0m \u001b[0;34m=\u001b[0m \u001b[0mself\u001b[0m\u001b[0;34m.\u001b[0m\u001b[0mexceptions\u001b[0m\u001b[0;34m.\u001b[0m\u001b[0mfrom_code\u001b[0m\u001b[0;34m(\u001b[0m\u001b[0merror_code\u001b[0m\u001b[0;34m)\u001b[0m\u001b[0;34m\u001b[0m\u001b[0;34m\u001b[0m\u001b[0m\n\u001b[0;32m--> 676\u001b[0;31m             \u001b[0;32mraise\u001b[0m \u001b[0merror_class\u001b[0m\u001b[0;34m(\u001b[0m\u001b[0mparsed_response\u001b[0m\u001b[0;34m,\u001b[0m \u001b[0moperation_name\u001b[0m\u001b[0;34m)\u001b[0m\u001b[0;34m\u001b[0m\u001b[0;34m\u001b[0m\u001b[0m\n\u001b[0m\u001b[1;32m    677\u001b[0m         \u001b[0;32melse\u001b[0m\u001b[0;34m:\u001b[0m\u001b[0;34m\u001b[0m\u001b[0;34m\u001b[0m\u001b[0m\n\u001b[1;32m    678\u001b[0m             \u001b[0;32mreturn\u001b[0m \u001b[0mparsed_response\u001b[0m\u001b[0;34m\u001b[0m\u001b[0;34m\u001b[0m\u001b[0m\n",
      "\u001b[0;31mClientError\u001b[0m: An error occurred (ValidationException) when calling the CreateEndpointConfig operation: 1 validation error detected: Value 'local_gpu' at 'productionVariants.1.member.instanceType' failed to satisfy constraint: Member must satisfy enum value set: [ml.r5d.12xlarge, ml.r5.12xlarge, ml.p2.xlarge, ml.m5.4xlarge, ml.m4.16xlarge, ml.r5d.24xlarge, ml.r5.24xlarge, ml.p3.16xlarge, ml.m5d.xlarge, ml.m5.large, ml.t2.xlarge, ml.p2.16xlarge, ml.m5d.12xlarge, ml.inf1.2xlarge, ml.m5d.24xlarge, ml.c4.2xlarge, ml.c5.2xlarge, ml.c4.4xlarge, ml.inf1.6xlarge, ml.c5d.2xlarge, ml.c5.4xlarge, ml.g4dn.xlarge, ml.g4dn.12xlarge, ml.c5d.4xlarge, ml.g4dn.2xlarge, ml.c4.8xlarge, ml.c4.large, ml.c5d.xlarge, ml.c5.large, ml.g4dn.4xlarge, ml.c5.9xlarge, ml.g4dn.16xlarge, ml.c5d.large, ml.c5.xlarge, ml.c5d.9xlarge, ml.c4.xlarge, ml.inf1.xlarge, ml.g4dn.8xlarge, ml.inf1.24xlarge, ml.m5d.2xlarge, ml.t2.2xlarge, ml.c5d.18xlarge, ml.m5d.4xlarge, ml.t2.medium, ml.c5.18xlarge, ml.r5d.2xlarge, ml.r5.2xlarge, ml.p3.2xlarge, ml.m5d.large, ml.m5.xlarge, ml.m4.10xlarge, ml.t2.large, ml.r5d.4xlarge, ml.r5.4xlarge, ml.m5.12xlarge, ml.m4.xlarge, ml.m5.24xlarge, ml.m4.2xlarge, ml.p2.8xlarge, ml.m5.2xlarge, ml.r5d.xlarge, ml.r5d.large, ml.r5.xlarge, ml.r5.large, ml.p3.8xlarge, ml.m4.4xlarge]"
     ]
    }
   ],
   "source": [
    "predictor = sm_model.deploy(\n",
    "    initial_instance_count=1,\n",
    "                           instance_type=\"local_gpu\" , #'ml.m5.xlarge',\n",
    "                           endpoint_name=endpoint_name,\n",
    "                           #data_capture_config=data_capture_config\n",
    "                           )"
   ]
  },
  {
   "cell_type": "code",
   "execution_count": 23,
   "metadata": {},
   "outputs": [
    {
     "name": "stderr",
     "output_type": "stream",
     "text": [
      "INFO:sagemaker:Creating model with name: inference-pipeline-2021-04-29--13-00-54\n",
      "WARNING:sagemaker:Using already existing model: inference-pipeline-2021-04-29--13-00-54\n"
     ]
    },
    {
     "ename": "ClientError",
     "evalue": "An error occurred (ValidationException) when calling the CreateEndpointConfig operation: 1 validation error detected: Value 'local' at 'productionVariants.1.member.instanceType' failed to satisfy constraint: Member must satisfy enum value set: [ml.r5d.12xlarge, ml.r5.12xlarge, ml.p2.xlarge, ml.m5.4xlarge, ml.m4.16xlarge, ml.r5d.24xlarge, ml.r5.24xlarge, ml.p3.16xlarge, ml.m5d.xlarge, ml.m5.large, ml.t2.xlarge, ml.p2.16xlarge, ml.m5d.12xlarge, ml.inf1.2xlarge, ml.m5d.24xlarge, ml.c4.2xlarge, ml.c5.2xlarge, ml.c4.4xlarge, ml.inf1.6xlarge, ml.c5d.2xlarge, ml.c5.4xlarge, ml.g4dn.xlarge, ml.g4dn.12xlarge, ml.c5d.4xlarge, ml.g4dn.2xlarge, ml.c4.8xlarge, ml.c4.large, ml.c5d.xlarge, ml.c5.large, ml.g4dn.4xlarge, ml.c5.9xlarge, ml.g4dn.16xlarge, ml.c5d.large, ml.c5.xlarge, ml.c5d.9xlarge, ml.c4.xlarge, ml.inf1.xlarge, ml.g4dn.8xlarge, ml.inf1.24xlarge, ml.m5d.2xlarge, ml.t2.2xlarge, ml.c5d.18xlarge, ml.m5d.4xlarge, ml.t2.medium, ml.c5.18xlarge, ml.r5d.2xlarge, ml.r5.2xlarge, ml.p3.2xlarge, ml.m5d.large, ml.m5.xlarge, ml.m4.10xlarge, ml.t2.large, ml.r5d.4xlarge, ml.r5.4xlarge, ml.m5.12xlarge, ml.m4.xlarge, ml.m5.24xlarge, ml.m4.2xlarge, ml.p2.8xlarge, ml.m5.2xlarge, ml.r5d.xlarge, ml.r5d.large, ml.r5.xlarge, ml.r5.large, ml.p3.8xlarge, ml.m4.4xlarge]",
     "output_type": "error",
     "traceback": [
      "\u001b[0;31m---------------------------------------------------------------------------\u001b[0m",
      "\u001b[0;31mClientError\u001b[0m                               Traceback (most recent call last)",
      "\u001b[0;32m<ipython-input-23-ed7a8939d0a7>\u001b[0m in \u001b[0;36m<module>\u001b[0;34m\u001b[0m\n\u001b[1;32m     21\u001b[0m \u001b[0;34m\u001b[0m\u001b[0m\n\u001b[1;32m     22\u001b[0m predictor = sm_model.deploy(initial_instance_count=1,\n\u001b[0;32m---> 23\u001b[0;31m                            \u001b[0minstance_type\u001b[0m\u001b[0;34m=\u001b[0m\u001b[0;34m\"local\"\u001b[0m \u001b[0;34m,\u001b[0m \u001b[0;31m#'ml.m5.xlarge',\u001b[0m\u001b[0;34m\u001b[0m\u001b[0;34m\u001b[0m\u001b[0m\n\u001b[0m\u001b[1;32m     24\u001b[0m                           \u001b[0;31m# endpoint_name=endpoint_name,\u001b[0m\u001b[0;34m\u001b[0m\u001b[0;34m\u001b[0m\u001b[0;34m\u001b[0m\u001b[0m\n\u001b[1;32m     25\u001b[0m                            \u001b[0;31m#data_capture_config=data_capture_config\u001b[0m\u001b[0;34m\u001b[0m\u001b[0;34m\u001b[0m\u001b[0;34m\u001b[0m\u001b[0m\n",
      "\u001b[0;32m~/anaconda3/envs/tensorflow_p36/lib/python3.6/site-packages/sagemaker/pipeline.py\u001b[0m in \u001b[0;36mdeploy\u001b[0;34m(self, initial_instance_count, instance_type, serializer, deserializer, endpoint_name, tags, wait, update_endpoint, data_capture_config, kms_key)\u001b[0m\n\u001b[1;32m    210\u001b[0m                 \u001b[0mkms_key\u001b[0m\u001b[0;34m=\u001b[0m\u001b[0mkms_key\u001b[0m\u001b[0;34m,\u001b[0m\u001b[0;34m\u001b[0m\u001b[0;34m\u001b[0m\u001b[0m\n\u001b[1;32m    211\u001b[0m                 \u001b[0mwait\u001b[0m\u001b[0;34m=\u001b[0m\u001b[0mwait\u001b[0m\u001b[0;34m,\u001b[0m\u001b[0;34m\u001b[0m\u001b[0;34m\u001b[0m\u001b[0m\n\u001b[0;32m--> 212\u001b[0;31m                 \u001b[0mdata_capture_config_dict\u001b[0m\u001b[0;34m=\u001b[0m\u001b[0mdata_capture_config_dict\u001b[0m\u001b[0;34m,\u001b[0m\u001b[0;34m\u001b[0m\u001b[0;34m\u001b[0m\u001b[0m\n\u001b[0m\u001b[1;32m    213\u001b[0m             )\n\u001b[1;32m    214\u001b[0m \u001b[0;34m\u001b[0m\u001b[0m\n",
      "\u001b[0;32m~/anaconda3/envs/tensorflow_p36/lib/python3.6/site-packages/sagemaker/session.py\u001b[0m in \u001b[0;36mendpoint_from_production_variants\u001b[0;34m(self, name, production_variants, tags, kms_key, wait, data_capture_config_dict)\u001b[0m\n\u001b[1;32m   3464\u001b[0m                 \u001b[0mconfig_options\u001b[0m\u001b[0;34m[\u001b[0m\u001b[0;34m\"DataCaptureConfig\"\u001b[0m\u001b[0;34m]\u001b[0m \u001b[0;34m=\u001b[0m \u001b[0mdata_capture_config_dict\u001b[0m\u001b[0;34m\u001b[0m\u001b[0;34m\u001b[0m\u001b[0m\n\u001b[1;32m   3465\u001b[0m \u001b[0;34m\u001b[0m\u001b[0m\n\u001b[0;32m-> 3466\u001b[0;31m             \u001b[0mself\u001b[0m\u001b[0;34m.\u001b[0m\u001b[0msagemaker_client\u001b[0m\u001b[0;34m.\u001b[0m\u001b[0mcreate_endpoint_config\u001b[0m\u001b[0;34m(\u001b[0m\u001b[0;34m**\u001b[0m\u001b[0mconfig_options\u001b[0m\u001b[0;34m)\u001b[0m\u001b[0;34m\u001b[0m\u001b[0;34m\u001b[0m\u001b[0m\n\u001b[0m\u001b[1;32m   3467\u001b[0m         \u001b[0;32mreturn\u001b[0m \u001b[0mself\u001b[0m\u001b[0;34m.\u001b[0m\u001b[0mcreate_endpoint\u001b[0m\u001b[0;34m(\u001b[0m\u001b[0mendpoint_name\u001b[0m\u001b[0;34m=\u001b[0m\u001b[0mname\u001b[0m\u001b[0;34m,\u001b[0m \u001b[0mconfig_name\u001b[0m\u001b[0;34m=\u001b[0m\u001b[0mname\u001b[0m\u001b[0;34m,\u001b[0m \u001b[0mtags\u001b[0m\u001b[0;34m=\u001b[0m\u001b[0mtags\u001b[0m\u001b[0;34m,\u001b[0m \u001b[0mwait\u001b[0m\u001b[0;34m=\u001b[0m\u001b[0mwait\u001b[0m\u001b[0;34m)\u001b[0m\u001b[0;34m\u001b[0m\u001b[0;34m\u001b[0m\u001b[0m\n\u001b[1;32m   3468\u001b[0m \u001b[0;34m\u001b[0m\u001b[0m\n",
      "\u001b[0;32m~/anaconda3/envs/tensorflow_p36/lib/python3.6/site-packages/botocore/client.py\u001b[0m in \u001b[0;36m_api_call\u001b[0;34m(self, *args, **kwargs)\u001b[0m\n\u001b[1;32m    355\u001b[0m                     \"%s() only accepts keyword arguments.\" % py_operation_name)\n\u001b[1;32m    356\u001b[0m             \u001b[0;31m# The \"self\" in this scope is referring to the BaseClient.\u001b[0m\u001b[0;34m\u001b[0m\u001b[0;34m\u001b[0m\u001b[0;34m\u001b[0m\u001b[0m\n\u001b[0;32m--> 357\u001b[0;31m             \u001b[0;32mreturn\u001b[0m \u001b[0mself\u001b[0m\u001b[0;34m.\u001b[0m\u001b[0m_make_api_call\u001b[0m\u001b[0;34m(\u001b[0m\u001b[0moperation_name\u001b[0m\u001b[0;34m,\u001b[0m \u001b[0mkwargs\u001b[0m\u001b[0;34m)\u001b[0m\u001b[0;34m\u001b[0m\u001b[0;34m\u001b[0m\u001b[0m\n\u001b[0m\u001b[1;32m    358\u001b[0m \u001b[0;34m\u001b[0m\u001b[0m\n\u001b[1;32m    359\u001b[0m         \u001b[0m_api_call\u001b[0m\u001b[0;34m.\u001b[0m\u001b[0m__name__\u001b[0m \u001b[0;34m=\u001b[0m \u001b[0mstr\u001b[0m\u001b[0;34m(\u001b[0m\u001b[0mpy_operation_name\u001b[0m\u001b[0;34m)\u001b[0m\u001b[0;34m\u001b[0m\u001b[0;34m\u001b[0m\u001b[0m\n",
      "\u001b[0;32m~/anaconda3/envs/tensorflow_p36/lib/python3.6/site-packages/botocore/client.py\u001b[0m in \u001b[0;36m_make_api_call\u001b[0;34m(self, operation_name, api_params)\u001b[0m\n\u001b[1;32m    674\u001b[0m             \u001b[0merror_code\u001b[0m \u001b[0;34m=\u001b[0m \u001b[0mparsed_response\u001b[0m\u001b[0;34m.\u001b[0m\u001b[0mget\u001b[0m\u001b[0;34m(\u001b[0m\u001b[0;34m\"Error\"\u001b[0m\u001b[0;34m,\u001b[0m \u001b[0;34m{\u001b[0m\u001b[0;34m}\u001b[0m\u001b[0;34m)\u001b[0m\u001b[0;34m.\u001b[0m\u001b[0mget\u001b[0m\u001b[0;34m(\u001b[0m\u001b[0;34m\"Code\"\u001b[0m\u001b[0;34m)\u001b[0m\u001b[0;34m\u001b[0m\u001b[0;34m\u001b[0m\u001b[0m\n\u001b[1;32m    675\u001b[0m             \u001b[0merror_class\u001b[0m \u001b[0;34m=\u001b[0m \u001b[0mself\u001b[0m\u001b[0;34m.\u001b[0m\u001b[0mexceptions\u001b[0m\u001b[0;34m.\u001b[0m\u001b[0mfrom_code\u001b[0m\u001b[0;34m(\u001b[0m\u001b[0merror_code\u001b[0m\u001b[0;34m)\u001b[0m\u001b[0;34m\u001b[0m\u001b[0;34m\u001b[0m\u001b[0m\n\u001b[0;32m--> 676\u001b[0;31m             \u001b[0;32mraise\u001b[0m \u001b[0merror_class\u001b[0m\u001b[0;34m(\u001b[0m\u001b[0mparsed_response\u001b[0m\u001b[0;34m,\u001b[0m \u001b[0moperation_name\u001b[0m\u001b[0;34m)\u001b[0m\u001b[0;34m\u001b[0m\u001b[0;34m\u001b[0m\u001b[0m\n\u001b[0m\u001b[1;32m    677\u001b[0m         \u001b[0;32melse\u001b[0m\u001b[0;34m:\u001b[0m\u001b[0;34m\u001b[0m\u001b[0;34m\u001b[0m\u001b[0m\n\u001b[1;32m    678\u001b[0m             \u001b[0;32mreturn\u001b[0m \u001b[0mparsed_response\u001b[0m\u001b[0;34m\u001b[0m\u001b[0;34m\u001b[0m\u001b[0m\n",
      "\u001b[0;31mClientError\u001b[0m: An error occurred (ValidationException) when calling the CreateEndpointConfig operation: 1 validation error detected: Value 'local' at 'productionVariants.1.member.instanceType' failed to satisfy constraint: Member must satisfy enum value set: [ml.r5d.12xlarge, ml.r5.12xlarge, ml.p2.xlarge, ml.m5.4xlarge, ml.m4.16xlarge, ml.r5d.24xlarge, ml.r5.24xlarge, ml.p3.16xlarge, ml.m5d.xlarge, ml.m5.large, ml.t2.xlarge, ml.p2.16xlarge, ml.m5d.12xlarge, ml.inf1.2xlarge, ml.m5d.24xlarge, ml.c4.2xlarge, ml.c5.2xlarge, ml.c4.4xlarge, ml.inf1.6xlarge, ml.c5d.2xlarge, ml.c5.4xlarge, ml.g4dn.xlarge, ml.g4dn.12xlarge, ml.c5d.4xlarge, ml.g4dn.2xlarge, ml.c4.8xlarge, ml.c4.large, ml.c5d.xlarge, ml.c5.large, ml.g4dn.4xlarge, ml.c5.9xlarge, ml.g4dn.16xlarge, ml.c5d.large, ml.c5.xlarge, ml.c5d.9xlarge, ml.c4.xlarge, ml.inf1.xlarge, ml.g4dn.8xlarge, ml.inf1.24xlarge, ml.m5d.2xlarge, ml.t2.2xlarge, ml.c5d.18xlarge, ml.m5d.4xlarge, ml.t2.medium, ml.c5.18xlarge, ml.r5d.2xlarge, ml.r5.2xlarge, ml.p3.2xlarge, ml.m5d.large, ml.m5.xlarge, ml.m4.10xlarge, ml.t2.large, ml.r5d.4xlarge, ml.r5.4xlarge, ml.m5.12xlarge, ml.m4.xlarge, ml.m5.24xlarge, ml.m4.2xlarge, ml.p2.8xlarge, ml.m5.2xlarge, ml.r5d.xlarge, ml.r5d.large, ml.r5.xlarge, ml.r5.large, ml.p3.8xlarge, ml.m4.4xlarge]"
     ]
    }
   ],
   "source": [
    "\n",
    "\n",
    "\n",
    "\n",
    "from sagemaker.predictor import Predictor\n",
    "from sagemaker.serializers import CSVSerializer\n",
    "from sagemaker.deserializers import JSONDeserializer\n",
    "\n",
    "payload = \"-122.23,37.88,41.0,880.0,129.0,322.0,126.0,8.3252,NEAR BAY\"\n",
    "\n",
    "predictor = Predictor(\n",
    "        endpoint_name = endpoint_name,\n",
    "       # sagemaker_session = sagemaker_session,\n",
    "        serializer = CSVSerializer(),\n",
    "        deserializer = JSONDeserializer(),\n",
    "    )\n"
   ]
  },
  {
   "cell_type": "code",
   "execution_count": 38,
   "metadata": {},
   "outputs": [
    {
     "name": "stdout",
     "output_type": "stream",
     "text": [
      "{'instances': [{'features': [-1.3358644914093034, 1.0625114171921215, 0.9843617822955569, -0.7963234446647113, -0.9664904061190807, -0.9606541571538452, -0.9683302007899453, 2.3372729061643134, 0.6152810290729377, -0.07388883558315307, -1.073845989834207, 0.0, 0.0, 0.0, 1.0, 0.0]}]}\n"
     ]
    }
   ],
   "source": [
    "print(predictor.predict(data=payload))"
   ]
  },
  {
   "cell_type": "code",
   "execution_count": 39,
   "metadata": {},
   "outputs": [
    {
     "data": {
      "text/plain": [
       "{'ResponseMetadata': {'RequestId': '215f8680-8a28-4feb-9008-2fead898ae7a',\n",
       "  'HTTPStatusCode': 200,\n",
       "  'HTTPHeaders': {'x-amzn-requestid': '215f8680-8a28-4feb-9008-2fead898ae7a',\n",
       "   'content-type': 'application/x-amz-json-1.1',\n",
       "   'content-length': '0',\n",
       "   'date': 'Thu, 29 Apr 2021 07:52:29 GMT'},\n",
       "  'RetryAttempts': 0}}"
      ]
     },
     "execution_count": 39,
     "metadata": {},
     "output_type": "execute_result"
    }
   ],
   "source": [
    "#Delete the endpoint\n",
    "sm_client = sagemaker_session.boto_session.client('sagemaker')\n",
    "sm_client.delete_endpoint(EndpointName=endpoint_name)"
   ]
  }
 ],
 "metadata": {
  "kernelspec": {
   "display_name": "conda_tensorflow_p36",
   "language": "python",
   "name": "conda_tensorflow_p36"
  },
  "language_info": {
   "codemirror_mode": {
    "name": "ipython",
    "version": 3
   },
   "file_extension": ".py",
   "mimetype": "text/x-python",
   "name": "python",
   "nbconvert_exporter": "python",
   "pygments_lexer": "ipython3",
   "version": "3.6.13"
  }
 },
 "nbformat": 4,
 "nbformat_minor": 4
}
