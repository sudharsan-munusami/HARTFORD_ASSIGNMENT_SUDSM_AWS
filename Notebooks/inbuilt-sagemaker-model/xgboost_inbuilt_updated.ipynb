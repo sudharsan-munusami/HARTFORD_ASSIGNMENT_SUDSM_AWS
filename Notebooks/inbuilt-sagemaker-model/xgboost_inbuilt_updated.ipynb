{
 "cells": [
  {
   "cell_type": "markdown",
   "metadata": {},
   "source": [
    "# Libraries and Installations"
   ]
  },
  {
   "cell_type": "code",
   "execution_count": 1,
   "metadata": {},
   "outputs": [
    {
     "name": "stdout",
     "output_type": "stream",
     "text": [
      "Requirement already satisfied: sagemaker-experiments in c:\\users\\sudharsan.munusa\\anaconda3\\lib\\site-packages (0.1.30)\n",
      "Requirement already satisfied: boto3>=1.16.27 in c:\\users\\sudharsan.munusa\\anaconda3\\lib\\site-packages (from sagemaker-experiments) (1.17.57)\n",
      "Requirement already satisfied: jmespath<1.0.0,>=0.7.1 in c:\\users\\sudharsan.munusa\\anaconda3\\lib\\site-packages (from boto3>=1.16.27->sagemaker-experiments) (0.10.0)\n",
      "Requirement already satisfied: botocore<1.21.0,>=1.20.57 in c:\\users\\sudharsan.munusa\\anaconda3\\lib\\site-packages (from boto3>=1.16.27->sagemaker-experiments) (1.20.57)\n",
      "Requirement already satisfied: s3transfer<0.5.0,>=0.4.0 in c:\\users\\sudharsan.munusa\\anaconda3\\lib\\site-packages (from boto3>=1.16.27->sagemaker-experiments) (0.4.2)\n",
      "Requirement already satisfied: python-dateutil<3.0.0,>=2.1 in c:\\users\\sudharsan.munusa\\anaconda3\\lib\\site-packages (from botocore<1.21.0,>=1.20.57->boto3>=1.16.27->sagemaker-experiments) (2.8.1)\n",
      "Requirement already satisfied: urllib3<1.27,>=1.25.4 in c:\\users\\sudharsan.munusa\\anaconda3\\lib\\site-packages (from botocore<1.21.0,>=1.20.57->boto3>=1.16.27->sagemaker-experiments) (1.25.11)\n",
      "Requirement already satisfied: six>=1.5 in c:\\users\\sudharsan.munusa\\anaconda3\\lib\\site-packages (from python-dateutil<3.0.0,>=2.1->botocore<1.21.0,>=1.20.57->boto3>=1.16.27->sagemaker-experiments) (1.15.0)\n",
      "Collecting s3fs\n",
      "  Downloading s3fs-2021.4.0-py3-none-any.whl (23 kB)\n",
      "Collecting fsspec==2021.04.0\n",
      "  Downloading fsspec-2021.4.0-py3-none-any.whl (108 kB)\n",
      "Collecting aiobotocore>=1.0.1\n",
      "  Downloading aiobotocore-1.3.0.tar.gz (48 kB)\n",
      "Collecting botocore<1.20.50,>=1.20.49"
     ]
    },
    {
     "name": "stderr",
     "output_type": "stream",
     "text": [
      "ERROR: After October 2020 you may experience errors when installing or updating packages. This is because pip will change the way that it resolves dependency conflicts.\n",
      "\n",
      "We recommend you use --use-feature=2020-resolver to test your packages with the new resolver before it becomes the default.\n",
      "\n",
      "boto3 1.17.57 requires botocore<1.21.0,>=1.20.57, but you'll have botocore 1.20.49 which is incompatible.\n"
     ]
    },
    {
     "name": "stdout",
     "output_type": "stream",
     "text": [
      "\n",
      "  Downloading botocore-1.20.49-py2.py3-none-any.whl (7.4 MB)\n",
      "Collecting aiohttp>=3.3.1\n",
      "  Downloading aiohttp-3.7.4.post0-cp38-cp38-win_amd64.whl (635 kB)\n",
      "Requirement already satisfied: wrapt>=1.10.10 in c:\\users\\sudharsan.munusa\\anaconda3\\lib\\site-packages (from aiobotocore>=1.0.1->s3fs) (1.11.2)\n",
      "Collecting aioitertools>=0.5.1\n",
      "  Downloading aioitertools-0.7.1-py3-none-any.whl (20 kB)\n",
      "Requirement already satisfied: python-dateutil<3.0.0,>=2.1 in c:\\users\\sudharsan.munusa\\anaconda3\\lib\\site-packages (from botocore<1.20.50,>=1.20.49->aiobotocore>=1.0.1->s3fs) (2.8.1)\n",
      "Requirement already satisfied: urllib3<1.27,>=1.25.4 in c:\\users\\sudharsan.munusa\\anaconda3\\lib\\site-packages (from botocore<1.20.50,>=1.20.49->aiobotocore>=1.0.1->s3fs) (1.25.11)\n",
      "Requirement already satisfied: jmespath<1.0.0,>=0.7.1 in c:\\users\\sudharsan.munusa\\anaconda3\\lib\\site-packages (from botocore<1.20.50,>=1.20.49->aiobotocore>=1.0.1->s3fs) (0.10.0)\n",
      "Collecting yarl<2.0,>=1.0\n",
      "  Downloading yarl-1.6.3-cp38-cp38-win_amd64.whl (125 kB)\n",
      "Requirement already satisfied: typing-extensions>=3.6.5 in c:\\users\\sudharsan.munusa\\anaconda3\\lib\\site-packages (from aiohttp>=3.3.1->aiobotocore>=1.0.1->s3fs) (3.7.4.3)\n",
      "Requirement already satisfied: attrs>=17.3.0 in c:\\users\\sudharsan.munusa\\anaconda3\\lib\\site-packages (from aiohttp>=3.3.1->aiobotocore>=1.0.1->s3fs) (20.3.0)\n",
      "Collecting async-timeout<4.0,>=3.0\n",
      "  Downloading async_timeout-3.0.1-py3-none-any.whl (8.2 kB)\n",
      "Collecting multidict<7.0,>=4.5\n",
      "  Downloading multidict-5.1.0-cp38-cp38-win_amd64.whl (48 kB)\n",
      "Requirement already satisfied: chardet<5.0,>=2.0 in c:\\users\\sudharsan.munusa\\anaconda3\\lib\\site-packages (from aiohttp>=3.3.1->aiobotocore>=1.0.1->s3fs) (3.0.4)\n",
      "Requirement already satisfied: six>=1.5 in c:\\users\\sudharsan.munusa\\anaconda3\\lib\\site-packages (from python-dateutil<3.0.0,>=2.1->botocore<1.20.50,>=1.20.49->aiobotocore>=1.0.1->s3fs) (1.15.0)\n",
      "Requirement already satisfied: idna>=2.0 in c:\\users\\sudharsan.munusa\\anaconda3\\lib\\site-packages (from yarl<2.0,>=1.0->aiohttp>=3.3.1->aiobotocore>=1.0.1->s3fs) (2.10)\n",
      "Building wheels for collected packages: aiobotocore\n",
      "  Building wheel for aiobotocore (setup.py): started\n",
      "  Building wheel for aiobotocore (setup.py): finished with status 'done'\n",
      "  Created wheel for aiobotocore: filename=aiobotocore-1.3.0-py3-none-any.whl size=45784 sha256=dbb65cfe3ee7cb0799d03ee3fedf8b9b0d082cbf37340987876ffc23b7621ea2\n",
      "  Stored in directory: c:\\users\\sudharsan.munusa\\appdata\\local\\pip\\cache\\wheels\\f3\\c8\\af\\bc69105edc81462cf4bca30d72a792a173f80522042defc6a1\n",
      "Successfully built aiobotocore\n",
      "Installing collected packages: fsspec, botocore, multidict, yarl, async-timeout, aiohttp, aioitertools, aiobotocore, s3fs\n",
      "  Attempting uninstall: fsspec\n",
      "    Found existing installation: fsspec 0.8.3\n",
      "    Uninstalling fsspec-0.8.3:\n",
      "      Successfully uninstalled fsspec-0.8.3\n",
      "  Attempting uninstall: botocore\n",
      "    Found existing installation: botocore 1.20.57\n",
      "    Uninstalling botocore-1.20.57:\n",
      "      Successfully uninstalled botocore-1.20.57\n",
      "Successfully installed aiobotocore-1.3.0 aiohttp-3.7.4.post0 aioitertools-0.7.1 async-timeout-3.0.1 botocore-1.20.49 fsspec-2021.4.0 multidict-5.1.0 s3fs-2021.4.0 yarl-1.6.3\n",
      "Requirement already satisfied: matplotlib in c:\\users\\sudharsan.munusa\\anaconda3\\lib\\site-packages (3.3.2)\n",
      "Requirement already satisfied: python-dateutil>=2.1 in c:\\users\\sudharsan.munusa\\anaconda3\\lib\\site-packages (from matplotlib) (2.8.1)\n",
      "Requirement already satisfied: certifi>=2020.06.20 in c:\\users\\sudharsan.munusa\\anaconda3\\lib\\site-packages (from matplotlib) (2020.6.20)\n",
      "Requirement already satisfied: kiwisolver>=1.0.1 in c:\\users\\sudharsan.munusa\\anaconda3\\lib\\site-packages (from matplotlib) (1.3.0)\n",
      "Requirement already satisfied: cycler>=0.10 in c:\\users\\sudharsan.munusa\\anaconda3\\lib\\site-packages (from matplotlib) (0.10.0)\n",
      "Requirement already satisfied: pillow>=6.2.0 in c:\\users\\sudharsan.munusa\\anaconda3\\lib\\site-packages (from matplotlib) (8.0.1)\n",
      "Requirement already satisfied: numpy>=1.15 in c:\\users\\sudharsan.munusa\\anaconda3\\lib\\site-packages (from matplotlib) (1.19.2)\n",
      "Requirement already satisfied: pyparsing!=2.0.4,!=2.1.2,!=2.1.6,>=2.0.3 in c:\\users\\sudharsan.munusa\\anaconda3\\lib\\site-packages (from matplotlib) (2.4.7)\n",
      "Requirement already satisfied: six>=1.5 in c:\\users\\sudharsan.munusa\\anaconda3\\lib\\site-packages (from python-dateutil>=2.1->matplotlib) (1.15.0)\n",
      "Requirement already satisfied: seaborn in c:\\users\\sudharsan.munusa\\anaconda3\\lib\\site-packages (0.11.0)\n",
      "Requirement already satisfied: scipy>=1.0 in c:\\users\\sudharsan.munusa\\anaconda3\\lib\\site-packages (from seaborn) (1.5.2)\n",
      "Requirement already satisfied: pandas>=0.23 in c:\\users\\sudharsan.munusa\\anaconda3\\lib\\site-packages (from seaborn) (1.1.3)\n",
      "Requirement already satisfied: numpy>=1.15 in c:\\users\\sudharsan.munusa\\anaconda3\\lib\\site-packages (from seaborn) (1.19.2)\n",
      "Requirement already satisfied: matplotlib>=2.2 in c:\\users\\sudharsan.munusa\\anaconda3\\lib\\site-packages (from seaborn) (3.3.2)\n",
      "Requirement already satisfied: pytz>=2017.2 in c:\\users\\sudharsan.munusa\\anaconda3\\lib\\site-packages (from pandas>=0.23->seaborn) (2020.1)\n",
      "Requirement already satisfied: python-dateutil>=2.7.3 in c:\\users\\sudharsan.munusa\\anaconda3\\lib\\site-packages (from pandas>=0.23->seaborn) (2.8.1)\n",
      "Requirement already satisfied: certifi>=2020.06.20 in c:\\users\\sudharsan.munusa\\anaconda3\\lib\\site-packages (from matplotlib>=2.2->seaborn) (2020.6.20)\n",
      "Requirement already satisfied: kiwisolver>=1.0.1 in c:\\users\\sudharsan.munusa\\anaconda3\\lib\\site-packages (from matplotlib>=2.2->seaborn) (1.3.0)\n",
      "Requirement already satisfied: cycler>=0.10 in c:\\users\\sudharsan.munusa\\anaconda3\\lib\\site-packages (from matplotlib>=2.2->seaborn) (0.10.0)\n",
      "Requirement already satisfied: pillow>=6.2.0 in c:\\users\\sudharsan.munusa\\anaconda3\\lib\\site-packages (from matplotlib>=2.2->seaborn) (8.0.1)\n",
      "Requirement already satisfied: pyparsing!=2.0.4,!=2.1.2,!=2.1.6,>=2.0.3 in c:\\users\\sudharsan.munusa\\anaconda3\\lib\\site-packages (from matplotlib>=2.2->seaborn) (2.4.7)\n",
      "Requirement already satisfied: six>=1.5 in c:\\users\\sudharsan.munusa\\anaconda3\\lib\\site-packages (from python-dateutil>=2.7.3->pandas>=0.23->seaborn) (1.15.0)\n",
      "Collecting shap\n",
      "  Downloading shap-0.39.0-cp38-cp38-win_amd64.whl (414 kB)\n",
      "Requirement already satisfied: pandas in c:\\users\\sudharsan.munusa\\anaconda3\\lib\\site-packages (from shap) (1.1.3)\n",
      "Requirement already satisfied: numba in c:\\users\\sudharsan.munusa\\anaconda3\\lib\\site-packages (from shap) (0.51.2)\n",
      "Collecting slicer==0.0.7\n",
      "  Downloading slicer-0.0.7-py3-none-any.whl (14 kB)\n",
      "Requirement already satisfied: tqdm>4.25.0 in c:\\users\\sudharsan.munusa\\anaconda3\\lib\\site-packages (from shap) (4.50.2)\n",
      "Requirement already satisfied: numpy in c:\\users\\sudharsan.munusa\\anaconda3\\lib\\site-packages (from shap) (1.19.2)\n",
      "Requirement already satisfied: cloudpickle in c:\\users\\sudharsan.munusa\\anaconda3\\lib\\site-packages (from shap) (1.6.0)\n",
      "Requirement already satisfied: scikit-learn in c:\\users\\sudharsan.munusa\\anaconda3\\lib\\site-packages (from shap) (0.23.2)\n",
      "Requirement already satisfied: scipy in c:\\users\\sudharsan.munusa\\anaconda3\\lib\\site-packages (from shap) (1.5.2)\n",
      "Requirement already satisfied: pytz>=2017.2 in c:\\users\\sudharsan.munusa\\anaconda3\\lib\\site-packages (from pandas->shap) (2020.1)\n",
      "Requirement already satisfied: python-dateutil>=2.7.3 in c:\\users\\sudharsan.munusa\\anaconda3\\lib\\site-packages (from pandas->shap) (2.8.1)\n",
      "Requirement already satisfied: llvmlite<0.35,>=0.34.0.dev0 in c:\\users\\sudharsan.munusa\\anaconda3\\lib\\site-packages (from numba->shap) (0.34.0)\n",
      "Requirement already satisfied: setuptools in c:\\users\\sudharsan.munusa\\anaconda3\\lib\\site-packages (from numba->shap) (50.3.1.post20201107)\n",
      "Requirement already satisfied: threadpoolctl>=2.0.0 in c:\\users\\sudharsan.munusa\\anaconda3\\lib\\site-packages (from scikit-learn->shap) (2.1.0)\n",
      "Requirement already satisfied: joblib>=0.11 in c:\\users\\sudharsan.munusa\\anaconda3\\lib\\site-packages (from scikit-learn->shap) (0.17.0)\n",
      "Requirement already satisfied: six>=1.5 in c:\\users\\sudharsan.munusa\\anaconda3\\lib\\site-packages (from python-dateutil>=2.7.3->pandas->shap) (1.15.0)\n",
      "Installing collected packages: slicer, shap\n",
      "Successfully installed shap-0.39.0 slicer-0.0.7\n",
      "Collecting smdebug\n",
      "  Downloading smdebug-1.0.8-py2.py3-none-any.whl (263 kB)\n",
      "Requirement already satisfied: boto3>=1.10.32 in c:\\users\\sudharsan.munusa\\anaconda3\\lib\\site-packages (from smdebug) (1.17.57)"
     ]
    },
    {
     "name": "stderr",
     "output_type": "stream",
     "text": [
      "ERROR: After October 2020 you may experience errors when installing or updating packages. This is because pip will change the way that it resolves dependency conflicts.\n",
      "\n",
      "We recommend you use --use-feature=2020-resolver to test your packages with the new resolver before it becomes the default.\n",
      "\n",
      "aiobotocore 1.3.0 requires botocore<1.20.50,>=1.20.49, but you'll have botocore 1.20.58 which is incompatible.\n"
     ]
    },
    {
     "name": "stdout",
     "output_type": "stream",
     "text": [
      "\n",
      "Requirement already satisfied: numpy>=1.16.0 in c:\\users\\sudharsan.munusa\\anaconda3\\lib\\site-packages (from smdebug) (1.19.2)\n",
      "Requirement already satisfied: packaging in c:\\users\\sudharsan.munusa\\anaconda3\\lib\\site-packages (from smdebug) (20.4)\n",
      "Requirement already satisfied: protobuf>=3.6.0 in c:\\users\\sudharsan.munusa\\anaconda3\\lib\\site-packages (from smdebug) (3.15.8)\n",
      "Collecting pyinstrument>=3.1.3\n",
      "  Downloading pyinstrument-3.4.1-py2.py3-none-any.whl (81 kB)\n",
      "Requirement already satisfied: jmespath<1.0.0,>=0.7.1 in c:\\users\\sudharsan.munusa\\anaconda3\\lib\\site-packages (from boto3>=1.10.32->smdebug) (0.10.0)\n",
      "Collecting botocore<1.21.0,>=1.20.57\n",
      "  Downloading botocore-1.20.58-py2.py3-none-any.whl (7.4 MB)\n",
      "Requirement already satisfied: s3transfer<0.5.0,>=0.4.0 in c:\\users\\sudharsan.munusa\\anaconda3\\lib\\site-packages (from boto3>=1.10.32->smdebug) (0.4.2)\n",
      "Requirement already satisfied: six in c:\\users\\sudharsan.munusa\\anaconda3\\lib\\site-packages (from packaging->smdebug) (1.15.0)\n",
      "Requirement already satisfied: pyparsing>=2.0.2 in c:\\users\\sudharsan.munusa\\anaconda3\\lib\\site-packages (from packaging->smdebug) (2.4.7)\n",
      "Collecting pyinstrument-cext>=0.2.2\n",
      "  Downloading pyinstrument_cext-0.2.4-cp38-cp38-win_amd64.whl (8.5 kB)\n",
      "Requirement already satisfied: python-dateutil<3.0.0,>=2.1 in c:\\users\\sudharsan.munusa\\anaconda3\\lib\\site-packages (from botocore<1.21.0,>=1.20.57->boto3>=1.10.32->smdebug) (2.8.1)\n",
      "Requirement already satisfied: urllib3<1.27,>=1.25.4 in c:\\users\\sudharsan.munusa\\anaconda3\\lib\\site-packages (from botocore<1.21.0,>=1.20.57->boto3>=1.10.32->smdebug) (1.25.11)\n",
      "Installing collected packages: pyinstrument-cext, pyinstrument, smdebug, botocore\n",
      "  Attempting uninstall: botocore\n",
      "    Found existing installation: botocore 1.20.49\n",
      "    Uninstalling botocore-1.20.49:\n",
      "      Successfully uninstalled botocore-1.20.49\n",
      "Successfully installed botocore-1.20.58 pyinstrument-3.4.1 pyinstrument-cext-0.2.4 smdebug-1.0.8\n"
     ]
    }
   ],
   "source": [
    "!pip install sagemaker-experiments\n",
    "!pip install s3fs\n",
    "!pip install matplotlib\n",
    "!pip install seaborn\n",
    "!pip install shap\n",
    "!pip install smdebug\n"
   ]
  },
  {
   "cell_type": "code",
   "execution_count": null,
   "metadata": {},
   "outputs": [],
   "source": [
    "from io import StringIO\n",
    "import numpy as np\n",
    "import os\n",
    "import pandas as pd\n",
    "import boto3\n",
    "import time\n",
    "import s3fs\n",
    "from datetime import datetime\n",
    "\n",
    "import matplotlib.pyplot as plt\n",
    "import seaborn as sns\n",
    "import re\n",
    "import shap\n",
    "from scipy import stats\n",
    "import copy"
   ]
  },
  {
   "cell_type": "code",
   "execution_count": null,
   "metadata": {},
   "outputs": [],
   "source": [
    "import sagemaker\n",
    "from sagemaker import get_execution_role\n",
    "from sagemaker.analytics import ExperimentAnalytics\n",
    "\n",
    "from smexperiments.experiment import Experiment\n",
    "from smexperiments.trial import Trial\n",
    "from smexperiments.trial_component import TrialComponent\n",
    "from smexperiments.tracker import Tracker\n",
    "\n",
    "from sagemaker.sklearn.estimator import SKLearn\n",
    "from sagemaker.debugger import rule_configs, Rule, DebuggerHookConfig,CollectionConfig\n",
    "from sagemaker.estimator import Estimator\n",
    "from sagemaker.session import s3_input\n",
    "from sagemaker.amazon.amazon_estimator import get_image_uri\n",
    "from sagemaker.session import Session\n",
    "\n",
    "from smdebug.trials  import create_trial"
   ]
  },
  {
   "cell_type": "markdown",
   "metadata": {},
   "source": [
    "# Configs"
   ]
  },
  {
   "cell_type": "code",
   "execution_count": null,
   "metadata": {},
   "outputs": [],
   "source": [
    "now = datetime.now()\n",
    "\n",
    "current_time = now.strftime(\"%Y-%m-%d--%H-%M-%S\")\n",
    "print(\"current_time:\",current_time)\n",
    "\n",
    "sagemaker_session = sagemaker.Session()\n",
    "\n",
    "role = get_execution_role()\n",
    "\n",
    "bucket = '1905-assignment2-sm'\n",
    "prefix = 'Scikit-pre-model-Inference-Pipelines'\n",
    "\n",
    "train_data = 's3://1905-assignment2-sm/housing/imput-datasets/train_data_without_header.csv'\n",
    "test_data = 's3://1905-assignment2-sm/housing/imput-datasets/test_data_without_header.csv'\n",
    "\n",
    "FRAMEWORK_VERSION = \"0.23-1\"\n",
    "script_path = 'sklearn_pipeline.py'\n",
    "dependency_path ='dependencies.py'\n",
    "\n",
    "base_job_name = f\"Builtin-XGB-algo-{current_time}\"\n",
    "\n",
    "output_data_prefix = f'housing/datasets/output/{base_job_name}'\n",
    "data_output_path = f's3://{bucket}/{output_data_prefix}'\n",
    "\n",
    "debug_prefix = f'housing/jobs/debug/{base_job_name}'\n",
    "debug_path = f's3://{bucket}/{debug_prefix}'\n",
    "\n",
    "experiment_name_prefix = \"builtin-xgboost-track13\""
   ]
  },
  {
   "cell_type": "code",
   "execution_count": null,
   "metadata": {},
   "outputs": [],
   "source": [
    "train_data"
   ]
  },
  {
   "cell_type": "markdown",
   "metadata": {},
   "source": [
    "# Batch transform"
   ]
  },
  {
   "cell_type": "markdown",
   "metadata": {},
   "source": [
    "## Fit the train data"
   ]
  },
  {
   "cell_type": "code",
   "execution_count": null,
   "metadata": {},
   "outputs": [],
   "source": [
    "sklearn_preprocessor = SKLearn(\n",
    "    entry_point = script_path,\n",
    "    role = role,\n",
    "    framework_version = FRAMEWORK_VERSION,\n",
    "    train_instance_type =  \"ml.m5.xlarge\", #\"local\" ,\n",
    "    train_use_spot_instance = True,\n",
    "    train_max_run = 600,\n",
    "   # train_max_wait = 1200,\n",
    "    dependencies = [dependency_path],\n",
    "    sagemaker_session = sagemaker_session)"
   ]
  },
  {
   "cell_type": "code",
   "execution_count": null,
   "metadata": {},
   "outputs": [],
   "source": [
    "role"
   ]
  },
  {
   "cell_type": "code",
   "execution_count": null,
   "metadata": {},
   "outputs": [],
   "source": [
    "sklearn_preprocessor.fit(\n",
    "    inputs={'train':train_data},\n",
    "    job_name=base_job_name)"
   ]
  },
  {
   "cell_type": "markdown",
   "metadata": {},
   "source": [
    "## Transform the training data"
   ]
  },
  {
   "cell_type": "code",
   "execution_count": null,
   "metadata": {},
   "outputs": [],
   "source": [
    "transformer = sklearn_preprocessor.transformer(\n",
    "    instance_count=1,\n",
    "    instance_type='ml.m5.xlarge',\n",
    "    assemble_with = 'Line',\n",
    "    accept = 'text/csv',\n",
    "    output_path=data_output_path)"
   ]
  },
  {
   "cell_type": "code",
   "execution_count": null,
   "metadata": {},
   "outputs": [],
   "source": [
    "transformer.transform(\n",
    "    data=train_data,\n",
    "    content_type=\"text/csv\",\n",
    "    job_name=base_job_name+'-train')\n",
    "\n",
    "print(\"Waiting for transform job:\" + transformer.latest_transform_job.job_name)\n",
    "transformer.wait()"
   ]
  },
  {
   "cell_type": "code",
   "execution_count": null,
   "metadata": {},
   "outputs": [],
   "source": [
    "preprocessed_train_data = transformer.output_path"
   ]
  },
  {
   "cell_type": "code",
   "execution_count": null,
   "metadata": {},
   "outputs": [],
   "source": [
    "preprocessed_train_data"
   ]
  },
  {
   "cell_type": "markdown",
   "metadata": {},
   "source": [
    "## Transform the test data"
   ]
  },
  {
   "cell_type": "code",
   "execution_count": null,
   "metadata": {},
   "outputs": [],
   "source": [
    "transformer.transform(\n",
    "    data=test_data,\n",
    "    content_type=\"text/csv\",\n",
    "    job_name=base_job_name+\"-test\")\n",
    "\n",
    "print(\"Waiting for transform job:\" + transformer.latest_transform_job.job_name)\n",
    "transformer.wait()"
   ]
  },
  {
   "cell_type": "code",
   "execution_count": null,
   "metadata": {},
   "outputs": [],
   "source": [
    "preprocessed_test_data = transformer.output_path"
   ]
  },
  {
   "cell_type": "code",
   "execution_count": null,
   "metadata": {},
   "outputs": [],
   "source": [
    "f'{output_data_prefix}'"
   ]
  },
  {
   "cell_type": "markdown",
   "metadata": {},
   "source": [
    "## Upload processed data to s3"
   ]
  },
  {
   "cell_type": "code",
   "execution_count": null,
   "metadata": {},
   "outputs": [],
   "source": [
    "client = boto3.client('s3')\n",
    "obj = client.get_object(Bucket=bucket, Key = f'{output_data_prefix}/train_data_without_header.csv.out')\n",
    "body = obj['Body']\n",
    "csv_string = body.read().decode('utf-8')\n",
    "processed_train_data = pd.read_csv(StringIO(csv_string))"
   ]
  },
  {
   "cell_type": "code",
   "execution_count": null,
   "metadata": {},
   "outputs": [],
   "source": [
    "train_file = 'processed_train_data.csv'\n",
    "processed_train_data.to_csv(train_file,index=False,header=False)\n",
    "with open(train_file,'rb') as data:\n",
    "    boto3.Session().resource('s3').Bucket(bucket).upload_fileobj(data,os.path.join(output_data_prefix,'processed-train-data.csv'))"
   ]
  },
  {
   "cell_type": "code",
   "execution_count": null,
   "metadata": {},
   "outputs": [],
   "source": [
    "obj = client.get_object(Bucket=bucket, Key = f'{output_data_prefix}/test_data_without_header.csv.out')\n",
    "body = obj['Body']\n",
    "csv_string = body.read().decode('utf-8')\n",
    "processed_test_data = pd.read_csv(StringIO(csv_string))\n",
    "\n",
    "test_file = 'processed_test_data.csv'\n",
    "processed_test_data.to_csv(test_file,index=False,header=False)\n",
    "with open(test_file,'rb') as data:\n",
    "    boto3.Session().resource('s3').Bucket(bucket).upload_fileobj(data,os.path.join(output_data_prefix,'processed-test-data.csv'))"
   ]
  }
 ],
 "metadata": {
  "kernelspec": {
   "display_name": "Python 3",
   "language": "python",
   "name": "python3"
  },
  "language_info": {
   "codemirror_mode": {
    "name": "ipython",
    "version": 3
   },
   "file_extension": ".py",
   "mimetype": "text/x-python",
   "name": "python",
   "nbconvert_exporter": "python",
   "pygments_lexer": "ipython3",
   "version": "3.8.5"
  }
 },
 "nbformat": 4,
 "nbformat_minor": 4
}
